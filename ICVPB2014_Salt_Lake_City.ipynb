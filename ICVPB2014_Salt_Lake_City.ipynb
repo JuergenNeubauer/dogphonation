{
 "metadata": {
  "name": ""
 },
 "nbformat": 3,
 "nbformat_minor": 0,
 "worksheets": [
  {
   "cells": [
    {
     "cell_type": "raw",
     "metadata": {
      "slideshow": {
       "slide_type": "skip"
      }
     },
     "source": [
      "<style type=\"text/css\">\n",
      "    .input, .output_prompt {\n",
      "            display:none !important;\n",
      "    }\n",
      "    \n",
      "    table, th, tr, td {\n",
      "            border: none;\n",
      "            text-align: center;\n",
      "            align-items: center;\n",
      "            align-content: center;\n",
      "            background-color: orange;\n",
      "    }\n",
      "    \n",
      "    figure {\n",
      "        border: none;\n",
      "        text-align: center;\n",
      "        display: inline;\n",
      "    }\n",
      "    \n",
      "    figcaption {\n",
      "        border: none;\n",
      "        text-align: center;\n",
      "    }\n",
      "</style>"
     ]
    },
    {
     "cell_type": "code",
     "collapsed": false,
     "input": [
      "from IPython.display import display, HTML, Image\n",
      "from wand.image import Image as WImage"
     ],
     "language": "python",
     "metadata": {
      "slideshow": {
       "slide_type": "skip"
      }
     },
     "outputs": []
    },
    {
     "cell_type": "code",
     "collapsed": false,
     "input": [
      "s = \"\"\"\n",
      "\n",
      "<style>\n",
      "\n",
      "div.cell, div.text_cell_render {\n",
      "        width:100%;\n",
      "        margin-left:1%;\n",
      "        margin-right:auto;\n",
      "}\n",
      "\n",
      ".rendered_html {\n",
      "    font-family: \"proxima-nova\", helvetica;\n",
      "    font-size: 150%;\n",
      "    line-height: 1.3;\n",
      "}\n",
      "\n",
      ".rendered_html h1 {\n",
      "    margin: 0.25em 0em 0.5em;\n",
      "    # color: #015C9C;\n",
      "    color: #CC3300;\n",
      "    text-align: center;\n",
      "    line-height: 1.2; \n",
      "    page-break-before: always;\n",
      "    font-size: 250%;\n",
      "}\n",
      "\n",
      ".rendered_html h2 {\n",
      "    margin: 1.1em 0em 0.5em;\n",
      "    color: black;\n",
      "    line-height: 1.2;\n",
      "    text-align: center;\n",
      "}\n",
      "\n",
      ".rendered_html h3 {\n",
      "    margin: 1.1em 0em 0.5em;\n",
      "    color: black;\n",
      "    line-height: 1.2;\n",
      "}\n",
      "\n",
      ".rendered_html li {\n",
      "    font-size: 120%\n",
      "    line-height: 1.5;\n",
      "}\n",
      "\n",
      ".prompt {\n",
      "    font-size: 120%; \n",
      "}\n",
      "\n",
      ".CodeMirror-lines {\n",
      "    font-size: 120%; \n",
      "}\n",
      "\n",
      ".output_area {\n",
      "    font-size: 120%; \n",
      "}\n",
      "\n",
      "#notebook {\n",
      "#     background-image: url('files/images/witewall_3.png');\n",
      "# }\n",
      "\n",
      "h1.bigtitle {\n",
      "    margin: 4cm 1cm 4cm 1cm;\n",
      "    font-size: 300%;\n",
      "}\n",
      "\n",
      "h3.point {\n",
      "    font-size: 200%;\n",
      "    text-align: center;\n",
      "    margin: 2em 0em 2em 0em;\n",
      "    color: #26465D;\n",
      "}\n",
      "\n",
      ".logo {\n",
      "    margin: 20px 0 20px 0;\n",
      "}\n",
      "\n",
      "a.anchor-link {\n",
      "    display: none;\n",
      "}\n",
      "\n",
      "h1.title { \n",
      "    font-size: 250%;\n",
      "}\n",
      "\n",
      "# div.cell{\n",
      "#         max-width:750px;\n",
      "#         margin-left:auto;\n",
      "#         margin-right:auto;\n",
      "# }\n",
      "\n",
      "\n",
      "</style>\n",
      "\"\"\"\n",
      "\n",
      "display(HTML(s))"
     ],
     "language": "python",
     "metadata": {
      "slideshow": {
       "slide_type": "skip"
      }
     },
     "outputs": [
      {
       "html": [
        "\n",
        "\n",
        "<style>\n",
        "\n",
        "div.cell, div.text_cell_render {\n",
        "        width:100%;\n",
        "        margin-left:1%;\n",
        "        margin-right:auto;\n",
        "}\n",
        "\n",
        ".rendered_html {\n",
        "    font-family: \"proxima-nova\", helvetica;\n",
        "    font-size: 150%;\n",
        "    line-height: 1.3;\n",
        "}\n",
        "\n",
        ".rendered_html h1 {\n",
        "    margin: 0.25em 0em 0.5em;\n",
        "    # color: #015C9C;\n",
        "    color: #CC3300;\n",
        "    text-align: center;\n",
        "    line-height: 1.2; \n",
        "    page-break-before: always;\n",
        "    font-size: 250%;\n",
        "}\n",
        "\n",
        ".rendered_html h2 {\n",
        "    margin: 1.1em 0em 0.5em;\n",
        "    color: black;\n",
        "    line-height: 1.2;\n",
        "    text-align: center;\n",
        "}\n",
        "\n",
        ".rendered_html h3 {\n",
        "    margin: 1.1em 0em 0.5em;\n",
        "    color: black;\n",
        "    line-height: 1.2;\n",
        "}\n",
        "\n",
        ".rendered_html li {\n",
        "    font-size: 120%\n",
        "    line-height: 1.5;\n",
        "}\n",
        "\n",
        ".prompt {\n",
        "    font-size: 120%; \n",
        "}\n",
        "\n",
        ".CodeMirror-lines {\n",
        "    font-size: 120%; \n",
        "}\n",
        "\n",
        ".output_area {\n",
        "    font-size: 120%; \n",
        "}\n",
        "\n",
        "#notebook {\n",
        "#     background-image: url('files/images/witewall_3.png');\n",
        "# }\n",
        "\n",
        "h1.bigtitle {\n",
        "    margin: 4cm 1cm 4cm 1cm;\n",
        "    font-size: 300%;\n",
        "}\n",
        "\n",
        "h3.point {\n",
        "    font-size: 200%;\n",
        "    text-align: center;\n",
        "    margin: 2em 0em 2em 0em;\n",
        "    color: #26465D;\n",
        "}\n",
        "\n",
        ".logo {\n",
        "    margin: 20px 0 20px 0;\n",
        "}\n",
        "\n",
        "a.anchor-link {\n",
        "    display: none;\n",
        "}\n",
        "\n",
        "h1.title { \n",
        "    font-size: 250%;\n",
        "}\n",
        "\n",
        "# div.cell{\n",
        "#         max-width:750px;\n",
        "#         margin-left:auto;\n",
        "#         margin-right:auto;\n",
        "# }\n",
        "\n",
        "\n",
        "</style>\n"
       ],
       "metadata": {},
       "output_type": "display_data",
       "text": [
        "<IPython.core.display.HTML at 0x375cd50>"
       ]
      }
     ],
     "prompt_number": 19
    },
    {
     "cell_type": "markdown",
     "metadata": {
      "slideshow": {
       "slide_type": "slide"
      }
     },
     "source": [
      "<center>\n",
      "<h1 class='title'> Comprehensive Bifurcation Analysis<br>in a Neuromuscularly-Controlled <br>In Vivo Canine Larynx </h1>\n",
      "\n",
      "<h2 > Juergen Neubauer and Dinesh K. Chhetri </h2>\n",
      "\n",
      "<h3 > Simon Levin MCMSC @ ASU <br> Head and Neck Surgery @ UCLA </h3>\n",
      "\n",
      "<h4 > ICVPB Salt Lake City, 2014 </h4>\n",
      "\n",
      "<h4> Supported by NIH RO1 DC011300 </h4>\n",
      "</center>"
     ]
    },
    {
     "cell_type": "raw",
     "metadata": {
      "slideshow": {
       "slide_type": "notes"
      }
     },
     "source": [
      "Over the last couple of years we have been developing an experimental setup to catalog the complete vocal fold dynamics in our in vivo dog model."
     ]
    },
    {
     "cell_type": "markdown",
     "metadata": {
      "slideshow": {
       "slide_type": "slide"
      }
     },
     "source": [
      "# Wanted\n",
      "\n",
      "## Complete description of the vocal fold dynamics in an *in vivo* model"
     ]
    },
    {
     "cell_type": "raw",
     "metadata": {
      "slideshow": {
       "slide_type": "notes"
      }
     },
     "source": [
      "So why is this necessary? We need such a complete description to understand the neuromuscular control of fundamental frequency, loudness, voice quality and pathologies. We need it to assess the dynamic equivalence of larynges of different species. And we need it to validate theoretical and computational models."
     ]
    },
    {
     "cell_type": "markdown",
     "metadata": {
      "slideshow": {
       "slide_type": "slide"
      }
     },
     "source": [
      "# Why\n",
      "## Neuro-muscular control of F0, loudness, voice quality, pathologies\n",
      "## Dynamic equivalence of larynges of different species\n",
      "## Model validation"
     ]
    },
    {
     "cell_type": "raw",
     "metadata": {
      "slideshow": {
       "slide_type": "notes"
      }
     },
     "source": [
      "How are we doing this? \n",
      "\n",
      "We do this with a comprehensive and systematic experimental bifurcation analysis. \n",
      "\n",
      "For example, I'm showing the most interesting and important bifurcations, the phonation onset, which is a Hopf bifurcation. \n",
      "\n",
      "In this spectrogram of the subglottal acoustic signal, there is a transition from aphonia to vocal fold vibration as demonstrated by the appearance of stack of harmonics on the right side of the spectrogram. \n",
      "\n",
      "This happens due to an increase in subglottal pressure.\n",
      "\n",
      "I will call this kind of spectrogram 'spectral bifurcation diagram' and I will show many more of them in a second. \n",
      "\n",
      "These spectral bifurcation diagrams are the basic building block to characterize the overall vocal fold dynamics."
     ]
    },
    {
     "cell_type": "markdown",
     "metadata": {
      "slideshow": {
       "slide_type": "slide"
      }
     },
     "source": [
      "# Bifurcation analysis in *in vivo* dog experiment\n",
      "\n",
      "<center>\n",
      "<img src=\"files/ICVPB2014_Salt_Lake_City.images/bifurcation.png\" width=900 />\n",
      "</center>\n",
      "\n",
      "## Phonation onset, a Hopf bifurcation during air flow ramp"
     ]
    },
    {
     "cell_type": "raw",
     "metadata": {
      "slideshow": {
       "slide_type": "notes"
      }
     },
     "source": [
      "The phonation onset is only one example of bifurcations that we typcially see in our experiments. \n",
      "\n",
      "We also all other kinds of bifurcations that typcially occur in nonlinear systems. \n",
      "\n",
      "Interestingly, we observe frequency jumps that might be linked to chest-falsetto register transitions."
     ]
    },
    {
     "cell_type": "markdown",
     "metadata": {
      "slideshow": {
       "slide_type": "slide"
      }
     },
     "source": [
      "# Observed bifurcations\n",
      "\n",
      "## Hopf bifurcation\n",
      "## Subharmonic bifurcation\n",
      "## Frequency jumps\n",
      "## Secondary Hopf bifurcation\n",
      "## Sudden transition to chaotic vibrations"
     ]
    },
    {
     "cell_type": "raw",
     "metadata": {
      "slideshow": {
       "slide_type": "notes"
      }
     },
     "source": [
      "When do we get these bifurcations? \n",
      "\n",
      "Different bifurcations appear for different kinds of manipulations of the laryngeal muscles. \n",
      "\n",
      "Muscles are like actuators, they deform the larynx, and so they set the vocal fold posture and the internal stiffnesses. \n",
      "\n",
      "When we blow air through such a deformed larynx, all kinds of bifurcations can appear.\n",
      "\n",
      "In our experiments we control the muscles by stimulating the nerves. \n",
      "\n",
      "These are the SLN, RLN, and branches of the RLN.\n",
      "\n",
      "This example shows all locations of landmark points on the vocal folds for different muscle activations."
     ]
    },
    {
     "cell_type": "markdown",
     "metadata": {
      "slideshow": {
       "slide_type": "slide"
      }
     },
     "source": [
      "# Bifurcations induced by neuromuscular control\n",
      "\n",
      "<center>\n",
      "<img src=\"files/ICVPB2014_Salt_Lake_City.images/postures.png\" width=800 />\n",
      "</center>\n",
      "\n",
      "## Computer-controlled, automated pulse train sequences (1500 ms)"
     ]
    },
    {
     "cell_type": "raw",
     "metadata": {
      "slideshow": {
       "slide_type": "notes"
      }
     },
     "source": [
      "Different bifurcations also occur when we apply an air flow ramp to each of the muscle manipulations. \n",
      "\n",
      "Due to some glottal flow resistance, this causes the subglottal pressure to increase. \n",
      "\n",
      "Then, usually, phonation onset occurs, or, for even high pressures, all other kinds of bifurcations can occur.\n",
      "\n",
      "To give you an idea of how low of a subglottal pressure we can find at phonation onset in our in vivo experiments, it is about 2 cm of water, so similar to the lowest onset pressure known in human phonation."
     ]
    },
    {
     "cell_type": "markdown",
     "metadata": {
      "slideshow": {
       "slide_type": "slide"
      }
     },
     "source": [
      "# Bifurcations induced by air flow ramp\n",
      "\n",
      "<center>\n",
      "<img src=\"files/ICVPB2014_Salt_Lake_City.images/Lab UCLA 2012 02-16, Dog Experiment CHS/DSC_0039.mod.png\" width=800 />\n",
      "</center>\n",
      "\n",
      "## Computer-controlled linear flow ramp -- Increasing subglottal pressure\n"
     ]
    },
    {
     "cell_type": "raw",
     "metadata": {
      "slideshow": {
       "slide_type": "notes"
      }
     },
     "source": [
      "There are a couple of particularly interesting manipulations of the larynx. \n",
      "\n",
      "First I'll show an example of a left-right asymmetric stimulation experiment. \n",
      "\n",
      "Such a manipulation simulates a unilateral paresis or a unilateral vocal fold paralysis.\n",
      "\n",
      "Along each row, the left SLN level increases in 7 steps. Along each column, the right SLN level increases also in 7 steps.\n",
      "\n",
      "The overall array of spectral bifurcation diagrams looks symmetric with respect to the diagonal line. The diagonal would correspond to a nominal left-right symmetric stimulation. \n",
      "\n",
      "For low levels of SLN stimulation, we can see more regular phonation with a low fundamental frequency. \n",
      "\n",
      "For medium levels, broadband and chaotic oscillations appear with transitions to regular phonation. \n",
      "\n",
      "At the highest levels, again more regular phonation, now with higher fundamental frequency appear."
     ]
    },
    {
     "cell_type": "markdown",
     "metadata": {
      "slideshow": {
       "slide_type": "slide"
      }
     },
     "source": [
      "# Left-right asymmetric stimulation\n",
      "\n",
      "\n",
      "\n",
      "<center>\n",
      "<img src=\"files/ICVPB2014_Salt_Lake_City.images/asymmetricSLN_MidRLN.pout.specgram.600Hz.mod.png\" width=1000 />\n",
      "</center>\n",
      "\n",
      "## right SLN versus left SLN, constant mid RLN"
     ]
    },
    {
     "cell_type": "raw",
     "metadata": {
      "slideshow": {
       "slide_type": "notes"
      }
     },
     "source": [
      "The second example is a agonist-antagonist imbalance scenario. Here the larynx was stimulated symmetrically on the left and the right side.\n",
      "\n",
      "In this case I show levels of TA stimulation increasing along the columns and trunk RLN levels increasing along the rows.\n",
      "\n",
      "Such a manipulation is of fundamental importance to study the influence of vocal fold posture on phonation. We are interested in how muscle synergies create elemental postures and how elemental postures cause different kinds of bifurcation behavior.\n",
      "\n",
      "That means for example, we could ask whether different muscle interactions produce the same bifurcation behavior. We could then rank such task-level muscle redundancies in terms of how difficult they are for the larynx to produce.  \n",
      "\n",
      "In the shown array of spectral bifurcation diagrams I want to point out two features. One is the appearance of broadband chaotic vibration for high TA and high trunk RLN levels, shown in the upper right corner. The other is the fact that TA activation decreases the fundamental frequency at onset. Onset is at the left edge of the stack of harmonics."
     ]
    },
    {
     "cell_type": "markdown",
     "metadata": {
      "slideshow": {
       "slide_type": "slide"
      }
     },
     "source": [
      "# Agonist-antagonist imbalance\n",
      "\n",
      "<center>\n",
      "<img src=\"files/ICVPB2014_Salt_Lake_City.images/trunkRLN_TA_NoSLN Wed Mar 21 2012 17 18 17.psub.specgram.1000Hz.mod.png\" width=1000 />\n",
      "</center>\n",
      "\n",
      "## TA versus trunk RLN (LCA/IA), constant No SLN"
     ]
    },
    {
     "cell_type": "raw",
     "metadata": {
      "slideshow": {
       "slide_type": "notes"
      }
     },
     "source": [
      "We have been focusing on analyzing the most important bifurcation, the Hopf bifurcation at phonation onset.\n",
      "\n",
      "At phonation onset, we measure the onset frequency, subglottal pressure and flow, and we measure vocal fold strain and adduction from the high speed videos of the larynx.\n",
      "\n",
      "Here, I show the very surprising finding that onset frequencies cluster in two branches as a function of vocal fold strain. It's surprising because it's reminiscent of chest and falsetto registers at phonation onset.\n",
      "\n",
      "The influence of muscle redundancies can be seen in the graph on the right, showing the same data as on the left. Different TA activations can lead to the same onset frequency. This happens when the other two muscles involved, the SLN and the trunk RLN, are changed."
     ]
    },
    {
     "cell_type": "markdown",
     "metadata": {
      "slideshow": {
       "slide_type": "slide"
      }
     },
     "source": [
      "# Phonation onset for SLN -- TA -- trunk RLN manipulation\n",
      "\n",
      "<center>\n",
      "<img src=\"files/ICVPB2014_Salt_Lake_City.images/Figure1.png\" width=450 />\n",
      "<img src=\"files/ICVPB2014_Salt_Lake_City.images/Figure1_alt.png\" width=450 />\n",
      "</center>\n",
      "\n",
      "## chest and falsetto-like clusters at phonation onset"
     ]
    },
    {
     "cell_type": "raw",
     "metadata": {
      "slideshow": {
       "slide_type": "notes"
      }
     },
     "source": [
      "We have spent a lot of effort building an in vivo experiment with tight controls, that we can execute quickly and automatically."
     ]
    },
    {
     "cell_type": "markdown",
     "metadata": {
      "slideshow": {
       "slide_type": "slide"
      }
     },
     "source": [
      "# Tight experimental control. Fast and automated setup and experiments.\n",
      "\n",
      "<table>\n",
      "<tr>\n",
      "<td>\n",
      "<figure>\n",
      "    <img src=\"files/ICVPB2014_Salt_Lake_City.images/Lab UCLA 2012 03-14, Dog Experiment CHS/DSC_0008.mod.png\" width=600 />\n",
      "    <figcaption>Controller</figcaption>\n",
      "</figure>\n",
      "</td>\n",
      "<td>\n",
      "<figure>\n",
      "    <img src=\"files/ICVPB2014_Salt_Lake_City.images/Lab UCLA 2012 11-14 Dog Experiment CHS/DSC_0014.mod.png\" width=600 />\n",
      "    <figcaption>In vivo dog model</figcaption>\n",
      "</figure>\n",
      "</td>\n",
      "<td>\n",
      "<figure>\n",
      "    <img src=\"files/ICVPB2014_Salt_Lake_City.images/cables.mod.png\" width=600 />\n",
      "    <figcaption>Extensive control and<br> recording infrastructure</figcaption>\n",
      "<!--\n",
      "<img src=\"files/ICVPB2014_Salt_Lake_City.images/Lab UCLA 2012 02-22, Dog experiment CHS/DSC_0001.jpg\" width=300 />\n",
      "-->\n",
      "</figure>\n",
      "</td>\n",
      "</tr>\n",
      "</table>"
     ]
    },
    {
     "cell_type": "raw",
     "metadata": {
      "slideshow": {
       "slide_type": "notes"
      }
     },
     "source": [
      "In our in vivo experiments the stimulation pulse train delivery is fully computer controlled and automated."
     ]
    },
    {
     "cell_type": "markdown",
     "metadata": {
      "slideshow": {
       "slide_type": "slide"
      }
     },
     "source": [
      "# Computer-controlled and automated nerve stimulation pulse train sequences (8 nerves)\n",
      "\n",
      "<center>\n",
      "<!--\n",
      "<img src=\"files/ICVPB2014_Salt_Lake_City.images/Lab UCLA 2012 11-14 Dog Experiment CHS/DSC_0004.jpg\" width=500 />\n",
      "-->\n",
      "<img src=\"files/ICVPB2014_Salt_Lake_City.images/Lab UCLA 2012 11-14 Dog Experiment CHS/DSC_0009.mod.png\" width=700 />\n",
      "<img src=\"files/ICVPB2014_Salt_Lake_City.images/2013-10-29 LabView control setup for dog phonation experiments/dog_experiment_nerve_settings.png\" width=700 />\n",
      "</center>"
     ]
    },
    {
     "cell_type": "raw",
     "metadata": {
      "slideshow": {
       "slide_type": "notes"
      }
     },
     "source": [
      "We can find nerve stimulation thresholds and nerve stimulation range very quickly, e.g., using a binary search procedure."
     ]
    },
    {
     "cell_type": "markdown",
     "metadata": {
      "slideshow": {
       "slide_type": "slide"
      }
     },
     "source": [
      "# Rapid setup\n",
      "\n",
      "<center>\n",
      "<img src=\"files/ICVPB2014_Salt_Lake_City.images/2013-10-29 LabView control setup for dog phonation experiments/search_excitation_threshold.png\" width=1000 />\n",
      "</center>\n",
      "\n",
      "## Binary search for threshold of nerve excitation (one threshold in 10 seconds)\n",
      "## Stimulation range finding: visual of posturing, real-time transglottal pressure drop change\n"
     ]
    },
    {
     "cell_type": "raw",
     "metadata": {
      "slideshow": {
       "slide_type": "notes"
      }
     },
     "source": [
      "And we measure the relevant variables every five seconds, that is subglottal pressure and flow rate, subglottal acoustics, outside acoustics, EMG from laryngeal muscles, the electrode-nerve impedances, and, last but not least,  high speed video data of the prephonatory posturing behavior and vocal fold vibration.\n",
      "\n",
      "So for example within 5 minutes and 20 seconds we can have a complete set of 8 times 8 , so 64, different stimulation conditions."
     ]
    },
    {
     "cell_type": "markdown",
     "metadata": {
      "slideshow": {
       "slide_type": "slide"
      }
     },
     "source": [
      "# Fast experiments: New recording every 5 seconds\n",
      "\n",
      "<center>\n",
      "<img src=\"files/ICVPB2014_Salt_Lake_City.images/Lab UCLA 2012 02-22, Dog experiment CHS/DSC_0008.mod.png\" width=800 />\n",
      "<!--\n",
      "<img src=\"files/ICVPB2014_Salt_Lake_City.images/Lab UCLA 2012 03-14, Dog Experiment CHS/DSC_0005.mod.png\" width=800 />\n",
      "-->\n",
      "</center>\n",
      "\n",
      "## High speed video: prephonatory posturing, vocal fold vibration\n",
      "## 5:20 min for 64 stimulation conditions"
     ]
    },
    {
     "cell_type": "raw",
     "metadata": {
      "slideshow": {
       "slide_type": "notes"
      }
     },
     "source": [
      "Due to all this effort, we are now able to replicate bifurcation behaviors when we repeat experiments in the same dog.\n",
      "\n",
      "As shown here, the array of spectral bifurcation diagrams is similar for the first and the second take of this repeat experiment. This repeat experiment was done on the same dog.\n",
      "\n",
      "So now we are able to use the bifurcation behavior, symbolized by the spectral bifurcation diagrams, to compare and quantify the overall dynamic behavior, either in the same dog, or between dogs, or across species, and so on."
     ]
    },
    {
     "cell_type": "markdown",
     "metadata": {
      "slideshow": {
       "slide_type": "slide"
      }
     },
     "source": [
      "# Replication possible!\n",
      "\n",
      "## First take ---- Second take\n",
      "<center>\n",
      "<img src=\"files/ICVPB2014_Salt_Lake_City.images/SLN versus right RLN No implant Wed Oct 30 2013 14 52 50.pout.specgram.1000Hz.mod.png\" width=550 />\n",
      "<img src=\"files/ICVPB2014_Salt_Lake_City.images/SLN versus right RLN No implant repeat Wed Oct 30 2013 16 05 22.pout.specgram.1000Hz.mod.png\" width=550 />\n",
      "</center>\n",
      "\n",
      "## Left recurrent nerve paralysis: both SLN versus right RLN"
     ]
    },
    {
     "cell_type": "raw",
     "metadata": {
      "slideshow": {
       "slide_type": "notes"
      }
     },
     "source": [
      "What this means is that we can now collect consistent dynamic data from our in vivo dog experiment with high confidence and at high speed. That allows us to systematically catalog the complete bifurcation behavior.\n",
      "\n",
      "So now it makes sense to use these sets of bifurcation behaviors as a metric to compare different dynamical systems.\n",
      "\n",
      "Different dynamical systems could be different dogs, or different species (either human or dog or bats). So we can now quantitatively answer the question how dynamically equivalent the vocal folds of these different species really are.\n",
      "\n",
      "And last, we can use this bifurcation metric also to decide how effective different intervention procedures are to correct voice pathologies by using vocal fold implants or arytenoid adduction or mass injection."
     ]
    },
    {
     "cell_type": "markdown",
     "metadata": {
      "slideshow": {
       "slide_type": "slide"
      }
     },
     "source": [
      "# Complete bifurcation behavior provides a metric to compare dynamical systems\n",
      "\n",
      "## Metric to measure dynamical equivalence of different larynes: human, dog, bats, etc\n",
      "## Metric to evaluate intervention procedures for voice pathologies: implants, arytenoid adduction, injection"
     ]
    }
   ],
   "metadata": {}
  }
 ]
}