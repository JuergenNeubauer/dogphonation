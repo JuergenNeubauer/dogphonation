{
 "metadata": {
  "name": ""
 },
 "nbformat": 3,
 "nbformat_minor": 0,
 "worksheets": [
  {
   "cells": [
    {
     "cell_type": "raw",
     "metadata": {
      "slideshow": {
       "slide_type": "skip"
      }
     },
     "source": [
      "<style type=\"text/css\">\n",
      "    .input, .output_prompt {\n",
      "            display:none !important;\n",
      "    }\n",
      "    \n",
      "    table, th, tr, td {\n",
      "            border: none;\n",
      "            text-align: center;\n",
      "            align-items: center;\n",
      "            align-content: center;\n",
      "            background-color: orange;\n",
      "    }\n",
      "    \n",
      "    figure {\n",
      "        border: none;\n",
      "        text-align: center;\n",
      "        display: inline;\n",
      "    }\n",
      "    \n",
      "    figcaption {\n",
      "        border: none;\n",
      "        text-align: center;\n",
      "    }\n",
      "</style>"
     ]
    },
    {
     "cell_type": "code",
     "collapsed": false,
     "input": [
      "from IPython.display import display, HTML, Image\n",
      "from wand.image import Image as WImage"
     ],
     "language": "python",
     "metadata": {
      "slideshow": {
       "slide_type": "skip"
      }
     },
     "outputs": []
    },
    {
     "cell_type": "code",
     "collapsed": false,
     "input": [
      "s = \"\"\"\n",
      "\n",
      "<style>\n",
      "\n",
      "div.cell, div.text_cell_render {\n",
      "        width:100%;\n",
      "        margin-left:1%;\n",
      "        margin-right:auto;\n",
      "}\n",
      "\n",
      ".rendered_html {\n",
      "    font-family: \"proxima-nova\", helvetica;\n",
      "    font-size: 150%;\n",
      "    line-height: 1.3;\n",
      "}\n",
      "\n",
      ".rendered_html h1 {\n",
      "    margin: 0.25em 0em 0.5em;\n",
      "    # color: #015C9C;\n",
      "    color: #CC3300;\n",
      "    text-align: center;\n",
      "    line-height: 1.2; \n",
      "    page-break-before: always;\n",
      "    font-size: 250%;\n",
      "}\n",
      "\n",
      ".rendered_html h2 {\n",
      "    margin: 1.1em 0em 0.5em;\n",
      "    color: black;\n",
      "    line-height: 1.2;\n",
      "}\n",
      "\n",
      ".rendered_html h3 {\n",
      "    margin: 1.1em 0em 0.5em;\n",
      "    color: black;\n",
      "    line-height: 1.2;\n",
      "}\n",
      "\n",
      ".rendered_html li {\n",
      "    font-size: 120%\n",
      "    line-height: 1.5;\n",
      "}\n",
      "\n",
      ".prompt {\n",
      "    font-size: 120%; \n",
      "}\n",
      "\n",
      ".CodeMirror-lines {\n",
      "    font-size: 120%; \n",
      "}\n",
      "\n",
      ".output_area {\n",
      "    font-size: 120%; \n",
      "}\n",
      "\n",
      "#notebook {\n",
      "#     background-image: url('files/images/witewall_3.png');\n",
      "# }\n",
      "\n",
      "h1.bigtitle {\n",
      "    margin: 4cm 1cm 4cm 1cm;\n",
      "    font-size: 300%;\n",
      "}\n",
      "\n",
      "h3.point {\n",
      "    font-size: 200%;\n",
      "    text-align: center;\n",
      "    margin: 2em 0em 2em 0em;\n",
      "    color: #26465D;\n",
      "}\n",
      "\n",
      ".logo {\n",
      "    margin: 20px 0 20px 0;\n",
      "}\n",
      "\n",
      "a.anchor-link {\n",
      "    display: none;\n",
      "}\n",
      "\n",
      "h1.title { \n",
      "    font-size: 250%;\n",
      "}\n",
      "\n",
      "# div.cell{\n",
      "#         max-width:750px;\n",
      "#         margin-left:auto;\n",
      "#         margin-right:auto;\n",
      "# }\n",
      "\n",
      "\n",
      "</style>\n",
      "\"\"\"\n",
      "\n",
      "display(HTML(s))"
     ],
     "language": "python",
     "metadata": {},
     "outputs": [
      {
       "html": [
        "\n",
        "\n",
        "<style>\n",
        "\n",
        "div.cell, div.text_cell_render {\n",
        "        width:100%;\n",
        "        margin-left:1%;\n",
        "        margin-right:auto;\n",
        "}\n",
        "\n",
        ".rendered_html {\n",
        "    font-family: \"proxima-nova\", helvetica;\n",
        "    font-size: 150%;\n",
        "    line-height: 1.3;\n",
        "}\n",
        "\n",
        ".rendered_html h1 {\n",
        "    margin: 0.25em 0em 0.5em;\n",
        "    # color: #015C9C;\n",
        "    color: #CC3300;\n",
        "    text-align: center;\n",
        "    line-height: 1.2; \n",
        "    page-break-before: always;\n",
        "    font-size: 250%;\n",
        "}\n",
        "\n",
        ".rendered_html h2 {\n",
        "    margin: 1.1em 0em 0.5em;\n",
        "    color: black;\n",
        "    line-height: 1.2;\n",
        "}\n",
        "\n",
        ".rendered_html h3 {\n",
        "    margin: 1.1em 0em 0.5em;\n",
        "    color: black;\n",
        "    line-height: 1.2;\n",
        "}\n",
        "\n",
        ".rendered_html li {\n",
        "    font-size: 120%\n",
        "    line-height: 1.5;\n",
        "}\n",
        "\n",
        ".prompt {\n",
        "    font-size: 120%; \n",
        "}\n",
        "\n",
        ".CodeMirror-lines {\n",
        "    font-size: 120%; \n",
        "}\n",
        "\n",
        ".output_area {\n",
        "    font-size: 120%; \n",
        "}\n",
        "\n",
        "#notebook {\n",
        "#     background-image: url('files/images/witewall_3.png');\n",
        "# }\n",
        "\n",
        "h1.bigtitle {\n",
        "    margin: 4cm 1cm 4cm 1cm;\n",
        "    font-size: 300%;\n",
        "}\n",
        "\n",
        "h3.point {\n",
        "    font-size: 200%;\n",
        "    text-align: center;\n",
        "    margin: 2em 0em 2em 0em;\n",
        "    color: #26465D;\n",
        "}\n",
        "\n",
        ".logo {\n",
        "    margin: 20px 0 20px 0;\n",
        "}\n",
        "\n",
        "a.anchor-link {\n",
        "    display: none;\n",
        "}\n",
        "\n",
        "h1.title { \n",
        "    font-size: 250%;\n",
        "}\n",
        "\n",
        "# div.cell{\n",
        "#         max-width:750px;\n",
        "#         margin-left:auto;\n",
        "#         margin-right:auto;\n",
        "# }\n",
        "\n",
        "\n",
        "</style>\n"
       ],
       "metadata": {},
       "output_type": "display_data",
       "text": [
        "<IPython.core.display.HTML at 0x375cc50>"
       ]
      }
     ],
     "prompt_number": 18
    },
    {
     "cell_type": "markdown",
     "metadata": {
      "slideshow": {
       "slide_type": "slide"
      }
     },
     "source": [
      "<center>\n",
      "<h1 class='title'> Comprehensive Bifurcation Analysis<br>in a Neuromuscularly-Controlled <br>In Vivo Canine Larynx </h1>\n",
      "\n",
      "<h2 > Juergen Neubauer and Dinesh K. Chhetri </h2>\n",
      "\n",
      "<h3 > Simon Levin MCMSC @ ASU <br> Head and Neck Surgery @ UCLA </h3>\n",
      "\n",
      "<h4 > ICVPB Salt Lake City, 2014 </h4>\n",
      "\n",
      "<h4> Supported by NIH RO1 DC011300</h4>\n",
      "</center>"
     ]
    },
    {
     "cell_type": "markdown",
     "metadata": {
      "slideshow": {
       "slide_type": "notes"
      }
     },
     "source": [
      "\n",
      "## Abstract\n",
      "\n",
      "> In nonlinear dynamical systems, such as the vocal folds in the larynx,\n",
      "bifurcation analysis reveals the complete dynamic behavior. \n",
      "\n",
      "> We present a novel method for performing experimental bifurcation analysis in\n",
      "an in vivo model of phonation. Leveraging systematic and software-controlled nerve\n",
      "stimulation of up to eight laryngeal nerve groups, subglottal\n",
      "flow ramp generation, and synchronous recording of laryngeal EMG, transglottal\n",
      "pressure, acoustic pressure signals, and high speed video we measure a\n",
      "complete set of bifurcation behaviors in short time. Every five seconds the\n",
      "bifurcations of a different glottal posture configuration can be explored. \n",
      "\n",
      "> We demonstrate different neuromuscular stimulation scenarios: left-right asymmetric stimulation of muscle groups; left-right symmetric stimulation of different muscle groups; hemilarynx stimulation.\n",
      "\n",
      "> As a function of neuromuscular control we present different kinds of bifurcations: Hopf bifurcation, cascades of subharmonic bifurcations, frequency jumps, and bifurctions to chaotic vibrations."
     ]
    },
    {
     "cell_type": "markdown",
     "metadata": {
      "slideshow": {
       "slide_type": "slide"
      }
     },
     "source": [
      "# Wanted\n",
      "\n",
      "## Comprehensive study of solutions (dynamic behaviors) of a nonlinear dynamical system, the vocal folds in the larynx"
     ]
    },
    {
     "cell_type": "markdown",
     "metadata": {
      "slideshow": {
       "slide_type": "slide"
      }
     },
     "source": [
      "# Wanted\n",
      "\n",
      "## Catalog of complete dynamic behavior of vocal folds as a function of glottal posture"
     ]
    },
    {
     "cell_type": "markdown",
     "metadata": {
      "slideshow": {
       "slide_type": "slide"
      }
     },
     "source": [
      "# Why\n",
      "## Reveal basic mechanisms of neuromuscular control of F0, loudness, voice quality, pathologies\n",
      "## Framework to assess dynamic equivalence of different larynges (human, dog, bats, birds)\n",
      "## Systematic experimental data for model validation"
     ]
    },
    {
     "cell_type": "markdown",
     "metadata": {
      "slideshow": {
       "slide_type": "slide"
      }
     },
     "source": [
      "# Simple Idea: Bifurcation Analysis in an in vivo dog experiment!\n",
      "\n",
      "# Comprehensively and systematically!"
     ]
    },
    {
     "cell_type": "markdown",
     "metadata": {
      "slideshow": {
       "slide_type": "slide"
      }
     },
     "source": [
      "# Bifurcation Analysis in In Vivo Dog\n",
      "\n",
      "## Phonation onset (Hopf bifurcation) during air flow ramp\n",
      "\n",
      "<center>\n",
      "<img src=\"files/ICVPB2014_Salt_Lake_City.images/bifurcation.png\" width=900 />\n",
      "</center>"
     ]
    },
    {
     "cell_type": "markdown",
     "metadata": {
      "slideshow": {
       "slide_type": "slide"
      }
     },
     "source": [
      "# Types of bifurcations and nonlinear phenomena\n",
      "\n",
      "## Hopf bifurcation (e.g. phonation onset)\n",
      "## Subharmonic bifurcations; folded limit cycle oscillations\n",
      "## Frequency jumps: chest -- falsetto register transition\n",
      "## Secondary Hopf bifurcation; toroidal oscillation -- biphonation\n",
      "## Bifurcations to chaotic vibrations"
     ]
    },
    {
     "cell_type": "markdown",
     "metadata": {
      "slideshow": {
       "slide_type": "slide"
      }
     },
     "source": [
      "# Neuromuscular Control Parameters\n",
      "\n",
      "## Muscles are actuators: deform larynx, determine the posture\n",
      "## Laryngeal muscles set the tone (posture and stiffness) in terms of strain and stress that the subglottal pressure and flow can play with\n",
      "## Control the actuators via their connected nerves: SLN, RLN, and branches of the RLN (TA, LCA/IA, PCA)\n",
      "\n",
      "<center>\n",
      "<img src=\"files/ICVPB2014_Salt_Lake_City.images/postures.png\" width=800 />\n",
      "</center>"
     ]
    },
    {
     "cell_type": "markdown",
     "metadata": {
      "slideshow": {
       "slide_type": "skip"
      }
     },
     "source": [
      "ToDo:\n",
      "\n",
      "show kymogram with data overlays or on top of each other: highlight the POSTURE and the VIBRATION in the high speed video\n",
      "\n",
      "\n",
      "show strain data and vocal-process distance\n",
      "\n",
      "NO hemilarynx"
     ]
    },
    {
     "cell_type": "markdown",
     "metadata": {
      "slideshow": {
       "slide_type": "slide"
      }
     },
     "source": [
      "# Neuromuscular stimulation scenarios\n",
      "\n",
      "## Left-Right Asymmetric stimulation of muscle groups (e.g. left versus right TA)\n",
      "## Agonist-Antagonist imbalance -- Left-Right Symmetric stimulation of different muscle groups (e.g. SLN versus TA)"
     ]
    },
    {
     "cell_type": "markdown",
     "metadata": {
      "slideshow": {
       "slide_type": "slide"
      }
     },
     "source": [
      "# Example: asymmetric SLN for constant mid RLN\n",
      "\n",
      "<center>\n",
      "<img src=\"files/ICVPB2014_Salt_Lake_City.images/asymmetricSLN_MidRLN.pout.specgram.600Hz.png\" width=1000 />\n",
      "</center>"
     ]
    },
    {
     "cell_type": "markdown",
     "metadata": {
      "slideshow": {
       "slide_type": "slide"
      }
     },
     "source": [
      "# Example: trunk RLN versus TA for constant (no) SLN\n",
      "\n",
      "<center>\n",
      "<img src=\"files/ICVPB2014_Salt_Lake_City.images/trunkRLN_TA_NoSLN Wed Mar 21 2012 17 18 17.psub.specgram.1000Hz.mod.png\" width=1000 />\n",
      "</center>"
     ]
    },
    {
     "cell_type": "markdown",
     "metadata": {
      "slideshow": {
       "slide_type": "slide"
      }
     },
     "source": [
      "# Phonation onset: Phonation frequency (F0) -- vocal fold length (strain)\n",
      "\n",
      "<center>\n",
      "<img src=\"files/ICVPB2014_Salt_Lake_City.images/Figure1.png\" width=600 />\n",
      "</center>"
     ]
    },
    {
     "cell_type": "raw",
     "metadata": {
      "slideshow": {
       "slide_type": "skip"
      }
     },
     "source": [
      "F1 = WImage(filename = 'Figure1.pdf')\n",
      "F1alt = WImage(filename = 'Figure1_alt.pdf')"
     ]
    },
    {
     "cell_type": "raw",
     "metadata": {
      "slideshow": {
       "slide_type": "skip"
      }
     },
     "source": [
      "display(F1)"
     ]
    },
    {
     "cell_type": "markdown",
     "metadata": {
      "slideshow": {
       "slide_type": "slide"
      }
     },
     "source": [
      "# Detail: Influence of TA activation\n",
      "\n",
      "<center>\n",
      "<img src=\"files/ICVPB2014_Salt_Lake_City.images/Figure1_alt.png\" width=600 />\n",
      "</center>"
     ]
    },
    {
     "cell_type": "raw",
     "metadata": {
      "slideshow": {
       "slide_type": "skip"
      }
     },
     "source": [
      "display(F1alt)"
     ]
    },
    {
     "cell_type": "markdown",
     "metadata": {
      "slideshow": {
       "slide_type": "slide"
      }
     },
     "source": [
      "# Example: SLN versus trunk RLN for different TA\n",
      "\n",
      "## High speed video recording: glottal posturing and vocal fold vibration\n",
      "\n",
      "<center>\n",
      "<img src=\"files/ICVPB2014_Salt_Lake_City.images/TAatOnset.mod.png\" width=1000 />\n",
      "<img src=\"files/ICVPB2014_Salt_Lake_City.images/SLN_trunkRLN_DifferentTA.kymoim.mod.png\" width=1000 />\n",
      "</center>"
     ]
    },
    {
     "cell_type": "markdown",
     "metadata": {
      "slideshow": {
       "slide_type": "slide"
      }
     },
     "source": [
      "# Example: Repeat Experiments\n",
      "## Left Vagal Paralysis: Right SLN versus Right RLN\n",
      "\n",
      "<center>\n",
      "<img src=\"files/ICVPB2014_Salt_Lake_City.images/right SLN versus right RLN baseline no implant Wed Oct 30 2013 16 25 51.pout.specgram.1000Hz.mod.png\" width=450 />\n",
      "<img src=\"files/ICVPB2014_Salt_Lake_City.images/right SLN versus right RLN no implant baseline repeat Wed Oct 30 2013 17 47 30.pout.specgram.1000Hz.mod.png\" width=450 />\n",
      "</center>"
     ]
    },
    {
     "cell_type": "markdown",
     "metadata": {
      "slideshow": {
       "slide_type": "slide"
      }
     },
     "source": [
      "# Repeat Experiments\n",
      "\n",
      "## Left Recurrent Nerve Paralysis: SLN versus right RLN\n",
      "\n",
      "<center>\n",
      "<img src=\"files/ICVPB2014_Salt_Lake_City.images/SLN versus right RLN No implant Wed Oct 30 2013 14 52 50.pout.specgram.1000Hz.mod.png\" width=450 />\n",
      "<img src=\"files/ICVPB2014_Salt_Lake_City.images/SLN versus right RLN No implant repeat Wed Oct 30 2013 16 05 22.pout.specgram.1000Hz.mod.png\" width=450 />\n",
      "</center>"
     ]
    },
    {
     "cell_type": "markdown",
     "metadata": {
      "slideshow": {
       "slide_type": "slide"
      }
     },
     "source": [
      "# Bifurcation behavior: Metric to compare dynamical systems:\n",
      "\n",
      "## Larynges: human, dog, sheep, etc: Are they dynamically equivalent?\n",
      "## Intervention procedures for voice pathologies: implants, arytenoid adduction, injection\n",
      "## Grades of paresis/paralysis"
     ]
    },
    {
     "cell_type": "markdown",
     "metadata": {
      "slideshow": {
       "slide_type": "slide"
      }
     },
     "source": [
      "# Goal: Systematic catalog of dynamical behaviors as a function of posture and stimulation level\n",
      "\n",
      "## Asymmetry\n",
      "## Agonist-Antagonist interactions\n",
      "## Redundancies in laryngeal musculo-skeletal framework\n",
      "## Equivalences in laryngeal musculo-skeletal framework"
     ]
    },
    {
     "cell_type": "markdown",
     "metadata": {
      "slideshow": {
       "slide_type": "skip"
      }
     },
     "source": [
      "## to infer INTERNAL laryngeal state from kinematic and dynamic behavior"
     ]
    },
    {
     "cell_type": "markdown",
     "metadata": {
      "slideshow": {
       "slide_type": "slide"
      }
     },
     "source": [
      "# Not-so-simple details: Tight experimental control. Fast and automated experiments.\n",
      "\n",
      "<table>\n",
      "<tr>\n",
      "<td>\n",
      "<figure>\n",
      "    <img src=\"files/ICVPB2014_Salt_Lake_City.images/Lab UCLA 2012 03-14, Dog Experiment CHS/DSC_0008.mod.png\" width=600 />\n",
      "    <figcaption>Controller</figcaption>\n",
      "</figure>\n",
      "</td>\n",
      "<td>\n",
      "<figure>\n",
      "    <img src=\"files/ICVPB2014_Salt_Lake_City.images/Lab UCLA 2012 11-14 Dog Experiment CHS/DSC_0014.mod.png\" width=600 />\n",
      "    <figcaption>In vivo dog model</figcaption>\n",
      "</figure>\n",
      "</td>\n",
      "<td>\n",
      "<figure>\n",
      "    <img src=\"files/ICVPB2014_Salt_Lake_City.images/cables.mod.png\" width=600 />\n",
      "    <figcaption>Extensive control and<br> recording infrastructure</figcaption>\n",
      "<!--\n",
      "<img src=\"files/ICVPB2014_Salt_Lake_City.images/Lab UCLA 2012 02-22, Dog experiment CHS/DSC_0001.jpg\" width=300 />\n",
      "-->\n",
      "</figure>\n",
      "</td>\n",
      "</tr>\n",
      "</table>"
     ]
    },
    {
     "cell_type": "markdown",
     "metadata": {
      "slideshow": {
       "slide_type": "slide"
      }
     },
     "source": [
      "# In vivo dog experiment\n",
      "<center>\n",
      "<img src=\"files/ICVPB2014_Salt_Lake_City.images/sketch_setup.png\" width=700 />\n",
      "</center>"
     ]
    },
    {
     "cell_type": "markdown",
     "metadata": {
      "slideshow": {
       "slide_type": "slide"
      }
     },
     "source": [
      "# Software abstraction and automation\n",
      "## Efficient and fast management of experimental complexities\n",
      "<center>\n",
      "<img src=\"files/ICVPB2014_Salt_Lake_City.images/2013-10-29 LabView control setup for dog phonation experiments/dog_experiment_nerve_settings.png\" width=1000 />\n",
      "</center>"
     ]
    },
    {
     "cell_type": "markdown",
     "metadata": {
      "slideshow": {
       "slide_type": "slide"
      }
     },
     "source": [
      "# Laryngeal nerve stimulation\n",
      "\n",
      "## Tripolar Cuff Electrodes, used in Functional Electrical Stimulation (FES)\n",
      "## Stimulation Pulse Trains: short, rectangular, biphasic, charge-balanced (30 microseconds per phase)\n",
      "\n",
      "<center>\n",
      "<img src=\"files/ICVPB2014_Salt_Lake_City.images/2013-10-31/DSC_0005.mod.png\" width=400 />\n",
      "<img src=\"files/ICVPB2014_Salt_Lake_City.images/Lab UCLA 2012 10-17, Dog Experiment CHS/DSC_0008.jpg\" width=400 />\n",
      "</center>"
     ]
    },
    {
     "cell_type": "markdown",
     "metadata": {
      "slideshow": {
       "slide_type": "slide"
      }
     },
     "source": [
      "# Humidified glottal air flow\n",
      "## Fully humidified and heated subglottal air flow, up to 1600 ml/s\n",
      "## Heated supply lines and subglottal expansion chamber: avoid heat and humidification loss\n",
      "\n",
      "<center>\n",
      "<img src=\"files/ICVPB2014_Salt_Lake_City.images/2013-10-31/DSC_0003.mod.png\" width=450 />\n",
      "<img src=\"files/ICVPB2014_Salt_Lake_City.images/Lab UCLA 2012 02-16, Dog Experiment CHS/DSC_0052.mod.png\" width=450 />\n",
      "<!--\n",
      "<img src=\"files/ICVPB2014_Salt_Lake_City.images/Lab UCLA 2012 02-16, Dog Experiment CHS/DSC_0056.mod.png\" width=500 />\n",
      "-->\n",
      "</center>"
     ]
    },
    {
     "cell_type": "markdown",
     "metadata": {
      "slideshow": {
       "slide_type": "slide"
      }
     },
     "source": [
      "# Experimental bifurcation parameter\n",
      "\n",
      "## Computer-controlled linear flow ramp -- Increasing subglottal pressure\n",
      "\n",
      "<center>\n",
      "<img src=\"files/ICVPB2014_Salt_Lake_City.images/Lab UCLA 2012 02-16, Dog Experiment CHS/DSC_0039.mod.png\" width=800 />\n",
      "</center>"
     ]
    },
    {
     "cell_type": "markdown",
     "metadata": {
      "slideshow": {
       "slide_type": "slide"
      }
     },
     "source": [
      "# Nerve stimulation control (8 nerves)\n",
      "\n",
      "## Computer-controlled and automated stimulation pulse train sequences\n",
      "\n",
      "<center>\n",
      "<!--\n",
      "<img src=\"files/ICVPB2014_Salt_Lake_City.images/Lab UCLA 2012 11-14 Dog Experiment CHS/DSC_0004.jpg\" width=500 />\n",
      "-->\n",
      "<img src=\"files/ICVPB2014_Salt_Lake_City.images/Lab UCLA 2012 11-14 Dog Experiment CHS/DSC_0009.mod.png\" width=700 />\n",
      "<img src=\"files/ICVPB2014_Salt_Lake_City.images/2013-10-29 LabView control setup for dog phonation experiments/dog_experiment_nerve_settings.png\" width=700 />\n",
      "</center>"
     ]
    },
    {
     "cell_type": "markdown",
     "metadata": {
      "slideshow": {
       "slide_type": "slide"
      }
     },
     "source": [
      "# Electrode-nerve interface monitoring\n",
      "\n",
      "## current shunting, impedance changes, potential drift\n",
      "\n",
      "<center>\n",
      "<img src=\"files/ICVPB2014_Salt_Lake_City.images/2013-10-29 LabView control setup for dog phonation experiments/dog_experiment_current_voltage.png\" width=1000 />\n",
      "</center>"
     ]
    },
    {
     "cell_type": "markdown",
     "metadata": {
      "slideshow": {
       "slide_type": "slide"
      }
     },
     "source": [
      "# Rapid setup of nerve stimulation parameters: \n",
      "\n",
      "## Binary search for threshold of nerve excitation (one threshold in 10 seconds)\n",
      "## Stimulation range finding assisted by visual of posturing and transglottal pressure drop change\n",
      "\n",
      "<center>\n",
      "<img src=\"files/ICVPB2014_Salt_Lake_City.images/2013-10-29 LabView control setup for dog phonation experiments/search_excitation_threshold.png\" width=1000 />\n",
      "</center>"
     ]
    },
    {
     "cell_type": "raw",
     "metadata": {
      "slideshow": {
       "slide_type": "skip"
      }
     },
     "source": [
      "## exploit diagnostic tools for range finding: subglottal pressure for constant flow rate\n",
      "\n",
      "<center>\n",
      "<img src=\"files/ICVPB2014_Salt_Lake_City.images/\" width=500 />\n",
      "</center>"
     ]
    },
    {
     "cell_type": "markdown",
     "metadata": {
      "slideshow": {
       "slide_type": "slide"
      }
     },
     "source": [
      "# EMG of laryngeal muscles\n",
      "\n",
      "## Excitation threshold finding, Stimulation range finding\n",
      "## Measure relative strength and speed of muscle response: medial, lateral TA, CT, LCA\n",
      "## Study impact of pulse train parameters: pulse repetition rate, pulse shape\n",
      "\n",
      "<center>\n",
      "<img src=\"files/ICVPB2014_Salt_Lake_City.images/EMGtraces_09.mod.png\" width=600 />\n",
      "<img src=\"files/ICVPB2014_Salt_Lake_City.images/Lab UCLA 2012 11-14 Dog Experiment CHS/DSC_0011.mod.png\" width=350 />\n",
      "\n",
      "<!--\n",
      "<img src=\"files/ICVPB2014_Salt_Lake_City.images/Lab UCLA 2012 11-14 Dog Experiment CHS/DSC_0014.mod.png\" width=450 />\n",
      "-->\n",
      "\n",
      "</center>"
     ]
    },
    {
     "cell_type": "markdown",
     "metadata": {
      "slideshow": {
       "slide_type": "slide"
      }
     },
     "source": [
      "# Fast experiments: A recording every 5 seconds\n",
      "\n",
      "## High speed motion capture includes prephonatory posturing and vocal fold vibration\n",
      "## 5 minutes to record a comprehensive, systematic set of 64 stimulation conditions\n",
      "## Stimulation range finding and checks also recorded: single nerve stimulation ramps\n",
      "\n",
      "<center>\n",
      "<img src=\"files/ICVPB2014_Salt_Lake_City.images/Lab UCLA 2012 02-22, Dog experiment CHS/DSC_0008.mod.png\" width=800 />\n",
      "<img src=\"files/ICVPB2014_Salt_Lake_City.images/Lab UCLA 2012 03-14, Dog Experiment CHS/DSC_0005.mod.png\" width=800 />\n",
      "</center>"
     ]
    },
    {
     "cell_type": "raw",
     "metadata": {
      "slideshow": {
       "slide_type": "skip"
      }
     },
     "source": [
      "%matplotlib inline"
     ]
    },
    {
     "cell_type": "raw",
     "metadata": {
      "slideshow": {
       "slide_type": "skip"
      }
     },
     "source": [
      "import matplotlib.pyplot as plt\n",
      "_ = plt.plot([1,2,3])"
     ]
    },
    {
     "cell_type": "markdown",
     "metadata": {
      "slideshow": {
       "slide_type": "slide"
      }
     },
     "source": [
      "# Summary\n",
      "\n",
      "## Collect systematic data on kinematic and dynamic behavior of neuro-muscular model of a mammalian larynx\n",
      "\n",
      "## Parameterize vocal posture via laryngeal nerve stimulation\n",
      "\n",
      "## Perform fast setup and experimental runs for consistent dynamic behavior\n",
      "\n",
      "## Monitor controls in realtime and offline\n",
      "\n",
      "## Repeat experiments show comparable robust bifurcation scenarios\n",
      "\n",
      "## Bifurcations: Left-Right Asymmetries; Agonist-Antagonist Muscle Imbalances; Disturbed Muscle Synergies"
     ]
    },
    {
     "cell_type": "code",
     "collapsed": false,
     "input": [
      "\n",
      "\n",
      "\n"
     ],
     "language": "python",
     "metadata": {},
     "outputs": []
    }
   ],
   "metadata": {}
  }
 ]
}