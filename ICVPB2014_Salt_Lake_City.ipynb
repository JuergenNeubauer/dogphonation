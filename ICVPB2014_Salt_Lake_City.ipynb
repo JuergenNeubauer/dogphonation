{
 "metadata": {
  "name": ""
 },
 "nbformat": 3,
 "nbformat_minor": 0,
 "worksheets": [
  {
   "cells": [
    {
     "cell_type": "raw",
     "metadata": {
      "slideshow": {
       "slide_type": "skip"
      }
     },
     "source": [
      "<style type=\"text/css\">\n",
      "    .input, .output_prompt {\n",
      "            display:none !important;\n",
      "    }\n",
      "    \n",
      "    table, th, tr, td {\n",
      "            border: none;\n",
      "            text-align: center;\n",
      "            align-items: center;\n",
      "            align-content: center;\n",
      "            background-color: orange;\n",
      "    }\n",
      "    \n",
      "    figure {\n",
      "        border: none;\n",
      "        text-align: center;\n",
      "        display: inline;\n",
      "    }\n",
      "    \n",
      "    figcaption {\n",
      "        border: none;\n",
      "        text-align: center;\n",
      "    }\n",
      "</style>"
     ]
    },
    {
     "cell_type": "code",
     "collapsed": false,
     "input": [
      "from IPython.display import display, HTML, Image\n",
      "from wand.image import Image as WImage"
     ],
     "language": "python",
     "metadata": {
      "slideshow": {
       "slide_type": "skip"
      }
     },
     "outputs": []
    },
    {
     "cell_type": "code",
     "collapsed": false,
     "input": [
      "s = \"\"\"\n",
      "\n",
      "<style>\n",
      "\n",
      "div.cell, div.text_cell_render {\n",
      "        width:100%;\n",
      "        margin-left:1%;\n",
      "        margin-right:auto;\n",
      "}\n",
      "\n",
      ".rendered_html {\n",
      "    font-family: \"proxima-nova\", helvetica;\n",
      "    font-size: 150%;\n",
      "    line-height: 1.3;\n",
      "}\n",
      "\n",
      ".rendered_html h1 {\n",
      "    margin: 0.25em 0em 0.5em;\n",
      "    # color: #015C9C;\n",
      "    color: #CC3300;\n",
      "    text-align: center;\n",
      "    line-height: 1.2; \n",
      "    page-break-before: always;\n",
      "    font-size: 250%;\n",
      "}\n",
      "\n",
      ".rendered_html h2 {\n",
      "    margin: 1.1em 0em 0.5em;\n",
      "    color: black;\n",
      "    line-height: 1.2;\n",
      "    text-align: center;\n",
      "}\n",
      "\n",
      ".rendered_html h3 {\n",
      "    margin: 1.1em 0em 0.5em;\n",
      "    color: black;\n",
      "    line-height: 1.2;\n",
      "}\n",
      "\n",
      ".rendered_html li {\n",
      "    font-size: 120%\n",
      "    line-height: 1.5;\n",
      "}\n",
      "\n",
      ".prompt {\n",
      "    font-size: 120%; \n",
      "}\n",
      "\n",
      ".CodeMirror-lines {\n",
      "    font-size: 120%; \n",
      "}\n",
      "\n",
      ".output_area {\n",
      "    font-size: 120%; \n",
      "}\n",
      "\n",
      "#notebook {\n",
      "#     background-image: url('files/images/witewall_3.png');\n",
      "# }\n",
      "\n",
      "h1.bigtitle {\n",
      "    margin: 4cm 1cm 4cm 1cm;\n",
      "    font-size: 300%;\n",
      "}\n",
      "\n",
      "h3.point {\n",
      "    font-size: 200%;\n",
      "    text-align: center;\n",
      "    margin: 2em 0em 2em 0em;\n",
      "    color: #26465D;\n",
      "}\n",
      "\n",
      ".logo {\n",
      "    margin: 20px 0 20px 0;\n",
      "}\n",
      "\n",
      "a.anchor-link {\n",
      "    display: none;\n",
      "}\n",
      "\n",
      "h1.title { \n",
      "    font-size: 250%;\n",
      "}\n",
      "\n",
      "# div.cell{\n",
      "#         max-width:750px;\n",
      "#         margin-left:auto;\n",
      "#         margin-right:auto;\n",
      "# }\n",
      "\n",
      "\n",
      "</style>\n",
      "\"\"\"\n",
      "\n",
      "display(HTML(s))"
     ],
     "language": "python",
     "metadata": {
      "slideshow": {
       "slide_type": "skip"
      }
     },
     "outputs": [
      {
       "html": [
        "\n",
        "\n",
        "<style>\n",
        "\n",
        "div.cell, div.text_cell_render {\n",
        "        width:100%;\n",
        "        margin-left:1%;\n",
        "        margin-right:auto;\n",
        "}\n",
        "\n",
        ".rendered_html {\n",
        "    font-family: \"proxima-nova\", helvetica;\n",
        "    font-size: 150%;\n",
        "    line-height: 1.3;\n",
        "}\n",
        "\n",
        ".rendered_html h1 {\n",
        "    margin: 0.25em 0em 0.5em;\n",
        "    # color: #015C9C;\n",
        "    color: #CC3300;\n",
        "    text-align: center;\n",
        "    line-height: 1.2; \n",
        "    page-break-before: always;\n",
        "    font-size: 250%;\n",
        "}\n",
        "\n",
        ".rendered_html h2 {\n",
        "    margin: 1.1em 0em 0.5em;\n",
        "    color: black;\n",
        "    line-height: 1.2;\n",
        "    text-align: center;\n",
        "}\n",
        "\n",
        ".rendered_html h3 {\n",
        "    margin: 1.1em 0em 0.5em;\n",
        "    color: black;\n",
        "    line-height: 1.2;\n",
        "}\n",
        "\n",
        ".rendered_html li {\n",
        "    font-size: 120%\n",
        "    line-height: 1.5;\n",
        "}\n",
        "\n",
        ".prompt {\n",
        "    font-size: 120%; \n",
        "}\n",
        "\n",
        ".CodeMirror-lines {\n",
        "    font-size: 120%; \n",
        "}\n",
        "\n",
        ".output_area {\n",
        "    font-size: 120%; \n",
        "}\n",
        "\n",
        "#notebook {\n",
        "#     background-image: url('files/images/witewall_3.png');\n",
        "# }\n",
        "\n",
        "h1.bigtitle {\n",
        "    margin: 4cm 1cm 4cm 1cm;\n",
        "    font-size: 300%;\n",
        "}\n",
        "\n",
        "h3.point {\n",
        "    font-size: 200%;\n",
        "    text-align: center;\n",
        "    margin: 2em 0em 2em 0em;\n",
        "    color: #26465D;\n",
        "}\n",
        "\n",
        ".logo {\n",
        "    margin: 20px 0 20px 0;\n",
        "}\n",
        "\n",
        "a.anchor-link {\n",
        "    display: none;\n",
        "}\n",
        "\n",
        "h1.title { \n",
        "    font-size: 250%;\n",
        "}\n",
        "\n",
        "# div.cell{\n",
        "#         max-width:750px;\n",
        "#         margin-left:auto;\n",
        "#         margin-right:auto;\n",
        "# }\n",
        "\n",
        "\n",
        "</style>\n"
       ],
       "metadata": {},
       "output_type": "display_data",
       "text": [
        "<IPython.core.display.HTML at 0x375cd50>"
       ]
      }
     ],
     "prompt_number": 19
    },
    {
     "cell_type": "markdown",
     "metadata": {
      "slideshow": {
       "slide_type": "slide"
      }
     },
     "source": [
      "<center>\n",
      "<h1 class='title'> Comprehensive Bifurcation Analysis<br>in a Neuromuscularly-Controlled <br>In Vivo Canine Larynx </h1>\n",
      "\n",
      "<h2 > Juergen Neubauer and Dinesh K. Chhetri </h2>\n",
      "\n",
      "<h3 > Simon Levin MCMSC @ ASU <br> Head and Neck Surgery @ UCLA </h3>\n",
      "\n",
      "<h4 > ICVPB Salt Lake City, 2014 </h4>\n",
      "\n",
      "<h4> Supported by NIH RO1 DC011300</h4>\n",
      "</center>"
     ]
    },
    {
     "cell_type": "raw",
     "metadata": {
      "slideshow": {
       "slide_type": "notes"
      }
     },
     "source": [
      "Over the last couple of years we developed an experimental setup to catalog the complete vocal fold dynamics in our in vivo dog model."
     ]
    },
    {
     "cell_type": "markdown",
     "metadata": {
      "slideshow": {
       "slide_type": "notes"
      }
     },
     "source": [
      "# Wanted\n",
      "\n",
      "## Complete description of the vocal fold dynamics in an in vivo model"
     ]
    },
    {
     "cell_type": "raw",
     "metadata": {
      "slideshow": {
       "slide_type": "notes"
      }
     },
     "source": [
      "So why is this necessary? We need such a complete description to understand the neuromuscular control of fundamental frequency, loudness, voice quality and pathologies. We need it to assess the dynamic equivalence of larynges of different species. And we need it to validate theoretical and computational models."
     ]
    },
    {
     "cell_type": "markdown",
     "metadata": {
      "slideshow": {
       "slide_type": "slide"
      }
     },
     "source": [
      "# Why\n",
      "## Neuro-muscular control of F0, loudness, voice quality, pathologies\n",
      "## Dynamic equivalence of larynges of different species\n",
      "## Model validation"
     ]
    },
    {
     "cell_type": "raw",
     "metadata": {
      "slideshow": {
       "slide_type": "notes"
      }
     },
     "source": [
      "How are we doing this? We do this with a comprehensive and systematic experimental bifurcation analysis. \n",
      "\n",
      "For example, I'm showing the most interesting bifurcation, the phonation onset, which is a Hopf bifurcation. \n",
      "\n",
      "In this spectrogram of the subglottal acoustic signal, there is a transition from aphonia to vocal fold vibration as demonstrated by the appearing stack of harmonics. \n",
      "\n",
      "This happens due to an increase in subglottal pressure."
     ]
    },
    {
     "cell_type": "markdown",
     "metadata": {
      "slideshow": {
       "slide_type": "slide"
      }
     },
     "source": [
      "# Bifurcation analysis in *in vivo* dog experiment\n",
      "\n",
      "## Phonation onset, a Hopf bifurcation during air flow ramp\n",
      "\n",
      "<center>\n",
      "<img src=\"files/ICVPB2014_Salt_Lake_City.images/bifurcation.png\" width=900 />\n",
      "</center>"
     ]
    },
    {
     "cell_type": "raw",
     "metadata": {
      "slideshow": {
       "slide_type": "notes"
      }
     },
     "source": [
      "The phonation onset is only one example of bifurcations that we typcially see in our experiments. \n",
      "\n",
      "We also all other kinds of bifurcations that typcially occur in nonlinear systems. \n",
      "\n",
      "Interestingly, we observe frequency jumps that might be linked to chest-falsetto register transitions."
     ]
    },
    {
     "cell_type": "markdown",
     "metadata": {
      "slideshow": {
       "slide_type": "slide"
      }
     },
     "source": [
      "# Observed bifurcations\n",
      "\n",
      "## Hopf bifurcation\n",
      "## Subharmonic bifurcation\n",
      "## Frequency jumps\n",
      "## Secondary Hopf bifurcation\n",
      "## Sudden transition to chaotic vibrations"
     ]
    },
    {
     "cell_type": "raw",
     "metadata": {
      "slideshow": {
       "slide_type": "notes"
      }
     },
     "source": [
      "When do we get these bifurcations? Different bifurcations appear for different kinds of manipulations of the laryngeal muscles. Muscles are like actuators, they deform the larynx, and so they set the vocal fold posture and the internal stiffnesses. When we blow air through such a deformed larynx, these bifurcations appear.\n",
      "\n",
      "In our experiments we control the muscles by stimulating the nerves. These are the SLN, RLN, and branches of the RLN.\n",
      "\n",
      "This example shows all locations of landmark points on the vocal folds for different muscle activations."
     ]
    },
    {
     "cell_type": "markdown",
     "metadata": {
      "slideshow": {
       "slide_type": "slide"
      }
     },
     "source": [
      "# Bifurcations induced by neuromuscular control\n",
      "\n",
      "<center>\n",
      "<img src=\"files/ICVPB2014_Salt_Lake_City.images/postures.png\" width=800 />\n",
      "</center>"
     ]
    },
    {
     "cell_type": "markdown",
     "metadata": {
      "slideshow": {
       "slide_type": "slide"
      }
     },
     "source": [
      "# Bifurcations induced by air flow ramp\n",
      "\n",
      "## Computer-controlled linear flow ramp -- Increasing subglottal pressure\n",
      "\n",
      "<center>\n",
      "<img src=\"files/ICVPB2014_Salt_Lake_City.images/Lab UCLA 2012 02-16, Dog Experiment CHS/DSC_0039.mod.png\" width=800 />\n",
      "</center>"
     ]
    },
    {
     "cell_type": "raw",
     "metadata": {
      "slideshow": {
       "slide_type": "notes"
      }
     },
     "source": [
      "# Neuromuscular stimulation scenarios\n",
      "\n",
      "## Left-Right Asymmetric stimulation of muscle groups (e.g. left versus right TA)\n",
      "## Agonist-Antagonist imbalance -- Left-Right Symmetric stimulation of different muscle groups (e.g. SLN versus TA)"
     ]
    },
    {
     "cell_type": "raw",
     "metadata": {
      "slideshow": {
       "slide_type": "notes"
      }
     },
     "source": [
      "There are a couple of particularly interesting manipulations of the larynx. First I'll show an example of a left-right asymmetric stimulation experiment. \n",
      "\n",
      "Such a manipulation simulates a unilateral paresis and paralysis pathology.\n",
      "\n",
      "The spectral bifurcation diagrams look similar on both sides of the diagonal. \n",
      "\n",
      "For low levels of SLN stimulation, we can see more regular phonation. For medium levels, broadband and chaotic oscillations appear with transitions to regular phonation. For the highest levels, again more regular phonation, now with higher fundamental frequency appear."
     ]
    },
    {
     "cell_type": "markdown",
     "metadata": {
      "slideshow": {
       "slide_type": "slide"
      }
     },
     "source": [
      "# Left-right asymmetric stimulation\n",
      "\n",
      "\n",
      "\n",
      "<center>\n",
      "<img src=\"files/ICVPB2014_Salt_Lake_City.images/asymmetricSLN_MidRLN.pout.specgram.600Hz.png\" width=1000 />\n",
      "</center>\n",
      "\n",
      "## asymmetric SLN for constant mid RLN"
     ]
    },
    {
     "cell_type": "markdown",
     "metadata": {
      "slideshow": {
       "slide_type": "slide"
      }
     },
     "source": [
      "# Agonist-antagonist imbalance\n",
      "\n",
      "<center>\n",
      "<img src=\"files/ICVPB2014_Salt_Lake_City.images/trunkRLN_TA_NoSLN Wed Mar 21 2012 17 18 17.psub.specgram.1000Hz.mod.png\" width=1000 />\n",
      "</center>\n",
      "\n",
      "## trunk RLN versus TA for constant (no) SLN"
     ]
    },
    {
     "cell_type": "markdown",
     "metadata": {
      "slideshow": {
       "slide_type": "slide"
      }
     },
     "source": [
      "# Phonation onset: Phonation frequency (F0) -- vocal fold length (strain)\n",
      "\n",
      "<center>\n",
      "<img src=\"files/ICVPB2014_Salt_Lake_City.images/Figure1.png\" width=600 />\n",
      "</center>"
     ]
    },
    {
     "cell_type": "markdown",
     "metadata": {
      "slideshow": {
       "slide_type": "slide"
      }
     },
     "source": [
      "# Tight experimental control. Fast and automated experiments.\n",
      "\n",
      "<table>\n",
      "<tr>\n",
      "<td>\n",
      "<figure>\n",
      "    <img src=\"files/ICVPB2014_Salt_Lake_City.images/Lab UCLA 2012 03-14, Dog Experiment CHS/DSC_0008.mod.png\" width=600 />\n",
      "    <figcaption>Controller</figcaption>\n",
      "</figure>\n",
      "</td>\n",
      "<td>\n",
      "<figure>\n",
      "    <img src=\"files/ICVPB2014_Salt_Lake_City.images/Lab UCLA 2012 11-14 Dog Experiment CHS/DSC_0014.mod.png\" width=600 />\n",
      "    <figcaption>In vivo dog model</figcaption>\n",
      "</figure>\n",
      "</td>\n",
      "<td>\n",
      "<figure>\n",
      "    <img src=\"files/ICVPB2014_Salt_Lake_City.images/cables.mod.png\" width=600 />\n",
      "    <figcaption>Extensive control and<br> recording infrastructure</figcaption>\n",
      "<!--\n",
      "<img src=\"files/ICVPB2014_Salt_Lake_City.images/Lab UCLA 2012 02-22, Dog experiment CHS/DSC_0001.jpg\" width=300 />\n",
      "-->\n",
      "</figure>\n",
      "</td>\n",
      "</tr>\n",
      "</table>"
     ]
    },
    {
     "cell_type": "markdown",
     "metadata": {
      "slideshow": {
       "slide_type": "slide"
      }
     },
     "source": [
      "# Nerve stimulation control (8 nerves)\n",
      "\n",
      "## Computer-controlled and automated stimulation pulse train sequences\n",
      "\n",
      "<center>\n",
      "<!--\n",
      "<img src=\"files/ICVPB2014_Salt_Lake_City.images/Lab UCLA 2012 11-14 Dog Experiment CHS/DSC_0004.jpg\" width=500 />\n",
      "-->\n",
      "<img src=\"files/ICVPB2014_Salt_Lake_City.images/Lab UCLA 2012 11-14 Dog Experiment CHS/DSC_0009.mod.png\" width=700 />\n",
      "<img src=\"files/ICVPB2014_Salt_Lake_City.images/2013-10-29 LabView control setup for dog phonation experiments/dog_experiment_nerve_settings.png\" width=700 />\n",
      "</center>"
     ]
    },
    {
     "cell_type": "markdown",
     "metadata": {
      "slideshow": {
       "slide_type": "slide"
      }
     },
     "source": [
      "# Fast experiments: A recording every 5 seconds\n",
      "\n",
      "## High speed motion capture includes prephonatory posturing and vocal fold vibration\n",
      "## 5 minutes to record a comprehensive, systematic set of 64 stimulation conditions\n",
      "## Stimulation range finding and checks also recorded: single nerve stimulation ramps\n",
      "\n",
      "<center>\n",
      "<img src=\"files/ICVPB2014_Salt_Lake_City.images/Lab UCLA 2012 02-22, Dog experiment CHS/DSC_0008.mod.png\" width=800 />\n",
      "<img src=\"files/ICVPB2014_Salt_Lake_City.images/Lab UCLA 2012 03-14, Dog Experiment CHS/DSC_0005.mod.png\" width=800 />\n",
      "</center>"
     ]
    },
    {
     "cell_type": "markdown",
     "metadata": {
      "slideshow": {
       "slide_type": "slide"
      }
     },
     "source": [
      "# Rapid setup of nerve stimulation parameters: \n",
      "\n",
      "## Binary search for threshold of nerve excitation (one threshold in 10 seconds)\n",
      "## Stimulation range finding assisted by visual of posturing and transglottal pressure drop change\n",
      "\n",
      "<center>\n",
      "<img src=\"files/ICVPB2014_Salt_Lake_City.images/2013-10-29 LabView control setup for dog phonation experiments/search_excitation_threshold.png\" width=1000 />\n",
      "</center>"
     ]
    },
    {
     "cell_type": "markdown",
     "metadata": {
      "slideshow": {
       "slide_type": "slide"
      }
     },
     "source": [
      "# Replication possible!\n",
      "\n",
      "## First take --- Second take\n",
      "<center>\n",
      "<img src=\"files/ICVPB2014_Salt_Lake_City.images/SLN versus right RLN No implant Wed Oct 30 2013 14 52 50.pout.specgram.1000Hz.mod.png\" width=450 />\n",
      "<img src=\"files/ICVPB2014_Salt_Lake_City.images/SLN versus right RLN No implant repeat Wed Oct 30 2013 16 05 22.pout.specgram.1000Hz.mod.png\" width=450 />\n",
      "</center>\n",
      "\n",
      "## Left Recurrent Nerve Paralysis: SLN versus right RLN"
     ]
    },
    {
     "cell_type": "markdown",
     "metadata": {
      "slideshow": {
       "slide_type": "slide"
      }
     },
     "source": [
      "# Consistent data from in vivo experiment possible!\n",
      "\n",
      "# Bifurcation behavior: Metric to compare dynamical systems:\n",
      "\n",
      "## Larynges: human, dog, sheep, etc: Are they dynamically equivalent?\n",
      "## Intervention procedures for voice pathologies: implants, arytenoid adduction, injection\n",
      "## Grades of paresis/paralysis"
     ]
    },
    {
     "cell_type": "raw",
     "metadata": {
      "slideshow": {
       "slide_type": "notes"
      }
     },
     "source": [
      "# Goal: Systematic catalog of dynamical behaviors as a function of posture and stimulation level\n",
      "\n",
      "## Asymmetry\n",
      "## Agonist-Antagonist interactions\n",
      "## Redundancies in laryngeal musculo-skeletal framework\n",
      "## Equivalences in laryngeal musculo-skeletal framework"
     ]
    }
   ],
   "metadata": {}
  }
 ]
}