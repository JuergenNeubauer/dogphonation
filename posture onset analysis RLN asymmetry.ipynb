{
 "metadata": {
  "name": ""
 },
 "nbformat": 3,
 "nbformat_minor": 0,
 "worksheets": [
  {
   "cells": [
    {
     "cell_type": "code",
     "collapsed": false,
     "input": [
      "import os, sys, glob, xlrd, csv\n",
      "import numpy as np"
     ],
     "language": "python",
     "metadata": {},
     "outputs": [],
     "prompt_number": 9
    },
    {
     "cell_type": "code",
     "collapsed": false,
     "input": [
      "sys.path.append('/extra/InVivoDog/python/cine/tools')"
     ],
     "language": "python",
     "metadata": {},
     "outputs": [],
     "prompt_number": 10
    },
    {
     "cell_type": "code",
     "collapsed": false,
     "input": [
      "sys.path.append('/extra/InVivoDog/Elazar/code_posture_onset/')"
     ],
     "language": "python",
     "metadata": {},
     "outputs": [],
     "prompt_number": 11
    },
    {
     "cell_type": "code",
     "collapsed": false,
     "input": [
      "%run \"tools posture onset analysis.py\""
     ],
     "language": "python",
     "metadata": {},
     "outputs": [],
     "prompt_number": 15
    },
    {
     "cell_type": "code",
     "collapsed": false,
     "input": [
      "xls_dir = './RLN_asymmetry/'"
     ],
     "language": "python",
     "metadata": {},
     "outputs": [],
     "prompt_number": 16
    },
    {
     "cell_type": "code",
     "collapsed": false,
     "input": [
      "ls -alot $xls_dir"
     ],
     "language": "python",
     "metadata": {},
     "outputs": [
      {
       "output_type": "stream",
       "stream": "stdout",
       "text": [
        "total 180\r\n",
        "drwxr-xr-x 1 neubauer 38290 Dec 15 22:32 \u001b[0m\u001b[01;34m..\u001b[0m/\r\n",
        "drwxr-xr-x 1 neubauer   270 Dec 15 17:06 \u001b[01;34m.\u001b[0m/\r\n",
        "-rw-r--r-- 1 neubauer 50105 Dec 15 17:04 \u001b[00mDONE 12.11.13 RLN Asymmetry.xlsx\u001b[0m\r\n",
        "drwxr-xr-x 1 neubauer   594 Jun 10  2013 \u001b[01;34mInVivoDog_2012_04_04\u001b[0m/\r\n",
        "drwxr-xr-x 1 neubauer   158 Jun 10  2013 \u001b[01;34mInVivoDog_2012_02_15\u001b[0m/\r\n",
        "-rw-r--r-- 1 neubauer 59031 Jun 10  2013 \u001b[00mRLN Asymmetry_2.15.12_FINAL.xlsx\u001b[0m\r\n",
        "-rw-r--r-- 1 neubauer 68348 Jun 10  2013 \u001b[00mRLN Asymmetry_4.4.12_FINAL.xlsx\u001b[0m\r\n"
       ]
      }
     ],
     "prompt_number": 17
    },
    {
     "cell_type": "code",
     "collapsed": false,
     "input": [
      "asymmetry_book = xlrd.open_workbook(filename = os.path.join(xls_dir, 'DONE 12.11.13 RLN Asymmetry.xlsx'))"
     ],
     "language": "python",
     "metadata": {},
     "outputs": [],
     "prompt_number": 18
    },
    {
     "cell_type": "code",
     "collapsed": false,
     "input": [
      "show_book_content(workbook = asymmetry_book)"
     ],
     "language": "python",
     "metadata": {},
     "outputs": [
      {
       "output_type": "stream",
       "stream": "stdout",
       "text": [
        "work sheet info:\n",
        "#, name, #rows, #cols\n",
        "0 No SLN 74 10\n",
        "1 SLN 1 74 10\n",
        "2 SLN 2 74 10\n",
        "3 SLN 3 74 12\n",
        "4 SLN 4 74 12\n"
       ]
      }
     ],
     "prompt_number": 19
    },
    {
     "cell_type": "code",
     "collapsed": false,
     "input": [
      "Nstimulation = 64 # 8 * 8 = (7 + 1) * (7 + 1)"
     ],
     "language": "python",
     "metadata": {},
     "outputs": [],
     "prompt_number": 20
    },
    {
     "cell_type": "code",
     "collapsed": false,
     "input": [
      "onsettime_samples = get_onsettime_samples(workbook = asymmetry_book, number_of_stimulations = Nstimulation)"
     ],
     "language": "python",
     "metadata": {},
     "outputs": [],
     "prompt_number": 21
    },
    {
     "cell_type": "code",
     "collapsed": false,
     "input": [
      "# copied here from the program posture_onset.implant...: TAconditions\n",
      "\n",
      "nerve_conditions = [\"No SLN\", \"SLN 1\", \"SLN 2\", \"SLN 3\", \"SLN 4\"]"
     ],
     "language": "python",
     "metadata": {},
     "outputs": [],
     "prompt_number": 23
    },
    {
     "cell_type": "code",
     "collapsed": false,
     "input": [
      "compare_lists_of_nerveconditions(onsettime_samples, nerve_conditions)"
     ],
     "language": "python",
     "metadata": {},
     "outputs": [
      {
       "output_type": "stream",
       "stream": "stdout",
       "text": [
        "no difference\n"
       ]
      }
     ],
     "prompt_number": 24
    },
    {
     "cell_type": "code",
     "collapsed": false,
     "input": [
      "for nervecond in nerve_conditions:\n",
      "    print len(onsettime_samples[nervecond])"
     ],
     "language": "python",
     "metadata": {},
     "outputs": [
      {
       "output_type": "stream",
       "stream": "stdout",
       "text": [
        "64\n",
        "64\n",
        "64\n",
        "64\n",
        "64\n"
       ]
      }
     ],
     "prompt_number": 25
    },
    {
     "cell_type": "code",
     "collapsed": false,
     "input": [
      "write_inputdata_file(filename = 'RLNasymmetry_2013_12_11_onsettime_samples.csv', \n",
      "                     nerve_conditions = nerve_conditions, \n",
      "                     onsettime_samples = onsettime_samples)"
     ],
     "language": "python",
     "metadata": {},
     "outputs": []
    }
   ],
   "metadata": {}
  }
 ]
}