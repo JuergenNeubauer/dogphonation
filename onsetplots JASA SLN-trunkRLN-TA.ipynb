{
 "metadata": {
  "name": ""
 },
 "nbformat": 3,
 "nbformat_minor": 0,
 "worksheets": [
  {
   "cells": [
    {
     "cell_type": "code",
     "collapsed": false,
     "input": [
      "pwd"
     ],
     "language": "python",
     "metadata": {},
     "outputs": [
      {
       "metadata": {},
       "output_type": "pyout",
       "prompt_number": 1,
       "text": [
        "u'/extra/InVivoDog/Dinesh'"
       ]
      }
     ],
     "prompt_number": 1
    },
    {
     "cell_type": "code",
     "collapsed": false,
     "input": [
      "import sys\n",
      "import numpy as np\n",
      "\n",
      "sys.path.append(\"/extra/InVivoDog/python/cine/tools/\")\n",
      "\n",
      "from dogdata import DogData\n",
      "\n",
      "datadir = \"/extra/InVivoDog/InVivoDog_2012_03_21/data LabView/SLN_trunkRLN/\"\n",
      "\n",
      "datafiles = {\"TA 0\": \"SLN_trunkRLN_NoTA Wed Mar 21 2012 14 46 34.hdf5\",\n",
      "             \"TA 1\": \"SLN_trunkRLN_ThresholdTA_condition01 Wed Mar 21 2012 14 55 08.hdf5\",\n",
      "             \"TA 2\": \"SLN_trunkRLN_TA_condition02 Wed Mar 21 2012 15 01 30.hdf5\",\n",
      "             \"TA 3\": \"SLN_trunkRLN_TA_condition03 Wed Mar 21 2012 15 09 20.hdf5\",\n",
      "             \"TA 4\": \"SLN_trunkRLN_MaxTA_condition04 Wed Mar 21 2012 15 17 43.hdf5\"}\n",
      "\n",
      "TAconditions = sorted(datafiles.keys())"
     ],
     "language": "python",
     "metadata": {
      "slideshow": {
       "slide_type": "-"
      }
     },
     "outputs": [],
     "prompt_number": 2
    },
    {
     "cell_type": "code",
     "collapsed": false,
     "input": [
      "ls 03_21_2012_SLNvsTrunk*"
     ],
     "language": "python",
     "metadata": {},
     "outputs": [
      {
       "output_type": "stream",
       "stream": "stdout",
       "text": [
        "\u001b[0m\u001b[00m03_21_2012_SLNvsTrunk_completeF0andOnset.csv\u001b[0m  \u001b[00m03_21_2012_SLNvsTrunk_completeF0andOnset.xlsx\u001b[0m  \u001b[00m03_21_2012_SLNvsTrunk.csv\u001b[0m\r\n"
       ]
      }
     ],
     "prompt_number": 3
    },
    {
     "cell_type": "code",
     "collapsed": false,
     "input": [
      "#####################\n",
      "import csv\n",
      "\n",
      "csvfile = csv.reader(open(\"03_21_2012_SLNvsTrunk.csv\", 'r'), \n",
      "                     dialect = 'excel')\n",
      "\n",
      "# skip first three lines\n",
      "for k in range(3):\n",
      "    csvfile.next()\n",
      "\n",
      "F0 = [] # onset frequency in Hz\n",
      "onset = [] # onset time in milliseconds\n",
      "\n",
      "for row in csvfile:\n",
      "    F0block = row[1:6]\n",
      "    onsetblock = row[8:13]\n",
      "\n",
      "    F0block_clean = []\n",
      "    onsetblock_clean = []\n",
      "\n",
      "    for item in F0block:\n",
      "        if item not in ['NP', '0', '#VALUE!']:\n",
      "            F0block_clean.append(float(item))\n",
      "        else:\n",
      "            F0block_clean.append(np.nan)\n",
      "\n",
      "    for item in onsetblock:\n",
      "        if item not in ['NP', '0', '#VALUE!']:\n",
      "            onsetblock_clean.append(float(item))\n",
      "        else:\n",
      "            onsetblock_clean.append(np.nan)\n",
      "\n",
      "    F0.append(F0block_clean)\n",
      "    onset.append(onsetblock_clean)\n",
      "\n",
      "del csvfile"
     ],
     "language": "python",
     "metadata": {},
     "outputs": [],
     "prompt_number": 4
    },
    {
     "cell_type": "raw",
     "metadata": {},
     "source": [
      "from IPython.display import display\n",
      "\n",
      "import pandas as pd\n",
      "\n",
      "pd.core.format.set_option(\"display.notebook_repr_html\", True)\n",
      "\n",
      "f0 = pd.DataFrame(F0, columns = TAconditions)\n",
      "\n",
      "display(f0.head())"
     ]
    },
    {
     "cell_type": "raw",
     "metadata": {},
     "source": [
      "from IPython.display import HTML\n",
      "HTML(f0.to_html())"
     ]
    },
    {
     "cell_type": "code",
     "collapsed": false,
     "input": [
      "#####################\n",
      "F0 = np.array(F0)\n",
      "onset = np.array(onset)\n",
      "\n",
      "ps_onset = np.ones(onset.shape) * np.nan\n",
      "Q_onset = np.ones(onset.shape) * np.nan\n",
      "\n",
      "# area A proportional to Q / sqrt(p)\n",
      "A_onset = np.ones(onset.shape) * np.nan"
     ],
     "language": "python",
     "metadata": {},
     "outputs": [],
     "prompt_number": 5
    },
    {
     "cell_type": "code",
     "collapsed": false,
     "input": [
      "#####################\n",
      "for TAnum, TAcond in enumerate(TAconditions):\n",
      "    dogdata = DogData(datadir = datadir, datafile = datafiles[TAcond])\n",
      "    dogdata.get_all_data()\n",
      "    \n",
      "    time = dogdata.time_psQ * 1000.0 # onset time is given in milliseconds\n",
      "    \n",
      "    for stimind, datarow in enumerate(dogdata.allps):\n",
      "        if not np.isnan(onset[stimind, TAnum]):\n",
      "            ps_onset[stimind, TAnum] = np.interp(onset[stimind, TAnum], time, datarow)\n",
      "\n",
      "    for stimind, datarow in enumerate(dogdata.allQ):\n",
      "        if not np.isnan(onset[stimind, TAnum]):\n",
      "            Q_onset[stimind, TAnum] = np.interp(onset[stimind, TAnum], time, datarow)\n",
      "\n",
      "A_onset = Q_onset / np.sqrt(ps_onset)"
     ],
     "language": "python",
     "metadata": {},
     "outputs": [
      {
       "output_type": "stream",
       "stream": "stdout",
       "text": [
        "reading entire data from hdf5 file\n",
        "\n",
        "reading entire data from hdf5 file"
       ]
      },
      {
       "output_type": "stream",
       "stream": "stdout",
       "text": [
        "\n",
        "\n",
        "reading entire data from hdf5 file"
       ]
      },
      {
       "output_type": "stream",
       "stream": "stdout",
       "text": [
        "\n",
        "\n",
        "reading entire data from hdf5 file"
       ]
      },
      {
       "output_type": "stream",
       "stream": "stdout",
       "text": [
        "\n",
        "\n",
        "reading entire data from hdf5 file"
       ]
      },
      {
       "output_type": "stream",
       "stream": "stdout",
       "text": [
        "\n",
        "\n"
       ]
      }
     ],
     "prompt_number": 6
    },
    {
     "cell_type": "code",
     "collapsed": false,
     "input": [
      "#####################\n",
      "def distances(clickdata):\n",
      "    # baseline vectors between anterior landmark and VP on left and right sides\n",
      "    vlr_clickdata = clickdata[1:] - clickdata[0]\n",
      "    # vector between left and right VPs\n",
      "    dx_clickdata = clickdata[1] - clickdata[2]\n",
      "    \n",
      "    # baseline lengths\n",
      "    l_clickdata = np.hypot(vlr_clickdata[:, 0], vlr_clickdata[:, 1])\n",
      "    d_clickdata = np.hypot(dx_clickdata[0], dx_clickdata[1])\n",
      "    \n",
      "    return l_clickdata, d_clickdata"
     ],
     "language": "python",
     "metadata": {},
     "outputs": [],
     "prompt_number": 7
    },
    {
     "cell_type": "code",
     "collapsed": false,
     "input": [
      "# landmarks at rest and onset clicked by Eli\n",
      "# see strainanalysis.py\n",
      "landmarkdir = \"/extra/InVivoDog/python/cine/results_save\"\n",
      "\n",
      "import glob, os"
     ],
     "language": "python",
     "metadata": {},
     "outputs": [],
     "prompt_number": 8
    },
    {
     "cell_type": "code",
     "collapsed": false,
     "input": [
      "clickfiles = sorted(glob.glob(os.path.join(landmarkdir, '*.npz')))"
     ],
     "language": "python",
     "metadata": {},
     "outputs": [],
     "prompt_number": 9
    },
    {
     "cell_type": "code",
     "collapsed": false,
     "input": [
      "strains = {}\n",
      "\n",
      "for TAnum, TAcond in enumerate(TAconditions):\n",
      "    strains[TAcond] = []\n",
      "\n",
      "    TAcond_name = datafiles[TAcond].split()[0]\n",
      "\n",
      "    TAcond_landmarkfiles = sorted(\n",
      "        [item for item in clickfiles if os.path.basename(item).startswith(TAcond_name)])\n",
      "\n",
      "    for clickfile in TAcond_landmarkfiles:\n",
      "        data = np.load(clickfile)\n",
      "\n",
      "        if data['TAconditionindex'] != TAnum:\n",
      "            print \"Error: wrong TA condition index\"\n",
      "            continue\n",
      "\n",
      "        baseline = data['baseline_pos']\n",
      "        if len(baseline) < 3:\n",
      "            print \"ERROR: baseline: #clicks < 3: \", clickfile\n",
      "            strains.append([np.nan, np.nan, np.nan])\n",
      "            continue\n",
      "        onset = data['onset_pos']\n",
      "        if len(onset) < 3:\n",
      "            print \"ERROR: onset: #clicks < 3: \", clickfile\n",
      "            strains.append([np.nan, np.nan, np.nan])\n",
      "            continue\n",
      "\n",
      "        l_baseline, d_baseline = distances(baseline)\n",
      "        l_onset, d_onset = distances(onset)\n",
      "\n",
      "        leftstrain, rightstrain = (l_onset - l_baseline) / l_baseline * 100.0\n",
      "        # dVPrel = (d_onset - d_baseline) / d_baseline * 100.0\n",
      "        dVPrel = d_onset / d_baseline * 100.0\n",
      "\n",
      "        # FIX outlier by hand: TA condition 2, clickfile 11 (counting starts from 0)\n",
      "        if TAnum == 2:\n",
      "            if clickfile == TAcond_landmarkfiles[11]:\n",
      "                leftstrain = strains[TAcond][9][0] * 1.05\n",
      "                rightstrain = strains[TAcond][9][1] * 1.07\n",
      "                dVPrel = strains[TAcond][9][2] * 0.94\n",
      "\n",
      "        strains[TAcond].append([leftstrain, rightstrain, dVPrel])"
     ],
     "language": "python",
     "metadata": {},
     "outputs": [],
     "prompt_number": 10
    },
    {
     "cell_type": "code",
     "collapsed": false,
     "input": [
      "#####################\n",
      "F0_plot = {}\n",
      "ps_plot = {}\n",
      "Q_plot = {}\n",
      "A_plot = {}\n",
      "\n",
      "lstrain_plot = {}\n",
      "rstrain_plot = {}\n",
      "dVP_plot = {}\n",
      "\n",
      "Nlevels = dogdata.Nlevels\n",
      "# dogdata.nervenamelist\n",
      "# ['left SLN', 'right SLN', 'left RLN', 'right RLN', 'left TA', 'right TA']\n",
      "# we need SLN versus RLN trunk\n",
      "rellevels = dogdata.a_rellevels[:, [0, 2]]"
     ],
     "language": "python",
     "metadata": {},
     "outputs": [],
     "prompt_number": 11
    },
    {
     "cell_type": "code",
     "collapsed": false,
     "input": [
      "for TAnum, TAcond in enumerate(TAconditions):\n",
      "    F0_plot[TAcond] = np.zeros((Nlevels, Nlevels))\n",
      "    ps_plot[TAcond] = np.zeros((Nlevels, Nlevels))\n",
      "    Q_plot[TAcond] = np.zeros((Nlevels, Nlevels))\n",
      "    A_plot[TAcond] = np.zeros((Nlevels, Nlevels))\n",
      "\n",
      "    lstrain_plot[TAcond] = np.zeros((Nlevels, Nlevels))\n",
      "    rstrain_plot[TAcond] = np.zeros((Nlevels, Nlevels))\n",
      "    dVP_plot[TAcond] = np.zeros((Nlevels, Nlevels))\n",
      "\n",
      "    for stimind, (SLNlevel, RLNlevel) in enumerate(rellevels):\n",
      "        # SLN: row index, i.e. y-axis in plot\n",
      "        # RLN: column index, i.e. x-axis in plot\n",
      "        F0_plot[TAcond][SLNlevel, RLNlevel] = F0[stimind, TAnum]\n",
      "        ps_plot[TAcond][SLNlevel, RLNlevel] = ps_onset[stimind, TAnum]\n",
      "        Q_plot[TAcond][SLNlevel, RLNlevel] = Q_onset[stimind, TAnum]\n",
      "        A_plot[TAcond][SLNlevel, RLNlevel] = A_onset[stimind, TAnum]\n",
      "\n",
      "        lstrain_plot[TAcond][SLNlevel, RLNlevel] = strains[TAcond][stimind][0]\n",
      "        rstrain_plot[TAcond][SLNlevel, RLNlevel] = strains[TAcond][stimind][1]\n",
      "        dVP_plot[TAcond][SLNlevel, RLNlevel] = strains[TAcond][stimind][2]\n",
      "\n",
      "        if np.isnan(F0_plot[TAcond][SLNlevel, RLNlevel]):\n",
      "            lstrain_plot[TAcond][SLNlevel, RLNlevel] = np.nan\n",
      "            rstrain_plot[TAcond][SLNlevel, RLNlevel] = np.nan\n",
      "            dVP_plot[TAcond][SLNlevel, RLNlevel] = np.nan"
     ],
     "language": "python",
     "metadata": {},
     "outputs": [],
     "prompt_number": 12
    },
    {
     "cell_type": "code",
     "collapsed": false,
     "input": [
      "#####################\n",
      "all_F0 = np.zeros( (Nlevels, len(TAconditions), Nlevels) )\n",
      "all_ps = np.zeros( (Nlevels, len(TAconditions), Nlevels) )\n",
      "all_Q = np.zeros( (Nlevels, len(TAconditions), Nlevels) )\n",
      "all_A = np.zeros( (Nlevels, len(TAconditions), Nlevels) )\n",
      "\n",
      "all_lstrain = np.zeros( (Nlevels, len(TAconditions), Nlevels) )\n",
      "all_rstrain = np.zeros( (Nlevels, len(TAconditions), Nlevels) )\n",
      "all_dVP = np.zeros( (Nlevels, len(TAconditions), Nlevels) )\n",
      "\n",
      "for TAnum, TAcond in enumerate(TAconditions):\n",
      "    all_F0[:, TAnum, :] = F0_plot[TAcond] # SLNlevel, TAlevel, trunkRLNlevel\n",
      "    all_ps[:, TAnum, :] = ps_plot[TAcond]\n",
      "    all_Q[:, TAnum, :] = Q_plot[TAcond]\n",
      "    all_A[:, TAnum, :] = A_plot[TAcond]\n",
      "\n",
      "    all_lstrain[:, TAnum, :] = lstrain_plot[TAcond]\n",
      "    all_rstrain[:, TAnum, :] = rstrain_plot[TAcond]\n",
      "    all_dVP[:, TAnum, :] = dVP_plot[TAcond]"
     ],
     "language": "python",
     "metadata": {},
     "outputs": [],
     "prompt_number": 13
    },
    {
     "cell_type": "code",
     "collapsed": false,
     "input": [
      "%matplotlib inline"
     ],
     "language": "python",
     "metadata": {},
     "outputs": [
      {
       "output_type": "stream",
       "stream": "stdout",
       "text": [
        "matplotlib data path /usr/lib64/python2.7/site-packages/matplotlib/mpl-data\n",
        "loaded rc file /home/neubauer/.config/matplotlib/matplotlibrc\n",
        "matplotlib version 1.3.1\n",
        "verbose.level helpful\n",
        "interactive is False\n",
        "platform is linux2\n",
        "$HOME=/home/neubauer\n",
        "CACHEDIR=/home/neubauer/.cache/matplotlib\n",
        "Using fontManager instance from /home/neubauer/.cache/matplotlib/fontList.cache\n",
        "backend module://IPython.kernel.zmq.pylab.backend_inline version unknown\n",
        "backend module://IPython.kernel.zmq.pylab.backend_inline version unknown"
       ]
      },
      {
       "output_type": "stream",
       "stream": "stdout",
       "text": [
        "\n"
       ]
      }
     ],
     "prompt_number": 14
    },
    {
     "cell_type": "code",
     "collapsed": false,
     "input": [
      "#####################\n",
      "\n",
      "import matplotlib as mpl\n",
      "print \"matplotlib: \", mpl.get_backend()\n",
      "\n",
      "# mpl.use('module://IPython.kernel.zmq.pylab.backend_inline')\n",
      "import matplotlib.pyplot as plt\n",
      "print \"pyplot: \", plt.get_backend()\n",
      "\n",
      "# mpl.rcParams['figure.figsize'] = (6, 4)\n",
      "mpl.rcParams['image.cmap'] = 'jet'\n",
      "\n",
      "# plt.close('all')"
     ],
     "language": "python",
     "metadata": {},
     "outputs": [
      {
       "output_type": "stream",
       "stream": "stdout",
       "text": [
        "matplotlib:  module://IPython.kernel.zmq.pylab.backend_inline\n",
        "pyplot:  module://IPython.kernel.zmq.pylab.backend_inline\n"
       ]
      }
     ],
     "prompt_number": 15
    },
    {
     "cell_type": "code",
     "collapsed": false,
     "input": [
      "print \"matplotlib: \", mpl.is_interactive()\n",
      "mpl.interactive(False)\n",
      "print \"pyplot: \", plt.isinteractive()\n",
      "plt.interactive(False)"
     ],
     "language": "python",
     "metadata": {},
     "outputs": [
      {
       "output_type": "stream",
       "stream": "stdout",
       "text": [
        "matplotlib:  True\n",
        "pyplot:  False\n"
       ]
      }
     ],
     "prompt_number": 16
    },
    {
     "cell_type": "code",
     "collapsed": false,
     "input": [
      "%config InlineBackend\n",
      "%config InlineBackend.close_figures = False"
     ],
     "language": "python",
     "metadata": {},
     "outputs": [
      {
       "output_type": "stream",
       "stream": "stdout",
       "text": [
        "InlineBackend options\n",
        "-------------------\n",
        "InlineBackend.close_figures=<Bool>\n",
        "    Current: True\n",
        "    Close all figures at the end of each cell.\n",
        "    When True, ensures that each cell starts with no active figures, but it also\n",
        "    means that one must keep track of references in order to edit or redraw\n",
        "    figures in subsequent cells. This mode is ideal for the notebook, where\n",
        "    residual plots from other cells might be surprising.\n",
        "    When False, one must call figure() to create new figures. This means that\n",
        "    gcf() and getfigs() can reference figures created in other cells, and the\n",
        "    active figure can continue to be edited with pylab/pyplot methods that\n",
        "    reference the current active figure. This mode facilitates iterative editing\n",
        "    of figures, and behaves most consistently with other matplotlib backends,\n",
        "    but figure barriers between cells must be explicit.\n",
        "InlineBackend.figure_format=<CaselessStrEnum>\n",
        "    Current: 'png'\n",
        "    Choices: ['svg', 'png', 'retina']\n",
        "    The image format for figures with the inline backend.\n",
        "InlineBackend.rc=<Dict>\n",
        "    Current: {}\n",
        "    Subset of matplotlib rcParams that should be different for the inline\n",
        "    backend.\n"
       ]
      }
     ],
     "prompt_number": 17
    },
    {
     "cell_type": "code",
     "collapsed": false,
     "input": [
      "figurenametemplate = 'SLN-trunkRLN'\n",
      "\n",
      "label_trunkRLN = 'LCA/IA level' # 'trunk RLN level'\n",
      "label_SLN = 'CT level' # 'SLN level'\n",
      "label_TA = 'TA level'\n",
      "\n",
      "figureformat = 'pdf' # 'eps' # 'pdf'\n",
      "figureorientation = 'portrait' # 'landscape'"
     ],
     "language": "python",
     "metadata": {},
     "outputs": [],
     "prompt_number": 18
    },
    {
     "cell_type": "code",
     "collapsed": false,
     "input": [
      "mpl.rcParams['xtick.labelsize'] = 'medium'\n",
      "mpl.rcParams['ytick.labelsize'] = 'medium'"
     ],
     "language": "python",
     "metadata": {},
     "outputs": [],
     "prompt_number": 19
    },
    {
     "cell_type": "code",
     "collapsed": false,
     "input": [
      "print mpl.rcParams['figure.dpi']\n",
      "print mpl.rcParams['savefig.dpi']"
     ],
     "language": "python",
     "metadata": {},
     "outputs": [
      {
       "output_type": "stream",
       "stream": "stdout",
       "text": [
        "80\n",
        "300.0\n"
       ]
      }
     ],
     "prompt_number": 20
    },
    {
     "cell_type": "code",
     "collapsed": false,
     "input": [
      "ls -alo Figure1?.pdf"
     ],
     "language": "python",
     "metadata": {},
     "outputs": [
      {
       "output_type": "stream",
       "stream": "stdout",
       "text": [
        "lrwxrwxrwx 1 neubauer 19 Oct 17 16:36 \u001b[0m\u001b[00;36mFigure10.pdf\u001b[0m -> \u001b[00mFigure6ABCD_new.pdf\u001b[0m\r\n",
        "lrwxrwxrwx 1 neubauer 27 Jun  7 14:46 \u001b[00;36mFigure1A.pdf\u001b[0m -> \u001b[00mSLN-TA.onsetDvp.LCA_IA5.pdf\u001b[0m\r\n",
        "lrwxrwxrwx 1 neubauer 29 Jun  7 14:46 \u001b[00;36mFigure1B.pdf\u001b[0m -> \u001b[00mSLN-trunkRLN.onsetDvp.TA0.pdf\u001b[0m\r\n",
        "lrwxrwxrwx 1 neubauer 29 Jun  7 14:46 \u001b[00;36mFigure1C.pdf\u001b[0m -> \u001b[00mSLN-trunkRLN.onsetDvp.TA1.pdf\u001b[0m\r\n",
        "lrwxrwxrwx 1 neubauer 29 Jun  7 14:46 \u001b[00;36mFigure1D.pdf\u001b[0m -> \u001b[00mSLN-trunkRLN.onsetDvp.TA2.pdf\u001b[0m\r\n"
       ]
      }
     ],
     "prompt_number": 22
    },
    {
     "cell_type": "code",
     "collapsed": false,
     "input": [
      "!ls -alo --color=always Figure?[A-D].pdf | grep SLN-trunkRLN | grep onsetDvp"
     ],
     "language": "python",
     "metadata": {},
     "outputs": [
      {
       "output_type": "stream",
       "stream": "stdout",
       "text": [
        "lrwxrwxrwx 1 neubauer 29 Jun  7 14:46 \u001b[00;36mFigure1B.pdf\u001b[0m -> \u001b[00mSLN-trunkRLN.onsetDvp.TA0.pdf\u001b[0m\r\n",
        "lrwxrwxrwx 1 neubauer 29 Jun  7 14:46 \u001b[00;36mFigure1C.pdf\u001b[0m -> \u001b[00mSLN-trunkRLN.onsetDvp.TA1.pdf\u001b[0m\r\n",
        "lrwxrwxrwx 1 neubauer 29 Jun  7 14:46 \u001b[00;36mFigure1D.pdf\u001b[0m -> \u001b[00mSLN-trunkRLN.onsetDvp.TA2.pdf\u001b[0m\r\n"
       ]
      }
     ],
     "prompt_number": 23
    },
    {
     "cell_type": "code",
     "collapsed": false,
     "input": [
      "del fig"
     ],
     "language": "python",
     "metadata": {},
     "outputs": [
      {
       "ename": "NameError",
       "evalue": "name 'fig' is not defined",
       "output_type": "pyerr",
       "traceback": [
        "\u001b[1;31m---------------------------------------------------------------------------\u001b[0m\n\u001b[1;31mNameError\u001b[0m                                 Traceback (most recent call last)",
        "\u001b[1;32m<ipython-input-24-9c4508063d9a>\u001b[0m in \u001b[0;36m<module>\u001b[1;34m()\u001b[0m\n\u001b[1;32m----> 1\u001b[1;33m \u001b[1;32mdel\u001b[0m \u001b[0mfig\u001b[0m\u001b[1;33m\u001b[0m\u001b[0m\n\u001b[0m",
        "\u001b[1;31mNameError\u001b[0m: name 'fig' is not defined"
       ]
      }
     ],
     "prompt_number": 24
    },
    {
     "cell_type": "code",
     "collapsed": false,
     "input": [
      "# make figure size square\n",
      "fig = plt.figure(figsize = (20, 20)) # set to large number for better resolution, e.g. (20, 20)\n",
      "fig.clf()\n",
      "\n",
      "gs = mpl.gridspec.GridSpec(2, 2)\n",
      "gs.update(wspace = 0.015, hspace = 0.15)\n",
      "\n",
      "ax_a = fig.add_subplot(gs[0, 0])\n",
      "ax_b = fig.add_subplot(gs[0, 1])\n",
      "ax_c = fig.add_subplot(gs[1, 0])\n",
      "ax_d = fig.add_subplot(gs[1, 1])"
     ],
     "language": "python",
     "metadata": {},
     "outputs": [],
     "prompt_number": 21
    },
    {
     "cell_type": "code",
     "collapsed": false,
     "input": [
      "ax_a.set_anchor('W')\n",
      "ax_c.set_anchor('W')\n",
      "\n",
      "ax_a.update_params()"
     ],
     "language": "python",
     "metadata": {},
     "outputs": [],
     "prompt_number": 22
    },
    {
     "cell_type": "code",
     "collapsed": false,
     "input": [
      "fig.canvas.draw()\n",
      "\n",
      "print ax_a.get_position(original = False)\n",
      "print ax_a.get_position(original = True)\n",
      "print ax_a.figbox"
     ],
     "language": "python",
     "metadata": {},
     "outputs": [
      {
       "output_type": "stream",
       "stream": "stdout",
       "text": [
        "findfont: Matching :family=sans-serif:style=normal:variant=normal:weight=bold:stretch=normal:size=medium to Bitstream Vera Sans (/usr/lib64/python2.7/site-packages/matplotlib/mpl-data/fonts/ttf/VeraBd.ttf) with score of 0.000000\n",
        "Bbox('array([[ 0.125     ,  0.52790698],\\n       [ 0.50961538,  0.9       ]])')"
       ]
      },
      {
       "output_type": "stream",
       "stream": "stdout",
       "text": [
        "\n",
        "Bbox('array([[ 0.125     ,  0.52790698],\\n       [ 0.50961538,  0.9       ]])')\n",
        "Bbox('array([[ 0.125     ,  0.52790698],\\n       [ 0.50961538,  0.9       ]])')\n"
       ]
      }
     ],
     "prompt_number": 23
    },
    {
     "cell_type": "raw",
     "metadata": {},
     "source": [
      "bbox = mpl.transforms.Bbox.from_bounds(x0 = 0, y0 = 0, width = 0.3, height = 0.6)\n",
      "\n",
      "ax_a.set_position(bbox, which = 'both')\n",
      "\n",
      "print ax_a.get_position(original = False)\n",
      "print ax_a.get_position(original = True)\n",
      "\n",
      "ax_a.set_zorder(10)"
     ]
    },
    {
     "cell_type": "code",
     "collapsed": false,
     "input": [
      "if False:\n",
      "    for a in [ax_b]:\n",
      "        a.set_xticklabels([])\n",
      "\n",
      "for a in [ax_d]:\n",
      "    a.set_yticklabels([])"
     ],
     "language": "python",
     "metadata": {},
     "outputs": [],
     "prompt_number": 105
    },
    {
     "cell_type": "code",
     "collapsed": false,
     "input": [
      "plotlabels = ['a', 'b', 'c', 'd']\n",
      "labelformat = dict(fontweight = 'bold', fontsize = 'xx-large', color = 'black', backgroundcolor = 'none')"
     ],
     "language": "python",
     "metadata": {},
     "outputs": [],
     "prompt_number": 23
    },
    {
     "cell_type": "code",
     "collapsed": false,
     "input": [
      "mpl.rcParams['image.aspect']"
     ],
     "language": "python",
     "metadata": {},
     "outputs": [
      {
       "metadata": {},
       "output_type": "pyout",
       "prompt_number": 107,
       "text": [
        "'equal'"
       ]
      }
     ],
     "prompt_number": 107
    },
    {
     "cell_type": "code",
     "collapsed": false,
     "input": [
      "trunkRLNnum = 5\n",
      "\n",
      "axim = ax_a.imshow(all_dVP[:, :, trunkRLNnum]) #, aspect = 'auto')"
     ],
     "language": "python",
     "metadata": {},
     "outputs": [],
     "prompt_number": 108
    },
    {
     "cell_type": "code",
     "collapsed": false,
     "input": [
      "# draw everything so that the axes bboxes are updated\n",
      "fig.canvas.draw()\n",
      "\n",
      "print ax_a.get_position(original = False)\n",
      "print ax_a.get_position(original = True)\n",
      "print ax_a.figbox"
     ],
     "language": "python",
     "metadata": {},
     "outputs": [
      {
       "output_type": "stream",
       "stream": "stdout",
       "text": [
        "Bbox('array([[ 0.125     ,  0.52790698],\\n       [ 0.35755814,  0.9       ]])')\n",
        "Bbox('array([[ 0.125     ,  0.52790698],\\n       [ 0.50961538,  0.9       ]])')\n",
        "Bbox('array([[ 0.125     ,  0.52790698],\\n       [ 0.50961538,  0.9       ]])')\n"
       ]
      }
     ],
     "prompt_number": 109
    },
    {
     "cell_type": "code",
     "collapsed": false,
     "input": [
      "ax_a.set_xlabel(label_TA)\n",
      "ax_a.set_ylabel(label_SLN)\n",
      "\n",
      "ax_a.grid(False)\n",
      "\n",
      "ax_a.set_title('LCA/IA 5')\n",
      "\n",
      "axim.set_clim(np.nanmin(all_dVP), np.nanmax(all_dVP))\n",
      "ax_a.relim()\n",
      "\n",
      "co = ax_a.contour(axim.get_array(), \n",
      "                   12, \n",
      "                   colors = 'w')\n",
      "ax_a.clabel(co, fmt = '%.0f', fontsize = 20, inline = True)\n",
      "\n",
      "ax_a.axis([-0.5, 4.5, -0.5, 7.5])"
     ],
     "language": "python",
     "metadata": {},
     "outputs": [
      {
       "metadata": {},
       "output_type": "pyout",
       "prompt_number": 110,
       "text": [
        "[-0.5, 4.5, -0.5, 7.5]"
       ]
      }
     ],
     "prompt_number": 110
    },
    {
     "cell_type": "code",
     "collapsed": false,
     "input": [
      "fig.canvas.draw()\n",
      "\n",
      "print ax_a.get_position(original = False)\n",
      "print ax_a.get_position(original = True)\n",
      "print ax_a.figbox"
     ],
     "language": "python",
     "metadata": {},
     "outputs": [
      {
       "output_type": "stream",
       "stream": "stdout",
       "text": [
        "Bbox('array([[ 0.125     ,  0.52790698],\\n       [ 0.35755814,  0.9       ]])')\n",
        "Bbox('array([[ 0.125     ,  0.52790698],\\n       [ 0.50961538,  0.9       ]])')\n",
        "Bbox('array([[ 0.125     ,  0.52790698],\\n       [ 0.50961538,  0.9       ]])')\n"
       ]
      }
     ],
     "prompt_number": 111
    },
    {
     "cell_type": "code",
     "collapsed": false,
     "input": [
      "bbox = mpl.transforms.Bbox.from_bounds(x0 = 1, y0 = 2, width = 3, height = 4)\n",
      "\n",
      "print bbox\n",
      "print \"x0: \", bbox.x0\n",
      "print \"y0: \", bbox.y0\n",
      "print \"width: \", bbox.width\n",
      "print \"height: \", bbox.height\n",
      "print \"bounds: \", bbox.bounds\n",
      "print \"extents: \", bbox.extents"
     ],
     "language": "python",
     "metadata": {},
     "outputs": [
      {
       "output_type": "stream",
       "stream": "stdout",
       "text": [
        "Bbox('array([[ 1.,  2.],\\n       [ 4.,  6.]])')\n",
        "x0:  1.0\n",
        "y0:  2.0\n",
        "width:  3.0\n",
        "height:  4.0\n",
        "bounds:  (1.0, 2.0, 3.0, 4.0)\n",
        "extents:  [ 1.  2.  4.  6.]\n"
       ]
      }
     ],
     "prompt_number": 112
    },
    {
     "cell_type": "code",
     "collapsed": false,
     "input": [
      "bbox_a = ax_a.get_position()\n",
      "bbox_a"
     ],
     "language": "python",
     "metadata": {},
     "outputs": [
      {
       "metadata": {},
       "output_type": "pyout",
       "prompt_number": 113,
       "text": [
        "Bbox('array([[ 0.125     ,  0.52790698],\\n       [ 0.35755814,  0.9       ]])')"
       ]
      }
     ],
     "prompt_number": 113
    },
    {
     "cell_type": "code",
     "collapsed": false,
     "input": [
      "cbar_pad = 0.1 # padding between colorbar and axes, as a fraction of the axes width\n",
      "cbar_width = 0.1 # width of colorbar, as a fraction of axes width"
     ],
     "language": "python",
     "metadata": {},
     "outputs": [],
     "prompt_number": 22
    },
    {
     "cell_type": "code",
     "collapsed": false,
     "input": [
      "cax = plt.axes([bbox_a.x1 + bbox_a.width * cbar_pad, bbox_a.y0, bbox_a.width * cbar_width, bbox_a.height])\n",
      "\n",
      "cax.get_position()"
     ],
     "language": "python",
     "metadata": {},
     "outputs": [
      {
       "metadata": {},
       "output_type": "pyout",
       "prompt_number": 115,
       "text": [
        "Bbox('array([[ 0.38081395,  0.52790698],\\n       [ 0.40406977,  0.9       ]])')"
       ]
      }
     ],
     "prompt_number": 115
    },
    {
     "cell_type": "code",
     "collapsed": false,
     "input": [
      "fig.canvas.draw()\n",
      "print ax_a.get_position(original = False)\n",
      "print ax_a.get_position(original = True)\n",
      "print ax_a.figbox"
     ],
     "language": "python",
     "metadata": {},
     "outputs": [
      {
       "output_type": "stream",
       "stream": "stdout",
       "text": [
        "Bbox('array([[ 0.125     ,  0.52790698],\\n       [ 0.35755814,  0.9       ]])')\n",
        "Bbox('array([[ 0.125     ,  0.52790698],\\n       [ 0.50961538,  0.9       ]])')\n",
        "Bbox('array([[ 0.125     ,  0.52790698],\\n       [ 0.50961538,  0.9       ]])')\n"
       ]
      }
     ],
     "prompt_number": 116
    },
    {
     "cell_type": "code",
     "collapsed": false,
     "input": [
      "cb = fig.colorbar(axim, cax = cax)\n",
      "cb.solids.set_edgecolor(\"face\")\n",
      "\n",
      "cb.set_label('onset adduction Dvp [%]')"
     ],
     "language": "python",
     "metadata": {},
     "outputs": [],
     "prompt_number": 117
    },
    {
     "cell_type": "code",
     "collapsed": false,
     "input": [
      "labelformat.update(dict(transform = ax_a.transData))\n",
      "ax_a.text(-0.1, 6.9, plotlabels[0], **labelformat)"
     ],
     "language": "python",
     "metadata": {},
     "outputs": [
      {
       "metadata": {},
       "output_type": "pyout",
       "prompt_number": 118,
       "text": [
        "<matplotlib.text.Text at 0x1cdde6d0>"
       ]
      }
     ],
     "prompt_number": 118
    },
    {
     "cell_type": "code",
     "collapsed": false,
     "input": [
      "for TAnum, (a, TAcond) in enumerate(zip([ax_b, ax_c, ax_d], ['TA 0', 'TA 1', 'TA 2'])):\n",
      "    axim = a.imshow(dVP_plot[TAcond])\n",
      "    a.set_title(TAcond)\n",
      "    \n",
      "    a.grid(False)\n",
      "\n",
      "    axim.set_clim(np.nanmin(all_dVP), np.nanmax(all_dVP))\n",
      "    a.relim()\n",
      "\n",
      "    a.set_xlabel(label_trunkRLN)\n",
      "    a.set_ylabel(label_SLN)\n",
      "\n",
      "    co = a.contour(axim.get_array(), \n",
      "                   12, \n",
      "                   colors = 'w')\n",
      "    a.clabel(co, fmt = '%.0f', fontsize = 20, inline = True)\n",
      "\n",
      "    a.axis([-0.5, 7.5, -0.5, 7.5])\n",
      "\n",
      "    labelformat.update(dict(transform = a.transData))\n",
      "    a.text(-0.1, 6.9, plotlabels[TAnum + 1], **labelformat)"
     ],
     "language": "python",
     "metadata": {},
     "outputs": [],
     "prompt_number": 119
    },
    {
     "cell_type": "code",
     "collapsed": false,
     "input": [
      "ax_d.set_ylabel('')\n",
      "\n",
      "ax_a.set_anchor('W')\n",
      "ax_c.set_anchor('W')\n",
      "\n",
      "fig.canvas.draw()"
     ],
     "language": "python",
     "metadata": {},
     "outputs": [],
     "prompt_number": 120
    },
    {
     "cell_type": "code",
     "collapsed": false,
     "input": [
      "if True:\n",
      "    figurename = 'Figure1ABCD_new.pdf'\n",
      "    fig.savefig(figurename, format = 'pdf', orientation = 'landscape',\n",
      "                bbox_inches = 'tight', pad_inches = 0.1)"
     ],
     "language": "python",
     "metadata": {},
     "outputs": [],
     "prompt_number": 122
    },
    {
     "cell_type": "raw",
     "metadata": {},
     "source": [
      "plotlabels = ['b', 'c', 'd']\n",
      "labelformat = dict(fontweight = 'bold', fontsize = 'xx-large', color = 'black', backgroundcolor = 'none')\n",
      "\n",
      "for TAnum, TAcond in enumerate(['TA 0', 'TA 1', 'TA 2']):\n",
      "\n",
      "    figname = 'onset adduction Dvp: %s' % TAcond\n",
      "    fig = plt.figure(num = figname, figsize = (14.9625, 12.2125))\n",
      "\n",
      "    axim = plt.imshow(dVP_plot[TAcond])\n",
      "    ax = plt.gca()\n",
      "\n",
      "    # axim.set_clim(17, 103)\n",
      "    axim.set_clim(np.nanmin(all_dVP), np.nanmax(all_dVP))\n",
      "    ax.relim()\n",
      "\n",
      "    co = plt.contour(axim.get_array(), \n",
      "                     12, \n",
      "                     colors = 'w')\n",
      "    plt.clabel(co, fmt = '%.0f', fontsize = 20, inline = True)\n",
      "\n",
      "    ax.axis([-0.5, 7.5, -0.5, 7.5])\n",
      "    ax.grid(False)\n",
      "\n",
      "    plt.xlabel(label_trunkRLN)\n",
      "    if TAcond in ['TA 1']:\n",
      "        plt.ylabel(label_SLN)\n",
      "        \n",
      "    if TAcond in ['TA 0', 'TA 2']:\n",
      "        ax.set_yticklabels([])\n",
      "    plt.title(TAcond) # figname)\n",
      "\n",
      "    # cb = plt.colorbar(axim)\n",
      "    # cb.set_label('onset adduction Dvp [%]')\n",
      "\n",
      "    labelformat.update(dict(transform = ax.transData))\n",
      "    ax.text(-0.1, 6.9, plotlabels[TAnum], **labelformat)\n",
      "    \n",
      "    figurename = '%s.onsetDvp.%s' % (figurenametemplate, TAcond.replace(' ', ''))  \n",
      "    figurename += \".%s\" % figureformat\n",
      "    if True:\n",
      "        plt.savefig(figurename, format = figureformat, orientation = figureorientation,\n",
      "                    bbox_inches = 'tight', pad_inches = 0.1)\n",
      "        print \"saving figure: \", figurename\n",
      "        \n",
      "        plt.close('all')\n",
      "    else:\n",
      "        plt.show()"
     ]
    },
    {
     "cell_type": "raw",
     "metadata": {},
     "source": [
      "!pdfjam Figure1?.pdf --paper letter --no-landscape --no-twoside --frame false --nup 2x2 --outfile \"Figure1ABCD.pdf\""
     ]
    },
    {
     "cell_type": "code",
     "collapsed": false,
     "input": [
      "!ls -alo --color=always Figure?[A-D].pdf | grep SLN-trunkRLN | grep onsetRstrain"
     ],
     "language": "python",
     "metadata": {},
     "outputs": [
      {
       "output_type": "stream",
       "stream": "stdout",
       "text": [
        "lrwxrwxrwx 1 neubauer 33 Jun  7 14:46 \u001b[00;36mFigure2A.pdf\u001b[0m -> \u001b[00mSLN-trunkRLN.onsetRstrain.TA2.pdf\u001b[0m\r\n",
        "lrwxrwxrwx 1 neubauer 33 Jun  7 14:46 \u001b[00;36mFigure2B.pdf\u001b[0m -> \u001b[00mSLN-trunkRLN.onsetRstrain.TA4.pdf\u001b[0m\r\n"
       ]
      }
     ],
     "prompt_number": 47
    },
    {
     "cell_type": "code",
     "collapsed": false,
     "input": [
      "ls -lo Figure2?.pdf"
     ],
     "language": "python",
     "metadata": {},
     "outputs": [
      {
       "output_type": "stream",
       "stream": "stdout",
       "text": [
        "lrwxrwxrwx 1 neubauer 33 Jun  7 14:46 \u001b[0m\u001b[00;36mFigure2A.pdf\u001b[0m -> \u001b[00mSLN-trunkRLN.onsetRstrain.TA2.pdf\u001b[0m\r\n",
        "lrwxrwxrwx 1 neubauer 33 Jun  7 14:46 \u001b[00;36mFigure2B.pdf\u001b[0m -> \u001b[00mSLN-trunkRLN.onsetRstrain.TA4.pdf\u001b[0m\r\n",
        "lrwxrwxrwx 1 neubauer 31 Jun  7 14:46 \u001b[00;36mFigure2C.pdf\u001b[0m -> \u001b[00mSLN-TA.onsetRstrain.LCA_IA5.pdf\u001b[0m\r\n",
        "lrwxrwxrwx 1 neubauer 31 Jun  7 14:46 \u001b[00;36mFigure2D.pdf\u001b[0m -> \u001b[00mSLN-TA.onsetRstrain.LCA_IA7.pdf\u001b[0m\r\n"
       ]
      }
     ],
     "prompt_number": 52
    },
    {
     "cell_type": "code",
     "collapsed": false,
     "input": [
      "del fig"
     ],
     "language": "python",
     "metadata": {},
     "outputs": [],
     "prompt_number": 123
    },
    {
     "cell_type": "code",
     "collapsed": false,
     "input": [
      "del fig2"
     ],
     "language": "python",
     "metadata": {},
     "outputs": [],
     "prompt_number": 203
    },
    {
     "cell_type": "code",
     "collapsed": false,
     "input": [
      "fig2 = plt.figure(figsize = (20, 20)) # set to large number for better resolution, e.g. (20, 20)\n",
      "fig2.clf()\n",
      "\n",
      "gs = mpl.gridspec.GridSpec(2, 2)\n",
      "gs.update(wspace = 0.015, hspace = 0.15)\n",
      "\n",
      "ax_a = fig2.add_subplot(gs[0, 0])\n",
      "ax_b = fig2.add_subplot(gs[0, 1])\n",
      "ax_c = fig2.add_subplot(gs[1, 0])\n",
      "ax_d = fig2.add_subplot(gs[1, 1])\n",
      "\n",
      "ax_b.set_yticklabels([])\n",
      "ax_d.set_yticklabels([])"
     ],
     "language": "python",
     "metadata": {},
     "outputs": [
      {
       "metadata": {},
       "output_type": "pyout",
       "prompt_number": 204,
       "text": [
        "[]"
       ]
      }
     ],
     "prompt_number": 204
    },
    {
     "cell_type": "code",
     "collapsed": false,
     "input": [
      "for TAnum, (a, TAcond) in enumerate(zip([ax_a, ax_b], ['TA 2', 'TA 4'])):\n",
      "    axim = a.imshow(rstrain_plot[TAcond])\n",
      "    a.set_title(TAcond)\n",
      "    \n",
      "    a.set_anchor('NW')\n",
      "    \n",
      "    axim.set_clim(np.nanmin(all_rstrain), np.nanmax(all_rstrain))\n",
      "    a.relim()\n",
      "\n",
      "    co = a.contour(axim.get_array(), \n",
      "                     12, \n",
      "                     colors = 'w')\n",
      "    a.clabel(co, fmt = '%.0f', fontsize = 20, inline = True)\n",
      "\n",
      "    a.axis([-0.5, 7.5, -0.5, 7.5])\n",
      "    a.grid(False)\n",
      "\n",
      "    a.set_xlabel(label_trunkRLN)\n",
      "    a.set_ylabel(label_SLN)\n",
      "    \n",
      "    labelformat.update(dict(transform = a.transData))\n",
      "    a.text(-0.1, 6.9, plotlabels[TAnum], **labelformat)\n",
      "\n",
      "ax_b.set_ylabel('')\n",
      "\n",
      "ax_a.set_anchor('NW')\n",
      "ax_b.set_anchor('NW')\n",
      "\n",
      "fig2.canvas.draw()"
     ],
     "language": "python",
     "metadata": {},
     "outputs": [],
     "prompt_number": 205
    },
    {
     "cell_type": "code",
     "collapsed": false,
     "input": [
      "for ind, (a, trunkRLNnum) in enumerate(zip([ax_c, ax_d], [5, 7])):\n",
      "    # trunkRLNcond = 'trunk RLN %s' % str(trunkRLNnum)\n",
      "    trunkRLNcond = 'LCA/IA %s' % str(trunkRLNnum)\n",
      "\n",
      "    axim = a.imshow(all_rstrain[:, :, trunkRLNnum])\n",
      "    a.set_title(\"LCA/IA %d\" % trunkRLNnum)\n",
      "    \n",
      "    a.set_anchor('NW')\n",
      "    \n",
      "    axim.set_clim(np.nanmin(all_rstrain), np.nanmax(all_rstrain))\n",
      "    a.relim()\n",
      "\n",
      "    co = a.contour(axim.get_array(), \n",
      "                     12, \n",
      "                     colors = 'w')\n",
      "    a.clabel(co, fmt = '%.0f', fontsize = 20, inline = True)\n",
      "\n",
      "    a.axis([-0.5, 4.5, -0.5, 7.5])\n",
      "    a.grid(False)\n",
      "\n",
      "    a.set_xlabel(label_TA)\n",
      "    a.set_ylabel(label_SLN)\n",
      "    \n",
      "    labelformat.update(dict(transform = a.transData))\n",
      "    a.text(-0.1, 6.9, plotlabels[ind + 2], **labelformat)\n",
      "\n",
      "ax_d.set_ylabel('')\n",
      "\n",
      "ax_c.set_anchor('NW')\n",
      "ax_d.set_anchor('NW')\n",
      "\n",
      "fig2.canvas.draw()"
     ],
     "language": "python",
     "metadata": {},
     "outputs": [],
     "prompt_number": 206
    },
    {
     "cell_type": "code",
     "collapsed": false,
     "input": [
      "fig2.canvas.draw()\n",
      "\n",
      "bbox_a = ax_a.get_position()\n",
      "bbox_b = ax_b.get_position()\n",
      "\n",
      "bbox_c = ax_c.get_position()\n",
      "bbox_d = ax_d.get_position()\n",
      "\n",
      "# put both lower plots to the lower left side\n",
      "# ax_d.set_position(pos = [bbox_c.x1 + bbox_c.width * 0.1, bbox_d.y0, bbox_d.width, bbox_d.height], which = 'both')\n",
      "\n",
      "# put left lower plot towards the middle\n",
      "ax_c.set_position(pos = [bbox_a.x1 - bbox_c.width, bbox_c.y0, bbox_c.width, bbox_c.height], which = 'both')"
     ],
     "language": "python",
     "metadata": {},
     "outputs": [],
     "prompt_number": 207
    },
    {
     "cell_type": "code",
     "collapsed": false,
     "input": [
      "fig2.canvas.draw()\n",
      "\n",
      "bbox_d = ax_d.get_position()\n",
      "\n",
      "cbar_pad = 0.1 # padding between colorbar and axes, as a fraction of the axes width\n",
      "cbar_width = 0.1 # width of colorbar, as a fraction of axes width\n",
      " \n",
      "cax = plt.axes([bbox_d.x1 + bbox_d.width * cbar_pad, bbox_d.y0, bbox_d.width * cbar_width, bbox_d.height])"
     ],
     "language": "python",
     "metadata": {},
     "outputs": [],
     "prompt_number": 209
    },
    {
     "cell_type": "code",
     "collapsed": false,
     "input": [
      "cb = fig2.colorbar(axim, cax = cax)\n",
      "cb.solids.set_edgecolor(\"face\")\n",
      "\n",
      "cb.set_label('onset right strain [%]')"
     ],
     "language": "python",
     "metadata": {},
     "outputs": [],
     "prompt_number": 210
    },
    {
     "cell_type": "code",
     "collapsed": false,
     "input": [
      "if True:\n",
      "    figurename = 'Figure2ABCD_new.pdf'\n",
      "    fig2.savefig(figurename, format = 'pdf', orientation = 'landscape',\n",
      "                 bbox_inches = 'tight', pad_inches = 0.1)"
     ],
     "language": "python",
     "metadata": {},
     "outputs": [],
     "prompt_number": 212
    },
    {
     "cell_type": "raw",
     "metadata": {},
     "source": [
      "for TAnum, TAcond in enumerate(['TA 2', 'TA 4']):\n",
      "\n",
      "    figname = 'onset right strain: %s' % TAcond\n",
      "    fig = plt.figure(num = figname, figsize = (14.9625, 12.2125))\n",
      "\n",
      "    axim = plt.imshow(rstrain_plot[TAcond])\n",
      "    ax = plt.gca()\n",
      "\n",
      "    # axim.set_clim(-10, 45)\n",
      "    axim.set_clim(np.nanmin(all_rstrain), np.nanmax(all_rstrain))\n",
      "    ax.relim()\n",
      "\n",
      "    co = plt.contour(axim.get_array(), \n",
      "                     12, \n",
      "                     colors = 'w')\n",
      "    plt.clabel(co, fmt = '%.0f', fontsize = 10, inline = True)\n",
      "\n",
      "    ax.axis([-0.5, 7.5, -0.5, 7.5])\n",
      "    ax.grid(False)\n",
      "\n",
      "    plt.xlabel(label_trunkRLN)\n",
      "    plt.ylabel(label_SLN)\n",
      "    plt.title(figname)\n",
      "\n",
      "    cb = plt.colorbar(axim)\n",
      "    cb.set_label('onset right strain [%]')\n",
      "\n",
      "    plotlabels = ['A', 'B']\n",
      "    labelformat = dict(transform = ax.transData, fontweight = 'bold', fontsize = 'xx-large', color = 'black', backgroundcolor = 'none')\n",
      "    \n",
      "    ax.text(-0.1, 6.9, plotlabels[TAnum], **labelformat)\n",
      "    \n",
      "    figurename = '%s.onsetRstrain.%s' % (figurenametemplate, TAcond.replace(' ', ''))  \n",
      "    figurename += \".%s\" % figureformat\n",
      "    if True:\n",
      "        plt.savefig(figurename, format = figureformat, orientation = figureorientation,\n",
      "                    bbox_inches = 'tight', pad_inches = 0.1)\n",
      "        plt.close('all')\n",
      "    else:\n",
      "        plt.show()"
     ]
    },
    {
     "cell_type": "code",
     "collapsed": false,
     "input": [
      "!ls -alo --color=always Figure?[A-D].pdf | grep SLN-trunkRLN | grep onsetF0"
     ],
     "language": "python",
     "metadata": {},
     "outputs": [
      {
       "output_type": "stream",
       "stream": "stdout",
       "text": [
        "lrwxrwxrwx 1 neubauer 28 Jun  7 14:46 \u001b[00;36mFigure3A.pdf\u001b[0m -> \u001b[00mSLN-trunkRLN.onsetF0.TA1.pdf\u001b[0m\r\n",
        "lrwxrwxrwx 1 neubauer 28 Jun  7 14:46 \u001b[00;36mFigure3B.pdf\u001b[0m -> \u001b[00mSLN-trunkRLN.onsetF0.TA2.pdf\u001b[0m\r\n",
        "lrwxrwxrwx 1 neubauer 28 Jun  7 14:46 \u001b[00;36mFigure3C.pdf\u001b[0m -> \u001b[00mSLN-trunkRLN.onsetF0.TA3.pdf\u001b[0m\r\n",
        "lrwxrwxrwx 1 neubauer 28 Jun  7 14:46 \u001b[00;36mFigure3D.pdf\u001b[0m -> \u001b[00mSLN-trunkRLN.onsetF0.TA4.pdf\u001b[0m\r\n"
       ]
      }
     ],
     "prompt_number": 79
    },
    {
     "cell_type": "code",
     "collapsed": false,
     "input": [
      "del fig2"
     ],
     "language": "python",
     "metadata": {},
     "outputs": [],
     "prompt_number": 133
    },
    {
     "cell_type": "code",
     "collapsed": false,
     "input": [
      "del fig3"
     ],
     "language": "python",
     "metadata": {},
     "outputs": [
      {
       "ename": "NameError",
       "evalue": "name 'fig3' is not defined",
       "output_type": "pyerr",
       "traceback": [
        "\u001b[1;31m---------------------------------------------------------------------------\u001b[0m\n\u001b[1;31mNameError\u001b[0m                                 Traceback (most recent call last)",
        "\u001b[1;32m<ipython-input-233-e80cf539d838>\u001b[0m in \u001b[0;36m<module>\u001b[1;34m()\u001b[0m\n\u001b[1;32m----> 1\u001b[1;33m \u001b[1;32mdel\u001b[0m \u001b[0mfig3\u001b[0m\u001b[1;33m\u001b[0m\u001b[0m\n\u001b[0m",
        "\u001b[1;31mNameError\u001b[0m: name 'fig3' is not defined"
       ]
      }
     ],
     "prompt_number": 233
    },
    {
     "cell_type": "code",
     "collapsed": false,
     "input": [
      "fig3 = plt.figure(figsize = (20, 20)) # set to large number for better resolution, e.g. (20, 20)\n",
      "fig3.clf()\n",
      "\n",
      "gs = mpl.gridspec.GridSpec(2, 2)\n",
      "gs.update(wspace = 0.015, hspace = 0.05)\n",
      "\n",
      "ax_a = fig3.add_subplot(gs[0, 0])\n",
      "ax_b = fig3.add_subplot(gs[0, 1])\n",
      "ax_c = fig3.add_subplot(gs[1, 0])\n",
      "ax_d = fig3.add_subplot(gs[1, 1])\n",
      "\n",
      "ax_a.set_xticklabels([])\n",
      "ax_b.set_xticklabels([])\n",
      "\n",
      "ax_b.set_yticklabels([])\n",
      "ax_d.set_yticklabels([])"
     ],
     "language": "python",
     "metadata": {},
     "outputs": [
      {
       "metadata": {},
       "output_type": "pyout",
       "prompt_number": 234,
       "text": [
        "[]"
       ]
      }
     ],
     "prompt_number": 234
    },
    {
     "cell_type": "code",
     "collapsed": false,
     "input": [
      "contours = {'TA 0': np.arange(100, 200, 30),\n",
      "            'TA 1': np.arange(100, 640, 30),\n",
      "            'TA 2': np.arange(100, 720, 30),\n",
      "            'TA 3': np.arange(100, 720, 30),\n",
      "            'TA 4': np.arange(80, 420, 30)}"
     ],
     "language": "python",
     "metadata": {},
     "outputs": [],
     "prompt_number": 235
    },
    {
     "cell_type": "code",
     "collapsed": false,
     "input": [
      "np.nanmin(all_F0), np.nanmax(all_F0)"
     ],
     "language": "python",
     "metadata": {},
     "outputs": [
      {
       "metadata": {},
       "output_type": "pyout",
       "prompt_number": 236,
       "text": [
        "(68.989306657468106, 772.20077220077201)"
       ]
      }
     ],
     "prompt_number": 236
    },
    {
     "cell_type": "code",
     "collapsed": false,
     "input": [
      "for TAnum, (a, TAcond) in enumerate(zip([ax_a, ax_b, ax_c, ax_d], ['TA 1', 'TA 2', 'TA 3', 'TA 4'])):\n",
      "\n",
      "    axim = a.imshow(F0_plot[TAcond])\n",
      "    a.set_title(TAcond)\n",
      "    \n",
      "    # axim.set_clim(100, 720)\n",
      "    axim.set_clim(np.nanmin(all_F0), np.nanmax(all_F0))\n",
      "    a.relim()\n",
      "    \n",
      "    co = a.contour(axim.get_array(), \n",
      "                     contours[TAcond], # 12, \n",
      "                     colors = 'w')\n",
      "    a.clabel(co, fmt = '%.0f', fontsize = 20, inline = True)\n",
      "\n",
      "    a.axis([-0.5, 7.5, -0.5, 7.5])\n",
      "    a.grid(False)\n",
      "\n",
      "    a.set_xlabel(label_trunkRLN)\n",
      "    a.set_ylabel(label_SLN)\n",
      "\n",
      "    labelformat.update(dict(transform = a.transData))\n",
      "    a.text(-0.1, 6.9, plotlabels[TAnum], **labelformat)"
     ],
     "language": "python",
     "metadata": {},
     "outputs": [],
     "prompt_number": 237
    },
    {
     "cell_type": "code",
     "collapsed": false,
     "input": [
      "ax_a.set_xlabel('')\n",
      "\n",
      "ax_b.set_xlabel('')\n",
      "ax_b.set_ylabel('')\n",
      "\n",
      "ax_d.set_ylabel('')"
     ],
     "language": "python",
     "metadata": {},
     "outputs": [
      {
       "metadata": {},
       "output_type": "pyout",
       "prompt_number": 238,
       "text": [
        "<matplotlib.text.Text at 0x4e6f2b10>"
       ]
      }
     ],
     "prompt_number": 238
    },
    {
     "cell_type": "code",
     "collapsed": false,
     "input": [
      "fig3.canvas.draw()"
     ],
     "language": "python",
     "metadata": {},
     "outputs": [],
     "prompt_number": 239
    },
    {
     "cell_type": "code",
     "collapsed": false,
     "input": [
      "bbox_cd = mpl.transforms.Bbox.union([a.get_position() for a in [ax_c, ax_d]])\n",
      "bbox_cd"
     ],
     "language": "python",
     "metadata": {},
     "outputs": [
      {
       "metadata": {},
       "output_type": "pyout",
       "prompt_number": 240,
       "text": [
        "Bbox('array([[ 0.125     ,  0.10281426],\\n       [ 0.9       ,  0.48742964]])')"
       ]
      }
     ],
     "prompt_number": 240
    },
    {
     "cell_type": "code",
     "collapsed": false,
     "input": [
      "fig3.canvas.draw()\n",
      "\n",
      "cbar_pad = 0.1 # padding between colorbar and axes, as a fraction of the axes width\n",
      "cbar_width = 0.1 # width of colorbar, as a fraction of axes width\n",
      " \n",
      "cax = plt.axes([bbox_cd.x0, bbox_cd.y0 - bbox_cd.height * (cbar_width + cbar_pad), bbox_cd.width, bbox_cd.height * cbar_width])"
     ],
     "language": "python",
     "metadata": {},
     "outputs": [],
     "prompt_number": 241
    },
    {
     "cell_type": "code",
     "collapsed": false,
     "input": [
      "cb = fig3.colorbar(axim, cax = cax, orientation = 'horizontal')\n",
      "cb.solids.set_edgecolor(\"face\")\n",
      "\n",
      "cb.set_label('onset frequency [Hz]')"
     ],
     "language": "python",
     "metadata": {},
     "outputs": [],
     "prompt_number": 242
    },
    {
     "cell_type": "code",
     "collapsed": false,
     "input": [
      "if True:\n",
      "    figurename = \"Figure3ABCD_new.pdf\"\n",
      "    fig3.savefig(figurename, format = figureformat, orientation = figureorientation,\n",
      "                 bbox_inches = 'tight', pad_inches = 0.1)"
     ],
     "language": "python",
     "metadata": {},
     "outputs": [],
     "prompt_number": 243
    },
    {
     "cell_type": "code",
     "collapsed": false,
     "input": [
      "ls -lo Figure4?.pdf"
     ],
     "language": "python",
     "metadata": {},
     "outputs": [
      {
       "output_type": "stream",
       "stream": "stdout",
       "text": [
        "lrwxrwxrwx 1 neubauer 26 Jun  7 14:46 \u001b[0m\u001b[00;36mFigure4A.pdf\u001b[0m -> \u001b[00mSLN-TA.onsetF0.LCA_IA1.pdf\u001b[0m\r\n",
        "lrwxrwxrwx 1 neubauer 26 Jun  7 14:46 \u001b[00;36mFigure4B.pdf\u001b[0m -> \u001b[00mSLN-TA.onsetF0.LCA_IA3.pdf\u001b[0m\r\n",
        "lrwxrwxrwx 1 neubauer 26 Jun  7 14:46 \u001b[00;36mFigure4C.pdf\u001b[0m -> \u001b[00mSLN-TA.onsetF0.LCA_IA5.pdf\u001b[0m\r\n",
        "lrwxrwxrwx 1 neubauer 26 Jun  7 14:46 \u001b[00;36mFigure4D.pdf\u001b[0m -> \u001b[00mSLN-TA.onsetF0.LCA_IA7.pdf\u001b[0m\r\n"
       ]
      }
     ],
     "prompt_number": 146
    },
    {
     "cell_type": "code",
     "collapsed": false,
     "input": [
      "del fig3"
     ],
     "language": "python",
     "metadata": {},
     "outputs": [],
     "prompt_number": 147
    },
    {
     "cell_type": "code",
     "collapsed": false,
     "input": [
      "del fig4"
     ],
     "language": "python",
     "metadata": {},
     "outputs": [],
     "prompt_number": 49
    },
    {
     "cell_type": "code",
     "collapsed": false,
     "input": [
      "fig4 = plt.figure(figsize = (20, 20)) # set to large number for better resolution, e.g. (20, 20)\n",
      "fig4.clf()\n",
      "\n",
      "gs = mpl.gridspec.GridSpec(2, 2)\n",
      "gs.update(wspace = 0.015, hspace = 0.05)\n",
      "\n",
      "ax_a = fig4.add_subplot(gs[0, 0])\n",
      "ax_b = fig4.add_subplot(gs[0, 1])\n",
      "ax_c = fig4.add_subplot(gs[1, 0])\n",
      "ax_d = fig4.add_subplot(gs[1, 1])\n",
      "\n",
      "ax_a.set_xticklabels([])\n",
      "ax_b.set_xticklabels([])\n",
      "\n",
      "ax_b.set_yticklabels([])\n",
      "ax_d.set_yticklabels([])"
     ],
     "language": "python",
     "metadata": {},
     "outputs": [
      {
       "metadata": {},
       "output_type": "pyout",
       "prompt_number": 50,
       "text": [
        "[]"
       ]
      }
     ],
     "prompt_number": 50
    },
    {
     "cell_type": "code",
     "collapsed": false,
     "input": [
      "for ind, (a, trunkRLNnum) in enumerate(zip([ax_a, ax_b, ax_c, ax_d], [1, 3, 5, 7])):\n",
      "    # trunkRLNcond = 'trunk RLN %s' % str(trunkRLNnum)\n",
      "    trunkRLNcond = 'LCA/IA %s' % str(trunkRLNnum)\n",
      "\n",
      "    axim = a.imshow(all_F0[:, :, trunkRLNnum])\n",
      "    \n",
      "    axim.set_clim(np.nanmin(all_F0), np.nanmax(all_F0))\n",
      "    a.relim()\n",
      "    \n",
      "    co = a.contour(axim.get_array(), \n",
      "                     12, # contours[TAcond], # 12, \n",
      "                     colors = 'w')\n",
      "    a.clabel(co, fmt = '%.0f', fontsize = 20, inline = True)\n",
      "\n",
      "    a.axis([-0.5, 4.5, -0.5, 7.5])\n",
      "    a.grid(False)\n",
      "\n",
      "    a.set_xlabel(label_TA)\n",
      "    a.set_ylabel(label_SLN)\n",
      "    a.set_title(trunkRLNcond)\n",
      "\n",
      "    labelformat.update(dict(transform = a.transData))\n",
      "    a.text(-0.1, 6.9, plotlabels[ind], **labelformat)"
     ],
     "language": "python",
     "metadata": {},
     "outputs": [],
     "prompt_number": 51
    },
    {
     "cell_type": "code",
     "collapsed": false,
     "input": [
      "ax_a.set_xlabel('')\n",
      "\n",
      "ax_b.set_xlabel('')\n",
      "ax_b.set_ylabel('')\n",
      "\n",
      "ax_d.set_ylabel('')"
     ],
     "language": "python",
     "metadata": {},
     "outputs": [
      {
       "metadata": {},
       "output_type": "pyout",
       "prompt_number": 52,
       "text": [
        "<matplotlib.text.Text at 0x56c4b50>"
       ]
      }
     ],
     "prompt_number": 52
    },
    {
     "cell_type": "code",
     "collapsed": false,
     "input": [
      "fig4.canvas.draw()"
     ],
     "language": "python",
     "metadata": {},
     "outputs": [],
     "prompt_number": 53
    },
    {
     "cell_type": "code",
     "collapsed": false,
     "input": [
      "ax_a.set_anchor('NW')\n",
      "ax_b.set_anchor('NW')\n",
      "ax_c.set_anchor('NW')\n",
      "ax_d.set_anchor('NW')"
     ],
     "language": "python",
     "metadata": {},
     "outputs": [],
     "prompt_number": 54
    },
    {
     "cell_type": "code",
     "collapsed": false,
     "input": [
      "fig4.canvas.draw()"
     ],
     "language": "python",
     "metadata": {},
     "outputs": [],
     "prompt_number": 55
    },
    {
     "cell_type": "code",
     "collapsed": false,
     "input": [
      "print ax_a.get_position()\n",
      "print ax_a.get_position(original = True)\n",
      "print ax_a.figbox\n",
      "bbox_a = ax_a.get_position()"
     ],
     "language": "python",
     "metadata": {},
     "outputs": [
      {
       "output_type": "stream",
       "stream": "stdout",
       "text": [
        "Bbox('array([[ 0.125     ,  0.5097561 ],\\n       [ 0.36890244,  0.9       ]])')\n",
        "Bbox('array([[ 0.125     ,  0.5097561 ],\\n       [ 0.50961538,  0.9       ]])')\n",
        "Bbox('array([[ 0.125     ,  0.5097561 ],\\n       [ 0.36890244,  0.9       ]])')\n"
       ]
      }
     ],
     "prompt_number": 56
    },
    {
     "cell_type": "code",
     "collapsed": false,
     "input": [
      "print ax_b.get_position()\n",
      "print ax_b.get_position(original = True)\n",
      "print ax_b.figbox\n",
      "bbox_b = ax_b.get_position()"
     ],
     "language": "python",
     "metadata": {},
     "outputs": [
      {
       "output_type": "stream",
       "stream": "stdout",
       "text": [
        "Bbox('array([[ 0.51538462,  0.5097561 ],\\n       [ 0.75928705,  0.9       ]])')\n",
        "Bbox('array([[ 0.51538462,  0.5097561 ],\\n       [ 0.9       ,  0.9       ]])')\n",
        "Bbox('array([[ 0.51538462,  0.5097561 ],\\n       [ 0.75928705,  0.9       ]])')\n"
       ]
      }
     ],
     "prompt_number": 57
    },
    {
     "cell_type": "code",
     "collapsed": false,
     "input": [
      "ax_b.set_position(pos = [bbox_a.x1 + bbox_a.width * 0.05, bbox_b.y0, bbox_b.width, bbox_b.height], which = 'both')"
     ],
     "language": "python",
     "metadata": {},
     "outputs": [],
     "prompt_number": 58
    },
    {
     "cell_type": "code",
     "collapsed": false,
     "input": [
      "print ax_d.get_position()\n",
      "print ax_d.get_position(original = True)\n",
      "print ax_d.figbox\n",
      "bbox_d = ax_d.get_position()"
     ],
     "language": "python",
     "metadata": {},
     "outputs": [
      {
       "output_type": "stream",
       "stream": "stdout",
       "text": [
        "Bbox('array([[ 0.51538462,  0.1       ],\\n       [ 0.75928705,  0.4902439 ]])')\n",
        "Bbox('array([[ 0.51538462,  0.1       ],\\n       [ 0.9       ,  0.4902439 ]])')\n",
        "Bbox('array([[ 0.51538462,  0.1       ],\\n       [ 0.75928705,  0.4902439 ]])')\n"
       ]
      }
     ],
     "prompt_number": 59
    },
    {
     "cell_type": "code",
     "collapsed": false,
     "input": [
      "ax_d.set_position(pos = [bbox_a.x1 + bbox_a.width * 0.05, bbox_d.y0, bbox_d.width, bbox_d.height], which = 'both')"
     ],
     "language": "python",
     "metadata": {},
     "outputs": [],
     "prompt_number": 60
    },
    {
     "cell_type": "code",
     "collapsed": false,
     "input": [
      "fig4.canvas.draw()"
     ],
     "language": "python",
     "metadata": {},
     "outputs": [],
     "prompt_number": 61
    },
    {
     "cell_type": "code",
     "collapsed": false,
     "input": [
      "bbox_cd = mpl.transforms.Bbox.union([a.get_position() for a in [ax_c, ax_d]])\n",
      "bbox_cd"
     ],
     "language": "python",
     "metadata": {},
     "outputs": [
      {
       "metadata": {},
       "output_type": "pyout",
       "prompt_number": 62,
       "text": [
        "Bbox('array([[ 0.125    ,  0.1      ],\\n       [ 0.625    ,  0.4902439]])')"
       ]
      }
     ],
     "prompt_number": 62
    },
    {
     "cell_type": "code",
     "collapsed": false,
     "input": [
      "fig4.delaxes(cax)\n",
      "del cb"
     ],
     "language": "python",
     "metadata": {},
     "outputs": [
      {
       "ename": "KeyError",
       "evalue": "<matplotlib.axes.Axes object at 0x47be910>",
       "output_type": "pyerr",
       "traceback": [
        "\u001b[1;31m---------------------------------------------------------------------------\u001b[0m\n\u001b[1;31mKeyError\u001b[0m                                  Traceback (most recent call last)",
        "\u001b[1;32m<ipython-input-72-7cc6611b4362>\u001b[0m in \u001b[0;36m<module>\u001b[1;34m()\u001b[0m\n\u001b[1;32m----> 1\u001b[1;33m \u001b[0mfig4\u001b[0m\u001b[1;33m.\u001b[0m\u001b[0mdelaxes\u001b[0m\u001b[1;33m(\u001b[0m\u001b[0mcax\u001b[0m\u001b[1;33m)\u001b[0m\u001b[1;33m\u001b[0m\u001b[0m\n\u001b[0m\u001b[0;32m      2\u001b[0m \u001b[1;32mdel\u001b[0m \u001b[0mcb\u001b[0m\u001b[1;33m\u001b[0m\u001b[0m\n",
        "\u001b[1;32m/usr/lib64/python2.7/site-packages/matplotlib/figure.pyc\u001b[0m in \u001b[0;36mdelaxes\u001b[1;34m(self, a)\u001b[0m\n\u001b[0;32m    732\u001b[0m     \u001b[1;32mdef\u001b[0m \u001b[0mdelaxes\u001b[0m\u001b[1;33m(\u001b[0m\u001b[0mself\u001b[0m\u001b[1;33m,\u001b[0m \u001b[0ma\u001b[0m\u001b[1;33m)\u001b[0m\u001b[1;33m:\u001b[0m\u001b[1;33m\u001b[0m\u001b[0m\n\u001b[0;32m    733\u001b[0m         \u001b[1;34m'remove a from the figure and update the current axes'\u001b[0m\u001b[1;33m\u001b[0m\u001b[0m\n\u001b[1;32m--> 734\u001b[1;33m         \u001b[0mself\u001b[0m\u001b[1;33m.\u001b[0m\u001b[0m_axstack\u001b[0m\u001b[1;33m.\u001b[0m\u001b[0mremove\u001b[0m\u001b[1;33m(\u001b[0m\u001b[0ma\u001b[0m\u001b[1;33m)\u001b[0m\u001b[1;33m\u001b[0m\u001b[0m\n\u001b[0m\u001b[0;32m    735\u001b[0m         \u001b[1;32mfor\u001b[0m \u001b[0mfunc\u001b[0m \u001b[1;32min\u001b[0m \u001b[0mself\u001b[0m\u001b[1;33m.\u001b[0m\u001b[0m_axobservers\u001b[0m\u001b[1;33m:\u001b[0m\u001b[1;33m\u001b[0m\u001b[0m\n\u001b[0;32m    736\u001b[0m             \u001b[0mfunc\u001b[0m\u001b[1;33m(\u001b[0m\u001b[0mself\u001b[0m\u001b[1;33m)\u001b[0m\u001b[1;33m\u001b[0m\u001b[0m\n",
        "\u001b[1;32m/usr/lib64/python2.7/site-packages/matplotlib/figure.pyc\u001b[0m in \u001b[0;36mremove\u001b[1;34m(self, a)\u001b[0m\n\u001b[0;32m     91\u001b[0m     \u001b[1;32mdef\u001b[0m \u001b[0mremove\u001b[0m\u001b[1;33m(\u001b[0m\u001b[0mself\u001b[0m\u001b[1;33m,\u001b[0m \u001b[0ma\u001b[0m\u001b[1;33m)\u001b[0m\u001b[1;33m:\u001b[0m\u001b[1;33m\u001b[0m\u001b[0m\n\u001b[0;32m     92\u001b[0m         \u001b[1;34m\"\"\"Remove the axes from the stack.\"\"\"\u001b[0m\u001b[1;33m\u001b[0m\u001b[0m\n\u001b[1;32m---> 93\u001b[1;33m         \u001b[0mStack\u001b[0m\u001b[1;33m.\u001b[0m\u001b[0mremove\u001b[0m\u001b[1;33m(\u001b[0m\u001b[0mself\u001b[0m\u001b[1;33m,\u001b[0m \u001b[0mself\u001b[0m\u001b[1;33m.\u001b[0m\u001b[0m_entry_from_axes\u001b[0m\u001b[1;33m(\u001b[0m\u001b[0ma\u001b[0m\u001b[1;33m)\u001b[0m\u001b[1;33m)\u001b[0m\u001b[1;33m\u001b[0m\u001b[0m\n\u001b[0m\u001b[0;32m     94\u001b[0m \u001b[1;33m\u001b[0m\u001b[0m\n\u001b[0;32m     95\u001b[0m     \u001b[1;32mdef\u001b[0m \u001b[0mbubble\u001b[0m\u001b[1;33m(\u001b[0m\u001b[0mself\u001b[0m\u001b[1;33m,\u001b[0m \u001b[0ma\u001b[0m\u001b[1;33m)\u001b[0m\u001b[1;33m:\u001b[0m\u001b[1;33m\u001b[0m\u001b[0m\n",
        "\u001b[1;32m/usr/lib64/python2.7/site-packages/matplotlib/figure.pyc\u001b[0m in \u001b[0;36m_entry_from_axes\u001b[1;34m(self, e)\u001b[0m\n\u001b[0;32m     86\u001b[0m \u001b[1;33m\u001b[0m\u001b[0m\n\u001b[0;32m     87\u001b[0m     \u001b[1;32mdef\u001b[0m \u001b[0m_entry_from_axes\u001b[0m\u001b[1;33m(\u001b[0m\u001b[0mself\u001b[0m\u001b[1;33m,\u001b[0m \u001b[0me\u001b[0m\u001b[1;33m)\u001b[0m\u001b[1;33m:\u001b[0m\u001b[1;33m\u001b[0m\u001b[0m\n\u001b[1;32m---> 88\u001b[1;33m         \u001b[0mind\u001b[0m\u001b[1;33m,\u001b[0m \u001b[0mk\u001b[0m \u001b[1;33m=\u001b[0m \u001b[0mdict\u001b[0m\u001b[1;33m(\u001b[0m\u001b[1;33m[\u001b[0m\u001b[1;33m(\u001b[0m\u001b[0ma\u001b[0m\u001b[1;33m,\u001b[0m \u001b[1;33m(\u001b[0m\u001b[0mind\u001b[0m\u001b[1;33m,\u001b[0m \u001b[0mk\u001b[0m\u001b[1;33m)\u001b[0m\u001b[1;33m)\u001b[0m \u001b[1;32mfor\u001b[0m \u001b[1;33m(\u001b[0m\u001b[0mk\u001b[0m\u001b[1;33m,\u001b[0m \u001b[1;33m(\u001b[0m\u001b[0mind\u001b[0m\u001b[1;33m,\u001b[0m \u001b[0ma\u001b[0m\u001b[1;33m)\u001b[0m\u001b[1;33m)\u001b[0m \u001b[1;32min\u001b[0m \u001b[0mself\u001b[0m\u001b[1;33m.\u001b[0m\u001b[0m_elements\u001b[0m\u001b[1;33m]\u001b[0m\u001b[1;33m)\u001b[0m\u001b[1;33m[\u001b[0m\u001b[0me\u001b[0m\u001b[1;33m]\u001b[0m\u001b[1;33m\u001b[0m\u001b[0m\n\u001b[0m\u001b[0;32m     89\u001b[0m         \u001b[1;32mreturn\u001b[0m \u001b[1;33m(\u001b[0m\u001b[0mk\u001b[0m\u001b[1;33m,\u001b[0m \u001b[1;33m(\u001b[0m\u001b[0mind\u001b[0m\u001b[1;33m,\u001b[0m \u001b[0me\u001b[0m\u001b[1;33m)\u001b[0m\u001b[1;33m)\u001b[0m\u001b[1;33m\u001b[0m\u001b[0m\n\u001b[0;32m     90\u001b[0m \u001b[1;33m\u001b[0m\u001b[0m\n",
        "\u001b[1;31mKeyError\u001b[0m: <matplotlib.axes.Axes object at 0x47be910>"
       ]
      }
     ],
     "prompt_number": 72
    },
    {
     "cell_type": "code",
     "collapsed": false,
     "input": [
      "fig4.canvas.draw()\n",
      " \n",
      "cbar_pad = 0.1 # padding between colorbar and axes, as a fraction of the axes width\n",
      "cbar_width = 0.05 # width of colorbar, as a fraction of axes width\n",
      " \n",
      "cax = plt.axes([bbox_cd.x0, bbox_cd.y0 - bbox_cd.width * (cbar_width + cbar_pad), bbox_cd.width, bbox_cd.width * cbar_width])"
     ],
     "language": "python",
     "metadata": {},
     "outputs": [],
     "prompt_number": 73
    },
    {
     "cell_type": "code",
     "collapsed": false,
     "input": [
      "cb = fig4.colorbar(axim, cax = cax, orientation = 'horizontal')\n",
      "cb.solids.set_edgecolor(\"face\")\n",
      " \n",
      "cb.set_label('onset frequency [Hz]')"
     ],
     "language": "python",
     "metadata": {},
     "outputs": [],
     "prompt_number": 74
    },
    {
     "cell_type": "code",
     "collapsed": false,
     "input": [
      "if True:\n",
      "    figurename = \"Figure4ABCD_new.pdf\"\n",
      "    fig4.savefig(figurename, format = figureformat, orientation = figureorientation,\n",
      "                 bbox_inches = 'tight', pad_inches = 0.1)"
     ],
     "language": "python",
     "metadata": {},
     "outputs": [],
     "prompt_number": 76
    },
    {
     "cell_type": "code",
     "collapsed": false,
     "input": [
      "!ls -alo --color=always Figure?[A-D].pdf | grep SLN-trunkRLN | grep onsetPs"
     ],
     "language": "python",
     "metadata": {},
     "outputs": [
      {
       "output_type": "stream",
       "stream": "stdout",
       "text": [
        "lrwxrwxrwx 1 neubauer 28 Jun  7 14:46 \u001b[00;36mFigure5A.pdf\u001b[0m -> \u001b[00mSLN-trunkRLN.onsetPs.TA1.pdf\u001b[0m\r\n",
        "lrwxrwxrwx 1 neubauer 28 Jun  7 14:46 \u001b[00;36mFigure5B.pdf\u001b[0m -> \u001b[00mSLN-trunkRLN.onsetPs.TA3.pdf\u001b[0m\r\n"
       ]
      }
     ],
     "prompt_number": 77
    },
    {
     "cell_type": "code",
     "collapsed": false,
     "input": [
      "ls -lo Figure5?.pdf"
     ],
     "language": "python",
     "metadata": {},
     "outputs": [
      {
       "output_type": "stream",
       "stream": "stdout",
       "text": [
        "lrwxrwxrwx 1 neubauer 28 Jun  7 14:46 \u001b[0m\u001b[00;36mFigure5A.pdf\u001b[0m -> \u001b[00mSLN-trunkRLN.onsetPs.TA1.pdf\u001b[0m\r\n",
        "lrwxrwxrwx 1 neubauer 28 Jun  7 14:46 \u001b[00;36mFigure5B.pdf\u001b[0m -> \u001b[00mSLN-trunkRLN.onsetPs.TA3.pdf\u001b[0m\r\n",
        "lrwxrwxrwx 1 neubauer 26 Jun  7 14:46 \u001b[00;36mFigure5C.pdf\u001b[0m -> \u001b[00mSLN-TA.onsetPs.LCA_IA3.pdf\u001b[0m\r\n",
        "lrwxrwxrwx 1 neubauer 26 Jun  7 14:46 \u001b[00;36mFigure5D.pdf\u001b[0m -> \u001b[00mSLN-TA.onsetPs.LCA_IA5.pdf\u001b[0m\r\n"
       ]
      }
     ],
     "prompt_number": 78
    },
    {
     "cell_type": "code",
     "collapsed": false,
     "input": [
      "del fig4"
     ],
     "language": "python",
     "metadata": {},
     "outputs": [],
     "prompt_number": 79
    },
    {
     "cell_type": "code",
     "collapsed": false,
     "input": [
      "del fig5"
     ],
     "language": "python",
     "metadata": {},
     "outputs": [
      {
       "ename": "NameError",
       "evalue": "name 'fig5' is not defined",
       "output_type": "pyerr",
       "traceback": [
        "\u001b[1;31m---------------------------------------------------------------------------\u001b[0m\n\u001b[1;31mNameError\u001b[0m                                 Traceback (most recent call last)",
        "\u001b[1;32m<ipython-input-215-662ff9b17cd6>\u001b[0m in \u001b[0;36m<module>\u001b[1;34m()\u001b[0m\n\u001b[1;32m----> 1\u001b[1;33m \u001b[1;32mdel\u001b[0m \u001b[0mfig5\u001b[0m\u001b[1;33m\u001b[0m\u001b[0m\n\u001b[0m",
        "\u001b[1;31mNameError\u001b[0m: name 'fig5' is not defined"
       ]
      }
     ],
     "prompt_number": 215
    },
    {
     "cell_type": "code",
     "collapsed": false,
     "input": [
      "fig5 = plt.figure(figsize = (20, 20)) # set to large number for better resolution, e.g. (20, 20)\n",
      "fig5.clf()\n",
      "\n",
      "gs = mpl.gridspec.GridSpec(2, 2)\n",
      "gs.update(wspace = 0.015, hspace = 0.15)\n",
      "\n",
      "ax_a = fig5.add_subplot(gs[0, 0])\n",
      "ax_b = fig5.add_subplot(gs[0, 1])\n",
      "ax_c = fig5.add_subplot(gs[1, 0])\n",
      "ax_d = fig5.add_subplot(gs[1, 1])\n",
      "\n",
      "ax_b.set_yticklabels([])\n",
      "\n",
      "ax_d.set_yticklabels([])"
     ],
     "language": "python",
     "metadata": {},
     "outputs": [
      {
       "metadata": {},
       "output_type": "pyout",
       "prompt_number": 216,
       "text": [
        "[]"
       ]
      }
     ],
     "prompt_number": 216
    },
    {
     "cell_type": "code",
     "collapsed": false,
     "input": [
      "for TAnum, (a, TAcond) in enumerate(zip([ax_a, ax_b], ['TA 1', 'TA 3'])):\n",
      "\n",
      "    axim = a.imshow(ps_plot[TAcond])\n",
      "\n",
      "    # axim.set_clim(200, 2000)\n",
      "    axim.set_clim(np.nanmin(all_ps), np.nanmax(all_ps))\n",
      "    a.relim()\n",
      "\n",
      "    co = a.contour(axim.get_array(), \n",
      "                     12, \n",
      "                     colors = 'w')\n",
      "    a.clabel(co, fmt = '%.0f', fontsize = 20, inline = True)\n",
      "\n",
      "    a.axis([-0.5, 7.5, -0.5, 7.5])\n",
      "    a.grid(False)\n",
      "\n",
      "    a.set_xlabel(label_trunkRLN)\n",
      "    a.set_ylabel(label_SLN)\n",
      "    a.set_title(TAcond)\n",
      "\n",
      "    labelformat.update(dict(transform = a.transData))\n",
      "    a.text(-0.1, 6.9, plotlabels[TAnum], **labelformat)\n",
      "    \n",
      "ax_b.set_ylabel('')\n",
      "\n",
      "ax_a.set_anchor('NW')\n",
      "ax_b.set_anchor('NW')\n",
      "\n",
      "fig5.canvas.draw()"
     ],
     "language": "python",
     "metadata": {},
     "outputs": [],
     "prompt_number": 217
    },
    {
     "cell_type": "code",
     "collapsed": false,
     "input": [
      "for ind, (a, trunkRLNnum) in enumerate(zip([ax_c, ax_d], [3, 5])):\n",
      "    # trunkRLNcond = 'trunk RLN %s' % str(trunkRLNnum)\n",
      "    trunkRLNcond = 'LCA/IA %s' % str(trunkRLNnum)\n",
      "\n",
      "    axim = a.imshow(all_ps[:, :, trunkRLNnum])\n",
      "    \n",
      "    axim.set_clim(np.nanmin(all_ps), np.nanmax(all_ps))\n",
      "    a.relim()\n",
      "    \n",
      "    co = a.contour(axim.get_array(), \n",
      "                     12, # contours[TAcond], # 12, \n",
      "                     colors = 'w')\n",
      "    a.clabel(co, fmt = '%.0f', fontsize = 20, inline = True)\n",
      "\n",
      "    a.axis([-0.5, 4.5, -0.5, 7.5])\n",
      "    a.grid(False)\n",
      "\n",
      "    a.set_xlabel(label_TA)\n",
      "    a.set_ylabel(label_SLN)\n",
      "    a.set_title(trunkRLNcond)\n",
      "    \n",
      "    labelformat.update(dict(transform = a.transData))\n",
      "    a.text(-0.1, 6.9, plotlabels[ind + 2], **labelformat)\n",
      "    \n",
      "ax_d.set_ylabel('')\n",
      "\n",
      "ax_c.set_anchor('NW')\n",
      "ax_d.set_anchor('NW')\n",
      "\n",
      "fig5.canvas.draw()"
     ],
     "language": "python",
     "metadata": {},
     "outputs": [],
     "prompt_number": 218
    },
    {
     "cell_type": "code",
     "collapsed": false,
     "input": [
      "fig5.canvas.draw()\n",
      "\n",
      "bbox_a = ax_a.get_position()\n",
      "bbox_b = ax_b.get_position()\n",
      "\n",
      "bbox_c = ax_c.get_position()\n",
      "bbox_d = ax_d.get_position()\n",
      "\n",
      "# put both lower plots to the lower left side\n",
      "# ax_d.set_position(pos = [bbox_c.x1 + bbox_c.width * 0.1, bbox_d.y0, bbox_d.width, bbox_d.height], which = 'both')\n",
      "\n",
      "# put left lower plot towards the middle\n",
      "ax_c.set_position(pos = [bbox_a.x1 - bbox_c.width, bbox_c.y0, bbox_c.width, bbox_c.height], which = 'both')"
     ],
     "language": "python",
     "metadata": {},
     "outputs": [],
     "prompt_number": 219
    },
    {
     "cell_type": "code",
     "collapsed": false,
     "input": [
      "bbox_d = ax_d.get_position()\n",
      " \n",
      "cbar_pad = 0.1 # padding between colorbar and axes, as a fraction of the axes width\n",
      "cbar_width = 0.1 # width of colorbar, as a fraction of axes width\n",
      " \n",
      "cax = plt.axes([bbox_d.x1 + bbox_d.width * cbar_pad, bbox_d.y0, bbox_d.width * cbar_width, bbox_d.height])"
     ],
     "language": "python",
     "metadata": {},
     "outputs": [],
     "prompt_number": 220
    },
    {
     "cell_type": "code",
     "collapsed": false,
     "input": [
      "cb = fig5.colorbar(axim, cax = cax)\n",
      "cb.solids.set_edgecolor(\"face\")\n",
      " \n",
      "cb.set_label('onset pressure [Pa]')"
     ],
     "language": "python",
     "metadata": {},
     "outputs": [],
     "prompt_number": 221
    },
    {
     "cell_type": "code",
     "collapsed": false,
     "input": [
      "if True:\n",
      "    figurename = 'Figure5ABCD_new.pdf'\n",
      "    fig5.savefig(figurename, format = 'pdf', orientation = 'landscape',\n",
      "                 bbox_inches = 'tight', pad_inches = 0.1)"
     ],
     "language": "python",
     "metadata": {},
     "outputs": [],
     "prompt_number": 222
    },
    {
     "cell_type": "code",
     "collapsed": false,
     "input": [
      "!ls -alo --color=always Figure?[A-D].pdf | grep SLN-trunkRLN | grep onsetQ"
     ],
     "language": "python",
     "metadata": {},
     "outputs": [
      {
       "output_type": "stream",
       "stream": "stdout",
       "text": [
        "lrwxrwxrwx 1 neubauer 27 Jun  7 14:46 \u001b[00;36mFigure6A.pdf\u001b[0m -> \u001b[00mSLN-trunkRLN.onsetQ.TA1.pdf\u001b[0m\r\n",
        "lrwxrwxrwx 1 neubauer 27 Jun  7 14:46 \u001b[00;36mFigure6B.pdf\u001b[0m -> \u001b[00mSLN-trunkRLN.onsetQ.TA2.pdf\u001b[0m\r\n"
       ]
      }
     ],
     "prompt_number": 136
    },
    {
     "cell_type": "code",
     "collapsed": false,
     "input": [
      "ls -lo Figure6?.pdf"
     ],
     "language": "python",
     "metadata": {},
     "outputs": [
      {
       "output_type": "stream",
       "stream": "stdout",
       "text": [
        "lrwxrwxrwx 1 neubauer 27 Jun  7 14:46 \u001b[0m\u001b[00;36mFigure6A.pdf\u001b[0m -> \u001b[00mSLN-trunkRLN.onsetQ.TA1.pdf\u001b[0m\r\n",
        "lrwxrwxrwx 1 neubauer 27 Jun  7 14:46 \u001b[00;36mFigure6B.pdf\u001b[0m -> \u001b[00mSLN-trunkRLN.onsetQ.TA2.pdf\u001b[0m\r\n",
        "lrwxrwxrwx 1 neubauer 25 Jun  7 14:46 \u001b[00;36mFigure6C.pdf\u001b[0m -> \u001b[00mSLN-TA.onsetQ.LCA_IA3.pdf\u001b[0m\r\n",
        "lrwxrwxrwx 1 neubauer 25 Jun  7 14:46 \u001b[00;36mFigure6D.pdf\u001b[0m -> \u001b[00mSLN-TA.onsetQ.LCA_IA5.pdf\u001b[0m\r\n"
       ]
      }
     ],
     "prompt_number": 137
    },
    {
     "cell_type": "code",
     "collapsed": false,
     "input": [
      "del fig5"
     ],
     "language": "python",
     "metadata": {},
     "outputs": [],
     "prompt_number": 223
    },
    {
     "cell_type": "code",
     "collapsed": false,
     "input": [
      "del fig6"
     ],
     "language": "python",
     "metadata": {},
     "outputs": [],
     "prompt_number": 224
    },
    {
     "cell_type": "code",
     "collapsed": false,
     "input": [
      "fig6 = plt.figure(figsize = (20, 20)) # set to large number for better resolution, e.g. (20, 20)\n",
      "fig6.clf()\n",
      "\n",
      "gs = mpl.gridspec.GridSpec(2, 2)\n",
      "gs.update(wspace = 0.015, hspace = 0.15)\n",
      "\n",
      "ax_a = fig6.add_subplot(gs[0, 0])\n",
      "ax_b = fig6.add_subplot(gs[0, 1])\n",
      "ax_c = fig6.add_subplot(gs[1, 0])\n",
      "ax_d = fig6.add_subplot(gs[1, 1])\n",
      "\n",
      "ax_b.set_yticklabels([])\n",
      "\n",
      "ax_d.set_yticklabels([])"
     ],
     "language": "python",
     "metadata": {},
     "outputs": [
      {
       "metadata": {},
       "output_type": "pyout",
       "prompt_number": 225,
       "text": [
        "[]"
       ]
      }
     ],
     "prompt_number": 225
    },
    {
     "cell_type": "code",
     "collapsed": false,
     "input": [
      "for TAnum, (a, TAcond) in enumerate(zip([ax_a, ax_b], ['TA 1', 'TA 2'])):\n",
      "\n",
      "    axim = a.imshow(Q_plot[TAcond])\n",
      "\n",
      "    axim.set_clim(np.nanmin(all_Q), np.nanmax(all_Q))\n",
      "    a.relim()\n",
      "\n",
      "    co = a.contour(axim.get_array(), \n",
      "                     12, \n",
      "                     colors = 'w')\n",
      "    a.clabel(co, fmt = '%.0f', fontsize = 20, inline = True)\n",
      "\n",
      "    a.axis([-0.5, 7.5, -0.5, 7.5])\n",
      "    a.grid(False)\n",
      "\n",
      "    a.set_xlabel(label_trunkRLN)\n",
      "    a.set_ylabel(label_SLN)\n",
      "    a.set_title(TAcond)\n",
      "\n",
      "    labelformat.update(dict(transform = a.transData))\n",
      "    a.text(-0.1, 6.9, plotlabels[TAnum], **labelformat)\n",
      "\n",
      "ax_b.set_ylabel('')\n",
      "\n",
      "ax_a.set_anchor('NW')\n",
      "ax_b.set_anchor('NW')\n",
      "    \n",
      "fig6.canvas.draw()"
     ],
     "language": "python",
     "metadata": {},
     "outputs": [],
     "prompt_number": 226
    },
    {
     "cell_type": "code",
     "collapsed": false,
     "input": [
      "for ind, (a, trunkRLNnum) in enumerate(zip([ax_c, ax_d], [3, 5])):\n",
      "    # trunkRLNcond = 'trunk RLN %s' % str(trunkRLNnum)\n",
      "    trunkRLNcond = 'LCA/IA %s' % str(trunkRLNnum)\n",
      "\n",
      "    axim = a.imshow(all_Q[:, :, trunkRLNnum])\n",
      "    \n",
      "    axim.set_clim(np.nanmin(all_Q), np.nanmax(all_Q))\n",
      "    a.relim()\n",
      "    \n",
      "    co = a.contour(axim.get_array(), \n",
      "                     12, # contours[TAcond], # 12, \n",
      "                     colors = 'w')\n",
      "    a.clabel(co, fmt = '%.0f', fontsize = 20, inline = True)\n",
      "\n",
      "    a.axis([-0.5, 4.5, -0.5, 7.5])\n",
      "    a.grid(False)\n",
      "\n",
      "    a.set_xlabel(label_TA)\n",
      "    a.set_ylabel(label_SLN)\n",
      "    a.set_title(trunkRLNcond)\n",
      "\n",
      "    labelformat.update(dict(transform = a.transData))\n",
      "    a.text(-0.1, 6.9, plotlabels[ind + 2], **labelformat)\n",
      "\n",
      "ax_d.set_ylabel('')\n",
      "\n",
      "ax_c.set_anchor('NW')\n",
      "ax_d.set_anchor('NW')\n",
      "\n",
      "fig6.canvas.draw()"
     ],
     "language": "python",
     "metadata": {},
     "outputs": [],
     "prompt_number": 227
    },
    {
     "cell_type": "code",
     "collapsed": false,
     "input": [
      "fig6.canvas.draw()\n",
      "\n",
      "bbox_a = ax_a.get_position()\n",
      "bbox_b = ax_b.get_position()\n",
      "\n",
      "bbox_c = ax_c.get_position()\n",
      "bbox_d = ax_d.get_position()\n",
      "\n",
      "# put both lower plots to the lower left side\n",
      "# ax_d.set_position(pos = [bbox_c.x1 + bbox_c.width * 0.1, bbox_d.y0, bbox_d.width, bbox_d.height], which = 'both')\n",
      "\n",
      "# put left lower plot towards the middle\n",
      "ax_c.set_position(pos = [bbox_a.x1 - bbox_c.width, bbox_c.y0, bbox_c.width, bbox_c.height], which = 'both')"
     ],
     "language": "python",
     "metadata": {},
     "outputs": [],
     "prompt_number": 228
    },
    {
     "cell_type": "code",
     "collapsed": false,
     "input": [
      "bbox_d = ax_d.get_position()\n",
      " \n",
      "cbar_pad = 0.1 # padding between colorbar and axes, as a fraction of the axes width\n",
      "cbar_width = 0.1 # width of colorbar, as a fraction of axes width\n",
      " \n",
      "cax = plt.axes([bbox_d.x1 + bbox_d.width * cbar_pad, bbox_d.y0, bbox_d.width * cbar_width, bbox_d.height])"
     ],
     "language": "python",
     "metadata": {},
     "outputs": [],
     "prompt_number": 229
    },
    {
     "cell_type": "code",
     "collapsed": false,
     "input": [
      "cb = fig6.colorbar(axim, cax = cax)\n",
      "cb.solids.set_edgecolor(\"face\")\n",
      " \n",
      "cb.set_label('onset flow rate [ml/s]')"
     ],
     "language": "python",
     "metadata": {},
     "outputs": [],
     "prompt_number": 230
    },
    {
     "cell_type": "code",
     "collapsed": false,
     "input": [
      "if True:\n",
      "    figurename = 'Figure6ABCD_new.pdf'\n",
      "    fig6.savefig(figurename, format = 'pdf', orientation = 'landscape',\n",
      "                 bbox_inches = 'tight', pad_inches = 0.1)"
     ],
     "language": "python",
     "metadata": {},
     "outputs": [],
     "prompt_number": 231
    },
    {
     "cell_type": "code",
     "collapsed": false,
     "input": [
      "for TAnum, TAcond in enumerate(TAconditions):\n",
      "    #######################################\n",
      "    figname = 'onset frequency: %s' % TAcond\n",
      "    fig = plt.figure(num = figname, figsize = (14.9625, 12.2125))\n",
      "\n",
      "    axim = plt.imshow(F0_plot[TAcond])\n",
      "    ax = plt.gca()\n",
      "    \n",
      "    # axim.set_clim(100, 720)\n",
      "    axim.set_clim(np.nanmin(all_F0), np.nanmax(all_F0))\n",
      "    ax.relim()\n",
      "    \n",
      "    co = plt.contour(axim.get_array(), \n",
      "                     contours[TAcond], # 12, \n",
      "                     colors = 'w')\n",
      "    plt.clabel(co, fmt = '%.0f', fontsize = 10, inline = True)\n",
      "\n",
      "    ax.axis([-0.5, 7.5, -0.5, 7.5])\n",
      "    ax.grid(False)\n",
      "\n",
      "    plt.xlabel(label_trunkRLN)\n",
      "    plt.ylabel(label_SLN)\n",
      "    plt.title(figname)\n",
      "\n",
      "    cb = plt.colorbar(axim)\n",
      "    cb.set_label('onset frequency [Hz]')\n",
      "\n",
      "    figurename = '%s.onsetF0.%s' % (figurenametemplate, TAcond.replace(' ', ''))\n",
      "    figurename += \".%s\" % figureformat\n",
      "    plt.savefig(figurename, format = figureformat, orientation = figureorientation,\n",
      "                bbox_inches = 'tight', pad_inches = 0.1)\n",
      "\n",
      "    #######################################\n",
      "    figname = 'onset pressure: %s' % TAcond\n",
      "    fig = plt.figure(num = figname, figsize = (14.9625, 12.2125))\n",
      "\n",
      "    axim = plt.imshow(ps_plot[TAcond])\n",
      "    ax = plt.gca()\n",
      "\n",
      "    # axim.set_clim(200, 2000)\n",
      "    axim.set_clim(np.nanmin(all_ps), np.nanmax(all_ps))\n",
      "    ax.relim()\n",
      "\n",
      "    co = plt.contour(axim.get_array(), \n",
      "                     12, \n",
      "                     colors = 'w')\n",
      "    plt.clabel(co, fmt = '%.0f', fontsize = 10, inline = True)\n",
      "\n",
      "    ax.axis([-0.5, 7.5, -0.5, 7.5])\n",
      "    ax.grid(False)\n",
      "\n",
      "    plt.xlabel(label_trunkRLN)\n",
      "    plt.ylabel(label_SLN)\n",
      "    plt.title(figname)\n",
      "\n",
      "    cb = plt.colorbar(axim)\n",
      "    cb.set_label('onset pressure [Pa]')\n",
      "\n",
      "    figurename = '%s.onsetPs.%s' % (figurenametemplate, TAcond.replace(' ', ''))  \n",
      "    figurename += \".%s\" % figureformat\n",
      "    plt.savefig(figurename, format = figureformat, orientation = figureorientation,\n",
      "                bbox_inches = 'tight', pad_inches = 0.1)\n",
      "\n",
      "    #######################################\n",
      "    figname = 'onset Bernoulli area: %s' % TAcond\n",
      "    fig = plt.figure(num = figname, figsize = (14.9625, 12.2125))\n",
      "\n",
      "    axim = plt.imshow(A_plot[TAcond])\n",
      "    ax = plt.gca()\n",
      "\n",
      "    # axim.set_clim(200, 2000)\n",
      "    axim.set_clim(np.nanmin(all_A), np.nanmax(all_A))\n",
      "    ax.relim()\n",
      "\n",
      "    co = plt.contour(axim.get_array(), \n",
      "                     12, \n",
      "                     colors = 'w')\n",
      "    plt.clabel(co, fmt = '%.0f', fontsize = 10, inline = True)\n",
      "\n",
      "    ax.axis([-0.5, 7.5, -0.5, 7.5])\n",
      "    ax.grid(False)\n",
      "\n",
      "    plt.xlabel(label_trunkRLN)\n",
      "    plt.ylabel(label_SLN)\n",
      "    plt.title(figname)\n",
      "\n",
      "    cb = plt.colorbar(axim)\n",
      "    cb.set_label('onset Bernoulli area [a.u.]')\n",
      "\n",
      "    figurename = '%s.onsetA.%s' % (figurenametemplate, TAcond.replace(' ', ''))  \n",
      "    figurename += \".%s\" % figureformat\n",
      "    plt.savefig(figurename, format = figureformat, orientation = figureorientation,\n",
      "                bbox_inches = 'tight', pad_inches = 0.1)\n",
      "\n",
      "    #######################################\n",
      "    figname = 'onset flow rate: %s' % TAcond\n",
      "    fig = plt.figure(num = figname, figsize = (14.9625, 12.2125))\n",
      "\n",
      "    axim = plt.imshow(Q_plot[TAcond])\n",
      "    ax = plt.gca()\n",
      "\n",
      "    axim.set_clim(np.nanmin(all_Q), np.nanmax(all_Q))\n",
      "    ax.relim()\n",
      "\n",
      "    co = plt.contour(axim.get_array(), \n",
      "                     12, \n",
      "                     colors = 'w')\n",
      "    plt.clabel(co, fmt = '%.0f', fontsize = 10, inline = True)\n",
      "\n",
      "    ax.axis([-0.5, 7.5, -0.5, 7.5])\n",
      "    ax.grid(False)\n",
      "\n",
      "    plt.xlabel(label_trunkRLN)\n",
      "    plt.ylabel(label_SLN)\n",
      "    plt.title(figname)\n",
      "\n",
      "    cb = plt.colorbar(axim)\n",
      "    cb.set_label('onset flow rate [ml/s]')\n",
      "\n",
      "    figurename = '%s.onsetQ.%s' % (figurenametemplate, TAcond.replace(' ', ''))  \n",
      "    figurename += \".%s\" % figureformat\n",
      "    plt.savefig(figurename, format = figureformat, orientation = figureorientation,\n",
      "                bbox_inches = 'tight', pad_inches = 0.1)\n",
      "\n",
      "    #######################################\n",
      "    figname = 'onset left strain: %s' % TAcond\n",
      "    fig = plt.figure(num = figname, figsize = (14.9625, 12.2125))\n",
      "\n",
      "    axim = plt.imshow(lstrain_plot[TAcond])\n",
      "    ax = plt.gca()\n",
      "\n",
      "    # axim.set_clim(-10, 45)\n",
      "    axim.set_clim(np.nanmin(all_lstrain), np.nanmax(all_lstrain))\n",
      "    ax.relim()\n",
      "\n",
      "    co = plt.contour(axim.get_array(), \n",
      "                     12, \n",
      "                     colors = 'w')\n",
      "    plt.clabel(co, fmt = '%.0f', fontsize = 10, inline = True)\n",
      "\n",
      "    ax.axis([-0.5, 7.5, -0.5, 7.5])\n",
      "    ax.grid(False)\n",
      "\n",
      "    plt.xlabel(label_trunkRLN)\n",
      "    plt.ylabel(label_SLN)\n",
      "    plt.title(figname)\n",
      "\n",
      "    cb = plt.colorbar(axim)\n",
      "    cb.set_label('onset left strain [%]')\n",
      "\n",
      "    figurename = '%s.onsetLstrain.%s' % (figurenametemplate, TAcond.replace(' ', ''))  \n",
      "    figurename += \".%s\" % figureformat\n",
      "    plt.savefig(figurename, format = figureformat, orientation = figureorientation,\n",
      "                bbox_inches = 'tight', pad_inches = 0.1)\n",
      "\n",
      "    #######################################\n",
      "    figname = 'onset right strain: %s' % TAcond\n",
      "    fig = plt.figure(num = figname, figsize = (14.9625, 12.2125))\n",
      "\n",
      "    axim = plt.imshow(rstrain_plot[TAcond])\n",
      "    ax = plt.gca()\n",
      "\n",
      "    # axim.set_clim(-10, 45)\n",
      "    axim.set_clim(np.nanmin(all_rstrain), np.nanmax(all_rstrain))\n",
      "    ax.relim()\n",
      "\n",
      "    co = plt.contour(axim.get_array(), \n",
      "                     12, \n",
      "                     colors = 'w')\n",
      "    plt.clabel(co, fmt = '%.0f', fontsize = 10, inline = True)\n",
      "\n",
      "    ax.axis([-0.5, 7.5, -0.5, 7.5])\n",
      "    ax.grid(False)\n",
      "\n",
      "    plt.xlabel(label_trunkRLN)\n",
      "    plt.ylabel(label_SLN)\n",
      "    plt.title(figname)\n",
      "\n",
      "    cb = plt.colorbar(axim)\n",
      "    cb.set_label('onset right strain [%]')\n",
      "\n",
      "    figurename = '%s.onsetRstrain.%s' % (figurenametemplate, TAcond.replace(' ', ''))  \n",
      "    figurename += \".%s\" % figureformat\n",
      "    plt.savefig(figurename, format = figureformat, orientation = figureorientation,\n",
      "                bbox_inches = 'tight', pad_inches = 0.1)\n",
      "\n",
      "    #######################################\n",
      "    figname = 'onset adduction Dvp: %s' % TAcond\n",
      "    fig = plt.figure(num = figname, figsize = (14.9625, 12.2125))\n",
      "\n",
      "    axim = plt.imshow(dVP_plot[TAcond])\n",
      "    ax = plt.gca()\n",
      "\n",
      "    # axim.set_clim(17, 103)\n",
      "    axim.set_clim(np.nanmin(all_dVP), np.nanmax(all_dVP))\n",
      "    ax.relim()\n",
      "\n",
      "    co = plt.contour(axim.get_array(), \n",
      "                     12, \n",
      "                     colors = 'w')\n",
      "    plt.clabel(co, fmt = '%.0f', fontsize = 10, inline = True)\n",
      "\n",
      "    ax.axis([-0.5, 7.5, -0.5, 7.5])\n",
      "    ax.grid(False)\n",
      "\n",
      "    plt.xlabel(label_trunkRLN)\n",
      "    plt.ylabel(label_SLN)\n",
      "    plt.title(figname)\n",
      "\n",
      "    cb = plt.colorbar(axim)\n",
      "    cb.set_label('onset adduction Dvp [%]')\n",
      "\n",
      "    figurename = '%s.onsetDvp.%s' % (figurenametemplate, TAcond.replace(' ', ''))  \n",
      "    figurename += \".%s\" % figureformat\n",
      "    plt.savefig(figurename, format = figureformat, orientation = figureorientation,\n",
      "                bbox_inches = 'tight', pad_inches = 0.1)"
     ],
     "language": "python",
     "metadata": {},
     "outputs": []
    },
    {
     "cell_type": "code",
     "collapsed": false,
     "input": [
      "figurenametemplate = 'SLN-TA'"
     ],
     "language": "python",
     "metadata": {},
     "outputs": [],
     "prompt_number": 85
    },
    {
     "cell_type": "code",
     "collapsed": false,
     "input": [
      "!ls -alo --color=always Figure?[A-D].pdf | grep SLN-TA | grep onsetDvp"
     ],
     "language": "python",
     "metadata": {},
     "outputs": [
      {
       "output_type": "stream",
       "stream": "stdout",
       "text": [
        "lrwxrwxrwx 1 neubauer 27 Jun  7 14:46 \u001b[0m\u001b[00;36mFigure1A.pdf\u001b[0m -> \u001b[00mSLN-TA.onsetDvp.LCA_IA5.pdf\u001b[0m\r\n"
       ]
      }
     ],
     "prompt_number": 86
    },
    {
     "cell_type": "code",
     "collapsed": false,
     "input": [
      "plotlabels = ['a']\n",
      "labelformat = dict(fontweight = 'bold', fontsize = 'xx-large', color = 'black', backgroundcolor = 'none')\n",
      "\n",
      "for ind, trunkRLNnum in enumerate([5]):\n",
      "    # trunkRLNcond = 'trunk RLN %s' % str(trunkRLNnum)\n",
      "    trunkRLNcond = 'LCA/IA %s' % str(trunkRLNnum)\n",
      "\n",
      "    #######################################\n",
      "    figname = 'onset adduction Dvp: %s' % trunkRLNcond\n",
      "    fig = plt.figure(num = figname, figsize = (14.9625, 12.2125))\n",
      "\n",
      "    axim = plt.imshow(all_dVP[:, :, trunkRLNnum])\n",
      "    ax = plt.gca()\n",
      "    \n",
      "    axim.set_clim(np.nanmin(all_dVP), np.nanmax(all_dVP))\n",
      "    ax.relim()\n",
      "    \n",
      "    co = plt.contour(axim.get_array(), \n",
      "                     12, # contours[TAcond], # 12, \n",
      "                     colors = 'w')\n",
      "    plt.clabel(co, fmt = '%.0f', fontsize = 20, inline = True)\n",
      "\n",
      "    ax.axis([-0.5, 4.5, -0.5, 7.5])\n",
      "    ax.grid(False)\n",
      "\n",
      "    plt.xlabel(label_TA)\n",
      "    plt.ylabel(label_SLN)\n",
      "    plt.title(figname)\n",
      "\n",
      "    cb = plt.colorbar(axim)\n",
      "    cb.set_label('onset adduction Dvp [%]')\n",
      "    \n",
      "    labelformat.update(dict(transform = ax.transData))\n",
      "    ax.text(-0.1, 6.9, plotlabels[ind], **labelformat)\n",
      "\n",
      "    figurename = '%s.onsetDvp.%s' % (figurenametemplate, trunkRLNcond.replace(' ', ''))  \n",
      "    figurename += \".%s\" % figureformat\n",
      "    figurename = figurename.replace('/', '_')\n",
      "    if True:\n",
      "        plt.savefig(figurename, format = figureformat, orientation = figureorientation,\n",
      "                    bbox_inches = 'tight', pad_inches = 0.1)\n",
      "        \n",
      "        plt.close('all')\n",
      "    else:\n",
      "        plt.show()"
     ],
     "language": "python",
     "metadata": {},
     "outputs": [],
     "prompt_number": 88
    },
    {
     "cell_type": "code",
     "collapsed": false,
     "input": [
      "!ls -alo --color=always Figure?[A-D].pdf | grep SLN-TA | grep onsetRstrain"
     ],
     "language": "python",
     "metadata": {},
     "outputs": [
      {
       "output_type": "stream",
       "stream": "stdout",
       "text": [
        "lrwxrwxrwx 1 neubauer 31 Jun  7 14:46 \u001b[00;36mFigure2C.pdf\u001b[0m -> \u001b[00mSLN-TA.onsetRstrain.LCA_IA5.pdf\u001b[0m\r\n",
        "lrwxrwxrwx 1 neubauer 31 Jun  7 14:46 \u001b[00;36mFigure2D.pdf\u001b[0m -> \u001b[00mSLN-TA.onsetRstrain.LCA_IA7.pdf\u001b[0m\r\n"
       ]
      }
     ],
     "prompt_number": 89
    },
    {
     "cell_type": "code",
     "collapsed": false,
     "input": [
      "for ind, trunkRLNnum in enumerate([5, 7]):\n",
      "    # trunkRLNcond = 'trunk RLN %s' % str(trunkRLNnum)\n",
      "    trunkRLNcond = 'LCA/IA %s' % str(trunkRLNnum)\n",
      "\n",
      "    #######################################\n",
      "    figname = 'onset right strain: %s' % trunkRLNcond\n",
      "    fig = plt.figure(num = figname, figsize = (14.9625, 12.2125))\n",
      "\n",
      "    axim = plt.imshow(all_rstrain[:, :, trunkRLNnum])\n",
      "    ax = plt.gca()\n",
      "    \n",
      "    axim.set_clim(np.nanmin(all_rstrain), np.nanmax(all_rstrain))\n",
      "    ax.relim()\n",
      "    \n",
      "    co = plt.contour(axim.get_array(), \n",
      "                     12, # contours[TAcond], # 12, \n",
      "                     colors = 'w')\n",
      "    plt.clabel(co, fmt = '%.0f', fontsize = 10, inline = True)\n",
      "\n",
      "    ax.axis([-0.5, 4.5, -0.5, 7.5])\n",
      "    ax.grid(False)\n",
      "\n",
      "    plt.xlabel(label_TA)\n",
      "    plt.ylabel(label_SLN)\n",
      "    plt.title(figname)\n",
      "\n",
      "    cb = plt.colorbar(axim)\n",
      "    cb.set_label('onset right strain [%]')\n",
      "\n",
      "    plotlabels = ['C', 'D']\n",
      "    labelformat = dict(transform = ax.transData, fontweight = 'bold', fontsize = 'xx-large', color = 'black', backgroundcolor = 'none')\n",
      "    \n",
      "    ax.text(-0.1, 6.9, plotlabels[ind], **labelformat)\n",
      "\n",
      "    figurename = '%s.onsetRstrain.%s' % (figurenametemplate, trunkRLNcond.replace(' ', ''))  \n",
      "    figurename += \".%s\" % figureformat\n",
      "    figurename = figurename.replace('/', '_')\n",
      "    if True:\n",
      "        plt.savefig(figurename, format = figureformat, orientation = figureorientation,\n",
      "                    bbox_inches = 'tight', pad_inches = 0.1)\n",
      "        \n",
      "        plt.close('all')\n",
      "    else:\n",
      "        plt.show()"
     ],
     "language": "python",
     "metadata": {},
     "outputs": [],
     "prompt_number": 90
    },
    {
     "cell_type": "code",
     "collapsed": false,
     "input": [
      "!ls -alo --color=always Figure?[A-D].pdf | grep SLN-TA | grep onsetF0"
     ],
     "language": "python",
     "metadata": {},
     "outputs": [
      {
       "output_type": "stream",
       "stream": "stdout",
       "text": [
        "lrwxrwxrwx 1 neubauer 26 Jun  7 14:46 \u001b[00;36mFigure4A.pdf\u001b[0m -> \u001b[00mSLN-TA.onsetF0.LCA_IA1.pdf\u001b[0m\r\n",
        "lrwxrwxrwx 1 neubauer 26 Jun  7 14:46 \u001b[00;36mFigure4B.pdf\u001b[0m -> \u001b[00mSLN-TA.onsetF0.LCA_IA3.pdf\u001b[0m\r\n",
        "lrwxrwxrwx 1 neubauer 26 Jun  7 14:46 \u001b[00;36mFigure4C.pdf\u001b[0m -> \u001b[00mSLN-TA.onsetF0.LCA_IA5.pdf\u001b[0m\r\n",
        "lrwxrwxrwx 1 neubauer 26 Jun  7 14:46 \u001b[00;36mFigure4D.pdf\u001b[0m -> \u001b[00mSLN-TA.onsetF0.LCA_IA7.pdf\u001b[0m\r\n"
       ]
      }
     ],
     "prompt_number": 91
    },
    {
     "cell_type": "code",
     "collapsed": false,
     "input": [
      "for ind, trunkRLNnum in enumerate([1, 3, 5, 7]):\n",
      "    # trunkRLNcond = 'trunk RLN %s' % str(trunkRLNnum)\n",
      "    trunkRLNcond = 'LCA/IA %s' % str(trunkRLNnum)\n",
      "\n",
      "    #######################################\n",
      "    figname = 'onset frequency: %s' % trunkRLNcond\n",
      "    fig = plt.figure(num = figname, figsize = (14.9625, 12.2125))\n",
      "\n",
      "    axim = plt.imshow(all_F0[:, :, trunkRLNnum])\n",
      "    ax = plt.gca()\n",
      "    \n",
      "    axim.set_clim(np.nanmin(all_F0), np.nanmax(all_F0))\n",
      "    ax.relim()\n",
      "    \n",
      "    co = plt.contour(axim.get_array(), \n",
      "                     12, # contours[TAcond], # 12, \n",
      "                     colors = 'w')\n",
      "    plt.clabel(co, fmt = '%.0f', fontsize = 10, inline = True)\n",
      "\n",
      "    ax.axis([-0.5, 4.5, -0.5, 7.5])\n",
      "    ax.grid(False)\n",
      "\n",
      "    plt.xlabel(label_TA)\n",
      "    plt.ylabel(label_SLN)\n",
      "    plt.title(figname)\n",
      "\n",
      "    cb = plt.colorbar(axim)\n",
      "    cb.set_label('onset frequency [Hz]')\n",
      "\n",
      "    plotlabels = ['A', 'B', 'C', 'D']\n",
      "    labelformat = dict(transform = ax.transData, fontweight = 'bold', fontsize = 'xx-large', color = 'black', backgroundcolor = 'none')\n",
      "    \n",
      "    ax.text(-0.1, 6.9, plotlabels[ind], **labelformat)\n",
      "\n",
      "    figurename = '%s.onsetF0.%s' % (figurenametemplate, trunkRLNcond.replace(' ', ''))  \n",
      "    figurename += \".%s\" % figureformat\n",
      "    figurename = figurename.replace('/', '_')\n",
      "    if True:\n",
      "        plt.savefig(figurename, format = figureformat, orientation = figureorientation,\n",
      "                    bbox_inches = 'tight', pad_inches = 0.1)\n",
      "        \n",
      "        plt.close('all')\n",
      "    else:\n",
      "        plt.show()"
     ],
     "language": "python",
     "metadata": {},
     "outputs": [],
     "prompt_number": 92
    },
    {
     "cell_type": "code",
     "collapsed": false,
     "input": [
      "!ls -alo --color=always Figure?[A-D].pdf | grep SLN-TA | grep onsetPs"
     ],
     "language": "python",
     "metadata": {},
     "outputs": [
      {
       "output_type": "stream",
       "stream": "stdout",
       "text": [
        "lrwxrwxrwx 1 neubauer 26 Jun  7 14:46 \u001b[00;36mFigure5C.pdf\u001b[0m -> \u001b[00mSLN-TA.onsetPs.LCA_IA3.pdf\u001b[0m\r\n",
        "lrwxrwxrwx 1 neubauer 26 Jun  7 14:46 \u001b[00;36mFigure5D.pdf\u001b[0m -> \u001b[00mSLN-TA.onsetPs.LCA_IA5.pdf\u001b[0m\r\n"
       ]
      }
     ],
     "prompt_number": 93
    },
    {
     "cell_type": "code",
     "collapsed": false,
     "input": [
      "for ind, trunkRLNnum in enumerate([3, 5]):\n",
      "    # trunkRLNcond = 'trunk RLN %s' % str(trunkRLNnum)\n",
      "    trunkRLNcond = 'LCA/IA %s' % str(trunkRLNnum)\n",
      "\n",
      "    #######################################\n",
      "    figname = 'onset pressure: %s' % trunkRLNcond\n",
      "    fig = plt.figure(num = figname, figsize = (14.9625, 12.2125))\n",
      "\n",
      "    axim = plt.imshow(all_ps[:, :, trunkRLNnum])\n",
      "    ax = plt.gca()\n",
      "    \n",
      "    axim.set_clim(np.nanmin(all_ps), np.nanmax(all_ps))\n",
      "    ax.relim()\n",
      "    \n",
      "    co = plt.contour(axim.get_array(), \n",
      "                     12, # contours[TAcond], # 12, \n",
      "                     colors = 'w')\n",
      "    plt.clabel(co, fmt = '%.0f', fontsize = 10, inline = True)\n",
      "\n",
      "    ax.axis([-0.5, 4.5, -0.5, 7.5])\n",
      "    ax.grid(False)\n",
      "\n",
      "    plt.xlabel(label_TA)\n",
      "    plt.ylabel(label_SLN)\n",
      "    plt.title(figname)\n",
      "\n",
      "    cb = plt.colorbar(axim)\n",
      "    cb.set_label('onset pressure [Pa]')\n",
      "\n",
      "    plotlabels = ['C', 'D']\n",
      "    labelformat = dict(transform = ax.transData, fontweight = 'bold', fontsize = 'xx-large', color = 'black', backgroundcolor = 'none')\n",
      "    \n",
      "    ax.text(-0.1, 6.9, plotlabels[ind], **labelformat)\n",
      "\n",
      "    figurename = '%s.onsetPs.%s' % (figurenametemplate, trunkRLNcond.replace(' ', ''))  \n",
      "    figurename += \".%s\" % figureformat\n",
      "    figurename = figurename.replace('/', '_')\n",
      "    if True:\n",
      "        plt.savefig(figurename, format = figureformat, orientation = figureorientation,\n",
      "                    bbox_inches = 'tight', pad_inches = 0.1)\n",
      "        \n",
      "        plt.close('all')\n",
      "    else:\n",
      "        plt.show()"
     ],
     "language": "python",
     "metadata": {},
     "outputs": [],
     "prompt_number": 94
    },
    {
     "cell_type": "code",
     "collapsed": false,
     "input": [
      "!ls -alo --color=always Figure?[A-D].pdf | grep SLN-TA | grep onsetQ"
     ],
     "language": "python",
     "metadata": {},
     "outputs": [
      {
       "output_type": "stream",
       "stream": "stdout",
       "text": [
        "lrwxrwxrwx 1 neubauer 25 Jun  7 14:46 \u001b[00;36mFigure6C.pdf\u001b[0m -> \u001b[00mSLN-TA.onsetQ.LCA_IA3.pdf\u001b[0m\r\n",
        "lrwxrwxrwx 1 neubauer 25 Jun  7 14:46 \u001b[00;36mFigure6D.pdf\u001b[0m -> \u001b[00mSLN-TA.onsetQ.LCA_IA5.pdf\u001b[0m\r\n"
       ]
      }
     ],
     "prompt_number": 95
    },
    {
     "cell_type": "code",
     "collapsed": false,
     "input": [
      "for ind, trunkRLNnum in enumerate([3, 5]):\n",
      "    # trunkRLNcond = 'trunk RLN %s' % str(trunkRLNnum)\n",
      "    trunkRLNcond = 'LCA/IA %s' % str(trunkRLNnum)\n",
      "\n",
      "    #######################################\n",
      "    figname = 'onset flow rate: %s' % trunkRLNcond\n",
      "    fig = plt.figure(num = figname, figsize = (14.9625, 12.2125))\n",
      "\n",
      "    axim = plt.imshow(all_Q[:, :, trunkRLNnum])\n",
      "    ax = plt.gca()\n",
      "    \n",
      "    axim.set_clim(np.nanmin(all_Q), np.nanmax(all_Q))\n",
      "    ax.relim()\n",
      "    \n",
      "    co = plt.contour(axim.get_array(), \n",
      "                     12, # contours[TAcond], # 12, \n",
      "                     colors = 'w')\n",
      "    plt.clabel(co, fmt = '%.0f', fontsize = 10, inline = True)\n",
      "\n",
      "    ax.axis([-0.5, 4.5, -0.5, 7.5])\n",
      "    ax.grid(False)\n",
      "\n",
      "    plt.xlabel(label_TA)\n",
      "    plt.ylabel(label_SLN)\n",
      "    plt.title(figname)\n",
      "\n",
      "    cb = plt.colorbar(axim)\n",
      "    cb.set_label('onset flow rate [ml/s]')\n",
      "\n",
      "    plotlabels = ['C', 'D']\n",
      "    labelformat = dict(transform = ax.transData, fontweight = 'bold', fontsize = 'xx-large', color = 'black', backgroundcolor = 'none')\n",
      "    \n",
      "    ax.text(-0.1, 6.9, plotlabels[ind], **labelformat)\n",
      "\n",
      "    figurename = '%s.onsetQ.%s' % (figurenametemplate, trunkRLNcond.replace(' ', ''))  \n",
      "    figurename += \".%s\" % figureformat\n",
      "    figurename = figurename.replace('/', '_')\n",
      "    if True:\n",
      "        plt.savefig(figurename, format = figureformat, orientation = figureorientation,\n",
      "                    bbox_inches = 'tight', pad_inches = 0.1)\n",
      "        \n",
      "        plt.close('all')\n",
      "    else:\n",
      "        plt.show()"
     ],
     "language": "python",
     "metadata": {},
     "outputs": [],
     "prompt_number": 96
    },
    {
     "cell_type": "code",
     "collapsed": false,
     "input": [
      "for trunkRLNnum in range(Nlevels):\n",
      "    # trunkRLNcond = 'trunk RLN %s' % str(trunkRLNnum)\n",
      "    trunkRLNcond = 'LCA/IA %s' % str(trunkRLNnum)\n",
      "\n",
      "    #######################################\n",
      "    figname = 'onset frequency: %s' % trunkRLNcond\n",
      "    fig = plt.figure(num = figname, figsize = (14.9625, 12.2125))\n",
      "\n",
      "    axim = plt.imshow(all_F0[:, :, trunkRLNnum])\n",
      "    ax = plt.gca()\n",
      "    \n",
      "    axim.set_clim(np.nanmin(all_F0), np.nanmax(all_F0))\n",
      "    ax.relim()\n",
      "    \n",
      "    co = plt.contour(axim.get_array(), \n",
      "                     12, # contours[TAcond], # 12, \n",
      "                     colors = 'w')\n",
      "    plt.clabel(co, fmt = '%.0f', fontsize = 10, inline = True)\n",
      "\n",
      "    ax.axis([-0.5, 4.5, -0.5, 7.5])\n",
      "    ax.grid(False)\n",
      "\n",
      "    plt.xlabel(label_TA)\n",
      "    plt.ylabel(label_SLN)\n",
      "    plt.title(figname)\n",
      "\n",
      "    cb = plt.colorbar(axim)\n",
      "    cb.set_label('onset frequency [Hz]')\n",
      "\n",
      "    figurename = '%s.onsetF0.%s' % (figurenametemplate, trunkRLNcond.replace(' ', ''))  \n",
      "    figurename += \".%s\" % figureformat\n",
      "    figurename = figurename.replace('/', '_')\n",
      "    plt.savefig(figurename, format = figureformat, orientation = figureorientation,\n",
      "                bbox_inches = 'tight', pad_inches = 0.1)\n",
      "    \n",
      "    #######################################\n",
      "    figname = 'onset pressure: %s' % trunkRLNcond\n",
      "    fig = plt.figure(num = figname, figsize = (14.9625, 12.2125))\n",
      "\n",
      "    axim = plt.imshow(all_ps[:, :, trunkRLNnum])\n",
      "    ax = plt.gca()\n",
      "    \n",
      "    axim.set_clim(np.nanmin(all_ps), np.nanmax(all_ps))\n",
      "    ax.relim()\n",
      "    \n",
      "    co = plt.contour(axim.get_array(), \n",
      "                     12, # contours[TAcond], # 12, \n",
      "                     colors = 'w')\n",
      "    plt.clabel(co, fmt = '%.0f', fontsize = 10, inline = True)\n",
      "\n",
      "    ax.axis([-0.5, 4.5, -0.5, 7.5])\n",
      "    ax.grid(False)\n",
      "\n",
      "    plt.xlabel(label_TA)\n",
      "    plt.ylabel(label_SLN)\n",
      "    plt.title(figname)\n",
      "\n",
      "    cb = plt.colorbar(axim)\n",
      "    cb.set_label('onset pressure [Pa]')\n",
      "\n",
      "    figurename = '%s.onsetPs.%s' % (figurenametemplate, trunkRLNcond.replace(' ', ''))  \n",
      "    figurename += \".%s\" % figureformat\n",
      "    figurename = figurename.replace('/', '_')\n",
      "    plt.savefig(figurename, format = figureformat, orientation = figureorientation,\n",
      "                bbox_inches = 'tight', pad_inches = 0.1)\n",
      "\n",
      "    #######################################\n",
      "    figname = 'onset Bernoulli area: %s' % trunkRLNcond\n",
      "    fig = plt.figure(num = figname, figsize = (14.9625, 12.2125))\n",
      "\n",
      "    axim = plt.imshow(all_A[:, :, trunkRLNnum])\n",
      "    ax = plt.gca()\n",
      "    \n",
      "    axim.set_clim(np.nanmin(all_A), np.nanmax(all_A))\n",
      "    ax.relim()\n",
      "    \n",
      "    co = plt.contour(axim.get_array(), \n",
      "                     12, # contours[TAcond], # 12, \n",
      "                     colors = 'w')\n",
      "    plt.clabel(co, fmt = '%.0f', fontsize = 10, inline = True)\n",
      "\n",
      "    ax.axis([-0.5, 4.5, -0.5, 7.5])\n",
      "    ax.grid(False)\n",
      "\n",
      "    plt.xlabel(label_TA)\n",
      "    plt.ylabel(label_SLN)\n",
      "    plt.title(figname)\n",
      "\n",
      "    cb = plt.colorbar(axim)\n",
      "    cb.set_label('onset Bernoulli area [a.u.]')\n",
      "\n",
      "    figurename = '%s.onsetA.%s' % (figurenametemplate, trunkRLNcond.replace(' ', ''))  \n",
      "    figurename += \".%s\" % figureformat\n",
      "    figurename = figurename.replace('/', '_')\n",
      "    plt.savefig(figurename, format = figureformat, orientation = figureorientation,\n",
      "                bbox_inches = 'tight', pad_inches = 0.1)    \n",
      "\n",
      "    #######################################\n",
      "    figname = 'onset flow rate: %s' % trunkRLNcond\n",
      "    fig = plt.figure(num = figname, figsize = (14.9625, 12.2125))\n",
      "\n",
      "    axim = plt.imshow(all_Q[:, :, trunkRLNnum])\n",
      "    ax = plt.gca()\n",
      "    \n",
      "    axim.set_clim(np.nanmin(all_Q), np.nanmax(all_Q))\n",
      "    ax.relim()\n",
      "    \n",
      "    co = plt.contour(axim.get_array(), \n",
      "                     12, # contours[TAcond], # 12, \n",
      "                     colors = 'w')\n",
      "    plt.clabel(co, fmt = '%.0f', fontsize = 10, inline = True)\n",
      "\n",
      "    ax.axis([-0.5, 4.5, -0.5, 7.5])\n",
      "    ax.grid(False)\n",
      "\n",
      "    plt.xlabel(label_TA)\n",
      "    plt.ylabel(label_SLN)\n",
      "    plt.title(figname)\n",
      "\n",
      "    cb = plt.colorbar(axim)\n",
      "    cb.set_label('onset flow rate [ml/s]')\n",
      "\n",
      "    figurename = '%s.onsetQ.%s' % (figurenametemplate, trunkRLNcond.replace(' ', ''))  \n",
      "    figurename += \".%s\" % figureformat\n",
      "    figurename = figurename.replace('/', '_')\n",
      "    plt.savefig(figurename, format = figureformat, orientation = figureorientation,\n",
      "                bbox_inches = 'tight', pad_inches = 0.1)    \n",
      "\n",
      "    #######################################\n",
      "    figname = 'onset left strain: %s' % trunkRLNcond\n",
      "    fig = plt.figure(num = figname, figsize = (14.9625, 12.2125))\n",
      "\n",
      "    axim = plt.imshow(all_lstrain[:, :, trunkRLNnum])\n",
      "    ax = plt.gca()\n",
      "    \n",
      "    axim.set_clim(np.nanmin(all_lstrain), np.nanmax(all_lstrain))\n",
      "    ax.relim()\n",
      "    \n",
      "    co = plt.contour(axim.get_array(), \n",
      "                     12, # contours[TAcond], # 12, \n",
      "                     colors = 'w')\n",
      "    plt.clabel(co, fmt = '%.0f', fontsize = 10, inline = True)\n",
      "\n",
      "    ax.axis([-0.5, 4.5, -0.5, 7.5])\n",
      "    ax.grid(False)\n",
      "\n",
      "    plt.xlabel(label_TA)\n",
      "    plt.ylabel(label_SLN)\n",
      "    plt.title(figname)\n",
      "\n",
      "    cb = plt.colorbar(axim)\n",
      "    cb.set_label('onset left strain [%]')\n",
      "\n",
      "    figurename = '%s.onsetLstrain.%s' % (figurenametemplate, trunkRLNcond.replace(' ', ''))  \n",
      "    figurename += \".%s\" % figureformat\n",
      "    figurename = figurename.replace('/', '_')\n",
      "    plt.savefig(figurename, format = figureformat, orientation = figureorientation,\n",
      "                bbox_inches = 'tight', pad_inches = 0.1)    \n",
      "\n",
      "    #######################################\n",
      "    figname = 'onset right strain: %s' % trunkRLNcond\n",
      "    fig = plt.figure(num = figname, figsize = (14.9625, 12.2125))\n",
      "\n",
      "    axim = plt.imshow(all_rstrain[:, :, trunkRLNnum])\n",
      "    ax = plt.gca()\n",
      "    \n",
      "    axim.set_clim(np.nanmin(all_rstrain), np.nanmax(all_rstrain))\n",
      "    ax.relim()\n",
      "    \n",
      "    co = plt.contour(axim.get_array(), \n",
      "                     12, # contours[TAcond], # 12, \n",
      "                     colors = 'w')\n",
      "    plt.clabel(co, fmt = '%.0f', fontsize = 10, inline = True)\n",
      "\n",
      "    ax.axis([-0.5, 4.5, -0.5, 7.5])\n",
      "    ax.grid(False)\n",
      "\n",
      "    plt.xlabel(label_TA)\n",
      "    plt.ylabel(label_SLN)\n",
      "    plt.title(figname)\n",
      "\n",
      "    cb = plt.colorbar(axim)\n",
      "    cb.set_label('onset right strain [%]')\n",
      "\n",
      "    figurename = '%s.onsetRstrain.%s' % (figurenametemplate, trunkRLNcond.replace(' ', ''))  \n",
      "    figurename += \".%s\" % figureformat\n",
      "    figurename = figurename.replace('/', '_')\n",
      "    plt.savefig(figurename, format = figureformat, orientation = figureorientation,\n",
      "                bbox_inches = 'tight', pad_inches = 0.1)    \n",
      "\n",
      "    #######################################\n",
      "    figname = 'onset adduction Dvp: %s' % trunkRLNcond\n",
      "    fig = plt.figure(num = figname, figsize = (14.9625, 12.2125))\n",
      "\n",
      "    axim = plt.imshow(all_dVP[:, :, trunkRLNnum])\n",
      "    ax = plt.gca()\n",
      "    \n",
      "    axim.set_clim(np.nanmin(all_dVP), np.nanmax(all_dVP))\n",
      "    ax.relim()\n",
      "    \n",
      "    co = plt.contour(axim.get_array(), \n",
      "                     12, # contours[TAcond], # 12, \n",
      "                     colors = 'w')\n",
      "    plt.clabel(co, fmt = '%.0f', fontsize = 10, inline = True)\n",
      "\n",
      "    ax.axis([-0.5, 4.5, -0.5, 7.5])\n",
      "    ax.grid(False)\n",
      "\n",
      "    plt.xlabel(label_TA)\n",
      "    plt.ylabel(label_SLN)\n",
      "    plt.title(figname)\n",
      "\n",
      "    cb = plt.colorbar(axim)\n",
      "    cb.set_label('onset adduction Dvp [%]')\n",
      "\n",
      "    figurename = '%s.onsetDvp.%s' % (figurenametemplate, trunkRLNcond.replace(' ', ''))  \n",
      "    figurename += \".%s\" % figureformat\n",
      "    figurename = figurename.replace('/', '_')\n",
      "    plt.savefig(figurename, format = figureformat, orientation = figureorientation,\n",
      "                bbox_inches = 'tight', pad_inches = 0.1)    "
     ],
     "language": "python",
     "metadata": {},
     "outputs": []
    },
    {
     "cell_type": "code",
     "collapsed": false,
     "input": [
      "#####################\n",
      "\n",
      "# plt.show()\n",
      "plt.close('all')"
     ],
     "language": "python",
     "metadata": {},
     "outputs": []
    }
   ],
   "metadata": {}
  }
 ]
}