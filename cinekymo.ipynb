{
 "metadata": {
  "name": ""
 },
 "nbformat": 3,
 "nbformat_minor": 0,
 "worksheets": [
  {
   "cells": [
    {
     "cell_type": "code",
     "collapsed": false,
     "input": [
      "import sys, os\n",
      "import numpy as np"
     ],
     "language": "python",
     "metadata": {},
     "outputs": [],
     "prompt_number": 24
    },
    {
     "cell_type": "code",
     "collapsed": false,
     "input": [
      "sys.path.append('/extra/InVivoDog/python/cine/tools')\n",
      "sys.path.append('/extra/public/python/tools')"
     ],
     "language": "python",
     "metadata": {},
     "outputs": [],
     "prompt_number": 28
    },
    {
     "cell_type": "code",
     "collapsed": false,
     "input": [
      "import cine"
     ],
     "language": "python",
     "metadata": {},
     "outputs": [],
     "prompt_number": 3
    },
    {
     "cell_type": "code",
     "collapsed": false,
     "input": [
      "try:\n",
      "    fullcinefilepath = sys.argv[1]\n",
      "except:\n",
      "    fullcinefilepath = None\n",
      "else:\n",
      "    if not os.path.isfile(fullcinefilepath):\n",
      "        # for debugging and testing from IPython Notebook\n",
      "        fullcinefilepath = (\"/extra/InVivoDog/InVivoDog_2012_10_17/left PCA/range finding/\" + \n",
      "                            \"left PCA range finding_006_Wed Oct 17 2012 14 18 49.507 050.001.cine\")"
     ],
     "language": "python",
     "metadata": {},
     "outputs": [],
     "prompt_number": 13
    },
    {
     "cell_type": "code",
     "collapsed": false,
     "input": [
      "if fullcinefilepath:\n",
      "    initialdir = os.path.dirname(fullcinefilepath)\n",
      "    cinefilename = os.path.basename(fullcinefilepath)\n",
      "else:\n",
      "    initialdir = None\n",
      "    cinefilename = None\n",
      "print initialdir\n",
      "print cinefilename"
     ],
     "language": "python",
     "metadata": {},
     "outputs": [
      {
       "output_type": "stream",
       "stream": "stdout",
       "text": [
        "/extra/InVivoDog/InVivoDog_2012_10_17/left PCA/range finding\n",
        "left PCA range finding_006_Wed Oct 17 2012 14 18 49.507 050.001.cine\n"
       ]
      }
     ],
     "prompt_number": 22
    },
    {
     "cell_type": "code",
     "collapsed": false,
     "input": [
      "c = cine.Cine(initialdir = initialdir, \n",
      "              cinefilename = cinefilename,\n",
      "              debug = True)"
     ],
     "language": "python",
     "metadata": {},
     "outputs": [],
     "prompt_number": 16
    },
    {
     "cell_type": "code",
     "collapsed": false,
     "input": [
      "try:\n",
      "    kymolinenr = np.int(sys.argv[2])\n",
      "except:\n",
      "    kymolinenr = 225"
     ],
     "language": "python",
     "metadata": {},
     "outputs": []
    },
    {
     "cell_type": "code",
     "collapsed": false,
     "input": [
      "kymo = c.makekymo(cineframes = None, linenr = kymolinenr, orientation = 'horizontal')"
     ],
     "language": "python",
     "metadata": {},
     "outputs": [
      {
       "output_type": "stream",
       "stream": "stdout",
       "text": [
        "****************************************\n",
        "makekymo_from_raw: reading data for kymogram\n",
        "\n",
        "total seektime [ms]: 45.378"
       ]
      },
      {
       "output_type": "stream",
       "stream": "stdout",
       "text": [
        "\n",
        "total readtime [ms]: 365.265\n",
        "\n",
        "max seektime [ms]: 0.042\n",
        "max readtime [ms]: 3.054\n",
        "\n",
        "temp_pixdat: read 2.060 MB\n",
        "total data reading time: 13752.593 millisec\n",
        "total data reading rate: 0.150 MB/s\n",
        "\n",
        "****************************************\n",
        "-------------------------------------------------------\n",
        "converting raw packed pixel data to uint16 pixel arrays:\n",
        "\tconverted 1 frames\n",
        "\tconversion time: 9.5 milli sec\n",
        "-------------------------------------------------------\n",
        "\n"
       ]
      },
      {
       "metadata": {},
       "output_type": "pyout",
       "prompt_number": 17,
       "text": [
        "array([[298, 275, 288, ..., 282, 279, 281],\n",
        "       [287, 283, 277, ..., 289, 285, 282],\n",
        "       [293, 283, 279, ..., 287, 275, 290],\n",
        "       ..., \n",
        "       [118, 105, 114, ..., 114, 108, 110],\n",
        "       [103, 103,  97, ..., 108, 105, 103],\n",
        "       [ 93,  98,  97, ...,  92, 106,  98]], dtype=uint16)"
       ]
      }
     ],
     "prompt_number": 17
    },
    {
     "cell_type": "code",
     "collapsed": false,
     "input": [
      "np.savez_compressed(file = '/tmp/cinekymo.npz', kymo = kymo)"
     ],
     "language": "python",
     "metadata": {},
     "outputs": []
    },
    {
     "cell_type": "code",
     "collapsed": false,
     "input": [
      "c.getallframes()"
     ],
     "language": "python",
     "metadata": {},
     "outputs": []
    },
    {
     "cell_type": "code",
     "collapsed": false,
     "input": [
      "try:\n",
      "    debug = sys.argv[3]\n",
      "except:\n",
      "    debug = False"
     ],
     "language": "python",
     "metadata": {},
     "outputs": []
    },
    {
     "cell_type": "code",
     "collapsed": false,
     "input": [
      "if debug:\n",
      "    import matplotlib.pyplot as plt\n",
      "    \n",
      "    plt.imshow(kymo, aspect = 'auto')\n",
      "    plt.gray()\n",
      "\n",
      "    plt.title('kymo linenr: %d' % kymolinenr)\n",
      "    \n",
      "    plt.show()"
     ],
     "language": "python",
     "metadata": {},
     "outputs": [
      {
       "metadata": {},
       "output_type": "pyout",
       "prompt_number": 19,
       "text": [
        "<matplotlib.image.AxesImage at 0x48754d0>"
       ]
      }
     ],
     "prompt_number": 19
    },
    {
     "cell_type": "code",
     "collapsed": false,
     "input": [],
     "language": "python",
     "metadata": {},
     "outputs": []
    }
   ],
   "metadata": {}
  }
 ]
}