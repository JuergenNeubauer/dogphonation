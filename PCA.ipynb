{
 "metadata": {
  "name": ""
 },
 "nbformat": 3,
 "nbformat_minor": 0,
 "worksheets": [
  {
   "cells": [
    {
     "cell_type": "code",
     "collapsed": false,
     "input": [
      "import numpy as np\n",
      "import numpy.linalg as npl\n",
      "\n",
      "def PCA(datamatrix, centering = False):\n",
      "    \"\"\"\n",
      "    Performs a PCA, a Principal Component Analysis\n",
      "    \n",
      "    datamatrix: different variables in/along columns, different observations in/along rows\n",
      "    centering: remove the mean of each column, so calculate the mean along/down each row for each column\n",
      "    \n",
      "    returns: eigval, norm_eigval, eigvec, projection_vec\n",
      "    \"\"\"\n",
      "    \n",
      "    Nrows, Ncols = datamatrix.shape\n",
      "    \n",
      "    # calculate mean along/down each row for each column\n",
      "    mean_dat = np.mean(datamatrix, axis = 0)\n",
      "\n",
      "    mean_datamatrix = np.tile( mean_dat, (Nrows, 1) )\n",
      "    \n",
      "    if centering:\n",
      "        centered = datamatrix - mean_datamatrix\n",
      "    else:\n",
      "        centered = datamatrix\n",
      "        \n",
      "    # correlation matrix, summation over/along the rows in each column of the data matrix\n",
      "    corr = np.dot(centered.T, centered)\n",
      "    \n",
      "    # weights (eigenvalues) and normalized eigenvectors of Hermitian or symmetric matrix\n",
      "    # eigenvalues are not ordered in general\n",
      "    # eigenvectors are in columns k, i.e. v[:, k]\n",
      "    w, v = npl.eigh(corr)\n",
      "    \n",
      "    # sort from largest to smallest\n",
      "    sortindex = np.argsort(w)[::-1]\n",
      "    \n",
      "    # sort eigenvectors\n",
      "    eigen_vec = v[:, sortindex]\n",
      "\n",
      "    # sort from largest to smallest\n",
      "    eigen_val = sorted(w, reverse = True)\n",
      "    # normalize eigenvalues\n",
      "    norm_eigen_val = eigen_val / np.sum(eigen_val)\n",
      "    \n",
      "    # bi-orthogonal vectors from projection of data onto PCA directions, vectors are in columns\n",
      "    projection_vec = np.dot(centered, eigen_vec)\n",
      "    \n",
      "    return eigen_val, norm_eigen_val, eigen_vec, projection_vec"
     ],
     "language": "python",
     "metadata": {},
     "outputs": []
    }
   ],
   "metadata": {}
  }
 ]
}