{
 "metadata": {
  "name": ""
 },
 "nbformat": 3,
 "nbformat_minor": 0,
 "worksheets": [
  {
   "cells": [
    {
     "cell_type": "code",
     "collapsed": false,
     "input": [
      "import csv\n",
      "import xlrd"
     ],
     "language": "python",
     "metadata": {},
     "outputs": [],
     "prompt_number": 1
    },
    {
     "cell_type": "code",
     "collapsed": false,
     "input": [
      "ls -alot ~neubauer/Downloads/*.csv"
     ],
     "language": "python",
     "metadata": {},
     "outputs": [
      {
       "output_type": "stream",
       "stream": "stdout",
       "text": [
        "-rw-r--r-- 1 neubauer 6024 Jan 10 17:56 \u001b[0m\u001b[00m/home/neubauer/Downloads/December2013_1995.csv\u001b[0m\r\n",
        "-rw-r--r-- 1 neubauer 6686 Jan 10 17:56 \u001b[00m/home/neubauer/Downloads/currentTransaction_1995.csv\u001b[0m\r\n",
        "-rw-r--r-- 1 neubauer 6770 Jan 10 17:56 \u001b[00m/home/neubauer/Downloads/November2013_1995.csv\u001b[0m\r\n"
       ]
      }
     ],
     "prompt_number": 3
    },
    {
     "cell_type": "code",
     "collapsed": false,
     "input": [
      "r = [30, 39.31, 61.28, 51.94, 83.65, 30.65, 114.57, 276.09, 289.0]\n",
      "sum(r)"
     ],
     "language": "python",
     "metadata": {},
     "outputs": [
      {
       "metadata": {},
       "output_type": "pyout",
       "prompt_number": 4,
       "text": [
        "976.49"
       ]
      }
     ],
     "prompt_number": 4
    },
    {
     "cell_type": "code",
     "collapsed": false,
     "input": [
      "3021.13 - sum(r)"
     ],
     "language": "python",
     "metadata": {},
     "outputs": [
      {
       "metadata": {},
       "output_type": "pyout",
       "prompt_number": 5,
       "text": [
        "2044.64"
       ]
      }
     ],
     "prompt_number": 5
    },
    {
     "cell_type": "code",
     "collapsed": false,
     "input": [],
     "language": "python",
     "metadata": {},
     "outputs": []
    }
   ],
   "metadata": {}
  }
 ]
}