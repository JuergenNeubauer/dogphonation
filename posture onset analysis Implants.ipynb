{
 "metadata": {
  "name": ""
 },
 "nbformat": 3,
 "nbformat_minor": 0,
 "worksheets": [
  {
   "cells": [
    {
     "cell_type": "code",
     "collapsed": false,
     "input": [
      "import os, sys, glob, xlrd, csv\n",
      "import numpy as np"
     ],
     "language": "python",
     "metadata": {},
     "outputs": [],
     "prompt_number": 1
    },
    {
     "cell_type": "code",
     "collapsed": false,
     "input": [
      "sys.path.append('/extra/InVivoDog/python/cine/tools')"
     ],
     "language": "python",
     "metadata": {},
     "outputs": [],
     "prompt_number": 2
    },
    {
     "cell_type": "code",
     "collapsed": false,
     "input": [
      "sys.path.append('/extra/InVivoDog/Elazar/code_posture_onset/')"
     ],
     "language": "python",
     "metadata": {},
     "outputs": [],
     "prompt_number": 3
    },
    {
     "cell_type": "code",
     "collapsed": false,
     "input": [
      "%run \"tools posture onset analysis.py\""
     ],
     "language": "python",
     "metadata": {},
     "outputs": [],
     "prompt_number": 27
    },
    {
     "cell_type": "code",
     "collapsed": false,
     "input": [
      "xls_dir = './Implant_2013_10_23/'"
     ],
     "language": "python",
     "metadata": {},
     "outputs": [],
     "prompt_number": 5
    },
    {
     "cell_type": "code",
     "collapsed": false,
     "input": [
      "ls -alot $xls_dir"
     ],
     "language": "python",
     "metadata": {},
     "outputs": [
      {
       "output_type": "stream",
       "stream": "stdout",
       "text": [
        "total 448\r\n",
        "drwxr-xr-x 1 neubauer  38116 Dec 15 11:59 \u001b[0m\u001b[01;34m..\u001b[0m/\r\n",
        "drwxr-xr-x 1 neubauer   9392 Nov 30 00:51 \u001b[01;34mCheck_Onset\u001b[0m/\r\n",
        "drwxr-xr-x 1 neubauer    292 Nov 29 16:46 \u001b[01;34m.\u001b[0m/\r\n",
        "-rw-r--r-- 1 neubauer 139776 Nov 29 16:17 \u001b[00m10.23.RSLNvsRRLN.ImplantsRepeated.xls\u001b[0m\r\n",
        "-rw-r--r-- 1 neubauer 161280 Nov 29 16:17 \u001b[00m10.23.SLNvsRLN.ImplantsRepeated.xls\u001b[0m\r\n",
        "drwxr-xr-x 1 neubauer   8452 Oct 31 16:33 \u001b[01;34mspecgrams\u001b[0m/\r\n",
        "-rw-r--r-- 1 neubauer  77839 Oct 31 11:34 \u001b[00mREVISED.SLNvsRLN.Implants.xlsx\u001b[0m\r\n",
        "-rw-r--r-- 1 neubauer  68474 Oct 27 21:59 \u001b[00mRSLNvsRRLN.Implants.xlsx\u001b[0m\r\n"
       ]
      }
     ],
     "prompt_number": 6
    },
    {
     "cell_type": "code",
     "collapsed": false,
     "input": [
      "recurrens_book = xlrd.open_workbook(filename = os.path.join(xls_dir, 'REVISED.SLNvsRLN.Implants.xlsx'))\n",
      "vagal_book = xlrd.open_workbook(filename = os.path.join(xls_dir, 'RSLNvsRRLN.Implants.xlsx'))"
     ],
     "language": "python",
     "metadata": {},
     "outputs": [],
     "prompt_number": 7
    },
    {
     "cell_type": "code",
     "collapsed": false,
     "input": [
      "show_book_content(recurrens_book)"
     ],
     "language": "python",
     "metadata": {},
     "outputs": [
      {
       "output_type": "stream",
       "stream": "stdout",
       "text": [
        "work sheet info:\n",
        "#, name, #rows, #cols\n",
        "0 Baseline 74 7\n",
        "1 No Implant (No L RLN) 74 7\n",
        "2 Rectangle 74 7\n",
        "3 Divergent 74 7\n",
        "4 Convergent 74 7\n",
        "5 V-Shaped 74 7\n",
        "6 ELDivergent 74 7\n",
        "7 ELRectangle 74 7\n",
        "8 ELConvergent 74 7\n",
        "9 ELV-shaped 74 7\n"
       ]
      }
     ],
     "prompt_number": 8
    },
    {
     "cell_type": "code",
     "collapsed": false,
     "input": [
      "show_book_content(vagal_book)"
     ],
     "language": "python",
     "metadata": {},
     "outputs": [
      {
       "output_type": "stream",
       "stream": "stdout",
       "text": [
        "work sheet info:\n",
        "#, name, #rows, #cols\n",
        "0 No Implant 74 7\n",
        "1 Rectangle 74 7\n",
        "2 Divergent 74 7\n",
        "3 Convergent 74 7\n",
        "4 V-Shaped 74 7\n",
        "5 ELRectangle 74 7\n",
        "6 ELDivergent 74 7\n",
        "7 ELConvergent 74 7\n",
        "8 ELV-shaped 74 7\n"
       ]
      }
     ],
     "prompt_number": 9
    },
    {
     "cell_type": "code",
     "collapsed": false,
     "input": [
      "Nstimulation = 64 # 8 * 8 = (7 + 1) * (7 + 1)"
     ],
     "language": "python",
     "metadata": {},
     "outputs": [],
     "prompt_number": 10
    },
    {
     "cell_type": "code",
     "collapsed": false,
     "input": [
      "# onsettime_samples = get_onsettime_samples(workbook = recurrens_book, number_of_stimulations = Nstimulation)\n",
      "\n",
      "onsettime_samples = get_onsettime_samples(workbook = vagal_book, number_of_stimulations = Nstimulation)"
     ],
     "language": "python",
     "metadata": {},
     "outputs": [],
     "prompt_number": 29
    },
    {
     "cell_type": "code",
     "collapsed": false,
     "input": [
      "# copied here from the program posture_onset.implant...: TAconditions\n",
      "\n",
      "nerve_conditions = [\"No Implant (No L RLN)\", \"Rectangle\", \"Convergent\", \"Divergent\", \"V-Shaped\",\n",
      "                                        \"ELRectangle\", \"ELConvergent\", \"ELDivergent\", \"ELV-shaped\"]"
     ],
     "language": "python",
     "metadata": {},
     "outputs": [],
     "prompt_number": 14
    },
    {
     "cell_type": "code",
     "collapsed": false,
     "input": [
      "compare_lists_of_nerveconditions(onsettime_samples, nerve_conditions)"
     ],
     "language": "python",
     "metadata": {},
     "outputs": [
      {
       "output_type": "stream",
       "stream": "stdout",
       "text": [
        "elements not in nerve_conditions:  ['Baseline']\n"
       ]
      }
     ],
     "prompt_number": 24
    },
    {
     "cell_type": "code",
     "collapsed": false,
     "input": [
      "# check that they are all the same length\n",
      "for nervecond in nerve_conditions:\n",
      "    print len(onsettime_samples[nervecond])"
     ],
     "language": "python",
     "metadata": {},
     "outputs": [
      {
       "output_type": "stream",
       "stream": "stdout",
       "text": [
        "64\n",
        "64\n",
        "64\n",
        "64\n",
        "64\n",
        "64\n",
        "64\n",
        "64\n",
        "64\n"
       ]
      }
     ],
     "prompt_number": 25
    },
    {
     "cell_type": "code",
     "collapsed": false,
     "input": [
      "write_inputdata_file(filename = 'implant_SLNvsRLN_2013_10_23_onsettime_samples.csv', \n",
      "                     nerve_conditions = nerve_conditions, \n",
      "                     onsettime_samples = onsettime_samples)"
     ],
     "language": "python",
     "metadata": {},
     "outputs": [],
     "prompt_number": 28
    },
    {
     "cell_type": "code",
     "collapsed": false,
     "input": [],
     "language": "python",
     "metadata": {},
     "outputs": []
    }
   ],
   "metadata": {}
  }
 ]
}