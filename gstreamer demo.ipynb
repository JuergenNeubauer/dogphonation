{
 "metadata": {
  "name": ""
 },
 "nbformat": 3,
 "nbformat_minor": 0,
 "worksheets": [
  {
   "cells": [
    {
     "cell_type": "code",
     "collapsed": false,
     "input": [
      "import os\n",
      "import gst, gtk, gobject"
     ],
     "language": "python",
     "metadata": {},
     "outputs": [],
     "prompt_number": 1
    },
    {
     "cell_type": "code",
     "collapsed": false,
     "input": [
      "class VideoPlayer:\n",
      "    def __init__(self):\n",
      "        self.window = gtk.Window()\n",
      "        self.window.connect('destroy', self.on_destroy)\n",
      "\n",
      "        self.drawingarea = gtk.DrawingArea()\n",
      "        self.drawingarea.connect('realize', self.on_drawingarea_realized)\n",
      "        self.window.add(self.drawingarea)\n",
      "\n",
      "        self.playbin = gst.element_factory_make('playbin2')\n",
      "        self.playbin.set_property('uri', 'file:///home/neubauer/Downloads/water-and-wind.ogv')\n",
      "\n",
      "        self.sink = gst.element_factory_make('xvimagesink')\n",
      "        self.sink.set_property('force-aspect-ratio', True)\n",
      "        self.playbin.set_property('video-sink', self.sink)\n",
      "\n",
      "        self.bus = self.playbin.get_bus()\n",
      "        self.bus.add_signal_watch()\n",
      "        self.bus.connect(\"message::eos\", self.on_finish)\n",
      "\n",
      "        self.window.show_all()\n",
      "\n",
      "        self.playbin.set_state(gst.STATE_PLAYING)\n",
      "\n",
      "    def on_finish(self, bus, message):\n",
      "        self.playbin.set_state(gst.STATE_PAUSED)\n",
      "\n",
      "    def on_destroy(self, window):\n",
      "        self.playbin.set_state(gst.STATE_NULL)\n",
      "        gtk.main_quit()\n",
      "\n",
      "    def on_drawingarea_realized(self, sender):\n",
      "        self.sink.set_xwindow_id(self.drawingarea.window.xid)\n"
     ],
     "language": "python",
     "metadata": {},
     "outputs": [],
     "prompt_number": 2
    },
    {
     "cell_type": "code",
     "collapsed": false,
     "input": [
      "VideoPlayer()\n",
      "gtk.main()"
     ],
     "language": "python",
     "metadata": {},
     "outputs": [],
     "prompt_number": 3
    },
    {
     "cell_type": "code",
     "collapsed": false,
     "input": [
      "gst.get_gst_version"
     ],
     "language": "python",
     "metadata": {},
     "outputs": [
      {
       "metadata": {},
       "output_type": "pyout",
       "prompt_number": 5,
       "text": [
        "(0, 10, 36, 0)"
       ]
      }
     ],
     "prompt_number": 5
    },
    {
     "cell_type": "code",
     "collapsed": false,
     "input": [
      "gst.get_pygst_version"
     ],
     "language": "python",
     "metadata": {},
     "outputs": [
      {
       "metadata": {},
       "output_type": "pyout",
       "prompt_number": 6,
       "text": [
        "(0, 10, 22, 0)"
       ]
      }
     ],
     "prompt_number": 6
    },
    {
     "cell_type": "code",
     "collapsed": false,
     "input": [
      "gst.version"
     ],
     "language": "python",
     "metadata": {},
     "outputs": [
      {
       "metadata": {},
       "output_type": "pyout",
       "prompt_number": 7,
       "text": [
        "(0, 10, 36, 0)"
       ]
      }
     ],
     "prompt_number": 7
    },
    {
     "cell_type": "code",
     "collapsed": false,
     "input": [
      "gst.version_string"
     ],
     "language": "python",
     "metadata": {},
     "outputs": [
      {
       "metadata": {},
       "output_type": "pyout",
       "prompt_number": 8,
       "text": [
        "'GStreamer 0.10.36'"
       ]
      }
     ],
     "prompt_number": 8
    },
    {
     "cell_type": "code",
     "collapsed": false,
     "input": [],
     "language": "python",
     "metadata": {},
     "outputs": []
    }
   ],
   "metadata": {}
  }
 ]
}