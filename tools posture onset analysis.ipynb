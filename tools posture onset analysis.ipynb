{
 "metadata": {
  "name": ""
 },
 "nbformat": 3,
 "nbformat_minor": 0,
 "worksheets": [
  {
   "cells": [
    {
     "cell_type": "code",
     "collapsed": false,
     "input": [
      "import os, sys, glob, xlrd, csv\n",
      "import numpy as np"
     ],
     "language": "python",
     "metadata": {},
     "outputs": [],
     "prompt_number": 2
    },
    {
     "cell_type": "code",
     "collapsed": false,
     "input": [
      "sys.path.append('/extra/InVivoDog/python/cine/tools')"
     ],
     "language": "python",
     "metadata": {},
     "outputs": [],
     "prompt_number": 3
    },
    {
     "cell_type": "code",
     "collapsed": false,
     "input": [
      "def show_book_content(workbook = None):\n",
      "    \"\"\"\n",
      "    info about workbook sheets\n",
      "    \"\"\"\n",
      "    if not workbook:\n",
      "        return\n",
      "    \n",
      "    print \"work sheet info:\"\n",
      "    print \"#, name, #rows, #cols\"\n",
      "    for casename in workbook.sheet_names():\n",
      "        sheet = workbook.sheet_by_name(casename)\n",
      "        print sheet.number, sheet.name, sheet.nrows, sheet.ncols"
     ],
     "language": "python",
     "metadata": {},
     "outputs": [],
     "prompt_number": 9
    },
    {
     "cell_type": "code",
     "collapsed": false,
     "input": [
      "def get_onsettime_samples(workbook = None, number_of_stimulations = None):\n",
      "    \"\"\"\n",
      "    assumptions: data starts in row 4 (count starts from 0)\n",
      "    and occupies columns 1 to 4 for onset, dummy, Npeaks, T\n",
      "    \n",
      "    returns: onsettime_samples dictionary\n",
      "    \"\"\"\n",
      "    if not workbook:\n",
      "        return None\n",
      "    if not number_of_stimulations:\n",
      "        return None\n",
      "    \n",
      "    onsettime_samples = {}\n",
      "\n",
      "    for casename in workbook.sheet_names():\n",
      "        sheet = workbook.sheet_by_name(casename)\n",
      "    \n",
      "        onset_list = [] # onset time in samples (sampling rate: 50 KHz)\n",
      "    \n",
      "        for rownum in range(number_of_stimulations):\n",
      "            onset, dummy, Npeaks, T = sheet.row_values(rownum + 4, start_colx = 1, end_colx = 5)\n",
      "        \n",
      "            if Npeaks != 4:\n",
      "                raise ValueError(\"Npeaks is NOT 4\")\n",
      "        \n",
      "            try:\n",
      "                if onset.strip() in ['NP', '']:\n",
      "                    # onset_list.append(np.nan)\n",
      "                    onset_list.append(str(onset))\n",
      "            except:\n",
      "                onset_list.append(int(onset))\n",
      "    \n",
      "        onsettime_samples[str(casename)] = onset_list\n",
      "        \n",
      "    return onsettime_samples"
     ],
     "language": "python",
     "metadata": {},
     "outputs": [],
     "prompt_number": 16
    },
    {
     "cell_type": "code",
     "collapsed": false,
     "input": [
      "def compare_lists_of_nerveconditions(onsettime_samples, nerve_conditions):\n",
      "    \"\"\"\n",
      "    compare lists of nerve conditions: e.g. onsettime_samples with nerve_conditions\n",
      "    \"\"\"\n",
      "    setA = set(onsettime_samples.keys())\n",
      "    setB = set(nerve_conditions)\n",
      "    \n",
      "    d = setA.difference(setB)\n",
      "    \n",
      "    if len(d) == 0:\n",
      "        print 'no difference'\n",
      "    else:\n",
      "        not_in_A = []\n",
      "        not_in_B = []\n",
      "        for item in d:\n",
      "            if item in setA:\n",
      "                not_in_B.append(item)\n",
      "            if item in setB:\n",
      "                not_in_A.append(item)\n",
      "                \n",
      "            if not_in_B:\n",
      "                print 'elements not in nerve_conditions: ', not_in_B\n",
      "            if not_in_A:\n",
      "                print 'elements not in onsettime_samples: ', not_in_A"
     ],
     "language": "python",
     "metadata": {},
     "outputs": [],
     "prompt_number": 1
    },
    {
     "cell_type": "code",
     "collapsed": false,
     "input": [
      "def write_inputdata_file(filename = None, nerve_conditions = None, onsettime_samples = None):\n",
      "    \"\"\"\n",
      "    write a csv file in /extra/InVivoDog/Elazar/inputdata\n",
      "    \"\"\"\n",
      "    if not filename:\n",
      "        print \"filename not valid\"\n",
      "        return\n",
      "    if not nerve_conditions:\n",
      "        print \"no nerve_conditions given\"\n",
      "        return\n",
      "    if not onsettime_samples:\n",
      "        print \"no onsettime_samples given\"\n",
      "        return\n",
      "    \n",
      "    a_time_samples = np.array([onsettime_samples[nervcond] for nervcond in nerve_conditions]).T\n",
      "    \n",
      "    outfile = open(os.path.join('/extra/InVivoDog/Elazar/inputdata', filename),\n",
      "                   'wt')\n",
      "    \n",
      "    csv_writer = csv.writer(outfile)\n",
      "    \n",
      "    csv_writer.writerow(['File #'] + nerve_conditions)\n",
      "    \n",
      "    for num, row in enumerate(a_time_samples):\n",
      "        filenum = num + 1\n",
      "        \n",
      "        csv_writer.writerow([filenum] + list(row))\n",
      "        \n",
      "    outfile.close()"
     ],
     "language": "python",
     "metadata": {},
     "outputs": []
    }
   ],
   "metadata": {}
  }
 ]
}