{
 "metadata": {
  "name": ""
 },
 "nbformat": 3,
 "nbformat_minor": 0,
 "worksheets": [
  {
   "cells": [
    {
     "cell_type": "code",
     "collapsed": false,
     "input": [
      "import glob, os, sys, subprocess, shlex\n",
      "import numpy as np\n",
      "\n",
      "import paramiko"
     ],
     "language": "python",
     "metadata": {},
     "outputs": [],
     "prompt_number": 1
    },
    {
     "cell_type": "code",
     "collapsed": false,
     "input": [
      "sys.path.append('/extra/InVivoDog/python/cine/tools')\n",
      "import cine"
     ],
     "language": "python",
     "metadata": {},
     "outputs": [],
     "prompt_number": 2
    },
    {
     "cell_type": "code",
     "collapsed": false,
     "input": [
      "%matplotlib inline\n",
      "\n",
      "import matplotlib.pyplot as plt"
     ],
     "language": "python",
     "metadata": {},
     "outputs": [
      {
       "output_type": "stream",
       "stream": "stdout",
       "text": [
        "matplotlib data path /usr/lib64/python2.7/site-packages/matplotlib/mpl-data\n",
        "loaded rc file /home/neubauer/.config/matplotlib/matplotlibrc\n",
        "matplotlib version 1.3.1\n",
        "verbose.level helpful\n",
        "interactive is False\n",
        "platform is linux2\n",
        "$HOME=/home/neubauer\n",
        "CACHEDIR=/home/neubauer/.cache/matplotlib\n",
        "Using fontManager instance from /home/neubauer/.cache/matplotlib/fontList.cache\n",
        "backend module://IPython.kernel.zmq.pylab.backend_inline version unknown"
       ]
      },
      {
       "output_type": "stream",
       "stream": "stdout",
       "text": [
        "\n",
        "backend module://IPython.kernel.zmq.pylab.backend_inline version unknown\n"
       ]
      }
     ],
     "prompt_number": 3
    },
    {
     "cell_type": "code",
     "collapsed": false,
     "input": [
      "ssh_client = paramiko.SSHClient()\n",
      "\n",
      "ssh_client.load_system_host_keys()\n",
      "\n",
      "ssh_client.set_missing_host_key_policy(paramiko.AutoAddPolicy())"
     ],
     "language": "python",
     "metadata": {},
     "outputs": [],
     "prompt_number": 4
    },
    {
     "cell_type": "code",
     "collapsed": false,
     "input": [
      "with open('/home/neubauer/.neurousername', 'r') as f:\n",
      "    username = f.read()\n",
      "\n",
      "if not username:\n",
      "    print \"no username\"\n",
      "    username = None\n",
      "else:\n",
      "    print 'username: ', username\n",
      "    \n",
      "with open('/home/neubauer/.neuropassword', 'r') as f:\n",
      "    password = f.read()\n",
      "    \n",
      "if not password:\n",
      "    print \"no password\"\n",
      "    print\n",
      "    \n",
      "    try:\n",
      "        password = raw_input(\"Enter password for users '%s': \" % username)\n",
      "    except:\n",
      "        print \"some problem occurred\"\n",
      "        print sys.exc_info()\n",
      "        password = None\n",
      "    else:\n",
      "        print \"got a password\"\n",
      "else:\n",
      "    print \"got a password\""
     ],
     "language": "python",
     "metadata": {},
     "outputs": []
    },
    {
     "cell_type": "code",
     "collapsed": false,
     "input": [
      "neuromuscular = '10.47.85.12' # must be inside the VPN network\n",
      "\n",
      "ssh_client.connect(neuromuscular, username = username, password = password, compress = True)"
     ],
     "language": "python",
     "metadata": {},
     "outputs": [],
     "prompt_number": 103
    },
    {
     "cell_type": "code",
     "collapsed": false,
     "input": [
      "remotecinefilepath = (\"'/mnt/workspace/InVivoDog_2013_12_11/asymmetric RLN/No SLN/'\" +\n",
      "                      \"'asymmetric RLN No SLN_092_Wed Dec 11 2013 13 14 17.007 809.001.cine'\")\n",
      "ssh_in, ssh_out, ssh_err = ssh_client.exec_command(\"ipython /extra/public/python/cinekymo.py \" + remotecinefilepath + ' 250')\n",
      "\n",
      "r_out = ssh_out.readlines()\n",
      "r_err = ssh_err.readlines()"
     ],
     "language": "python",
     "metadata": {},
     "outputs": [],
     "prompt_number": 121
    },
    {
     "cell_type": "code",
     "collapsed": false,
     "input": [
      "for line in r_out: print line.strip()"
     ],
     "language": "python",
     "metadata": {},
     "outputs": [
      {
       "output_type": "stream",
       "stream": "stdout",
       "text": [
        "/mnt/workspace/InVivoDog_2013_12_11/asymmetric RLN/No SLN\n",
        "asymmetric RLN No SLN_092_Wed Dec 11 2013 13 14 17.007 809.001.cine\n",
        "****************************************\n",
        "makekymo_from_raw: reading data for kymogram\n",
        "\n",
        "total seektime [ms]: 17.045\n",
        "total readtime [ms]: 1102.582\n",
        "\n",
        "max seektime [ms]: 0.024\n",
        "max readtime [ms]: 12.719\n",
        "\n",
        "temp_pixdat: read 2.747 MB\n",
        "total data reading time: 13800.607 millisec\n",
        "total data reading rate: 0.199 MB/s\n",
        "\n",
        "****************************************\n",
        "-------------------------------------------------------\n",
        "converting raw packed pixel data to uint16 pixel arrays:\n",
        "converted 1 frames\n",
        "conversion time: 22.3 milli sec\n",
        "-------------------------------------------------------\n",
        "\n",
        "getallrawframes:\n",
        "disk reading time: 6881.717 milliseconds\n",
        "disk reading rate: 204.4 MB/s\n",
        "-------------------------------------------------------\n",
        "converting raw packed pixel data to uint16 pixel arrays:\n",
        "converted 4501 frames\n",
        "conversion time: 26778.0 milli sec\n",
        "-------------------------------------------------------\n",
        "\n"
       ]
      }
     ],
     "prompt_number": 122
    },
    {
     "cell_type": "code",
     "collapsed": false,
     "input": [
      "for line in r_err: print line.strip()"
     ],
     "language": "python",
     "metadata": {},
     "outputs": [
      {
       "output_type": "stream",
       "stream": "stdout",
       "text": [
        "/home/neubauer/.bashrc: line 73: unalias: lt: not found\n"
       ]
      }
     ],
     "prompt_number": 123
    },
    {
     "cell_type": "code",
     "collapsed": false,
     "input": [
      "ftp = ssh_client.open_sftp()"
     ],
     "language": "python",
     "metadata": {},
     "outputs": [],
     "prompt_number": 6
    },
    {
     "cell_type": "code",
     "collapsed": false,
     "input": [
      "ftp.chdir(path = '.')\n",
      "ftp.getcwd()"
     ],
     "language": "python",
     "metadata": {},
     "outputs": [
      {
       "metadata": {},
       "output_type": "pyout",
       "prompt_number": 7,
       "text": [
        "'/home/neubauer'"
       ]
      }
     ],
     "prompt_number": 7
    },
    {
     "cell_type": "code",
     "collapsed": false,
     "input": [
      "remotepath = \"/mnt/workspace/InVivoDog_2013_12_11/asymmetric RLN/No SLN\"\n",
      "\n",
      "ftp.chdir(path = remotepath)\n",
      "print ftp.getcwd()\n",
      "print \n",
      "cinenames = [item for item in ftp.listdir() if item.endswith('.cine')]"
     ],
     "language": "python",
     "metadata": {},
     "outputs": [
      {
       "output_type": "stream",
       "stream": "stdout",
       "text": [
        "/mnt/workspace/InVivoDog_2013_12_11/asymmetric RLN/No SLN\n",
        "\n"
       ]
      }
     ],
     "prompt_number": 82
    },
    {
     "cell_type": "code",
     "collapsed": false,
     "input": [
      "remotefilename = cinenames[0]\n",
      "\n",
      "ftpcinefile = ftp.open(filename = remotefilename, \n",
      "                       mode = 'r', \n",
      "                       bufsize = 512 * 512 * 2) # might need to use large bufsize to hold one frame ???"
     ],
     "language": "python",
     "metadata": {},
     "outputs": [],
     "prompt_number": 83
    },
    {
     "cell_type": "code",
     "collapsed": false,
     "input": [
      "from cinefile_datatypes import *"
     ],
     "language": "python",
     "metadata": {},
     "outputs": [],
     "prompt_number": 73
    },
    {
     "cell_type": "code",
     "collapsed": false,
     "input": [
      "cinefileheader_type.itemsize"
     ],
     "language": "python",
     "metadata": {},
     "outputs": [
      {
       "metadata": {},
       "output_type": "pyout",
       "prompt_number": 74,
       "text": [
        "44"
       ]
      }
     ],
     "prompt_number": 74
    },
    {
     "cell_type": "code",
     "collapsed": false,
     "input": [
      "cinefileheader = np.frombuffer(ftpcinefile.read(size = cinefileheader_type.itemsize), \n",
      "                               count = 1, \n",
      "                               dtype = cinefileheader_type)"
     ],
     "language": "python",
     "metadata": {},
     "outputs": [],
     "prompt_number": 75
    },
    {
     "cell_type": "code",
     "collapsed": false,
     "input": [
      "dict( zip(cinefileheader_type.names, cinefileheader.item() ) )"
     ],
     "language": "python",
     "metadata": {},
     "outputs": [
      {
       "metadata": {},
       "output_type": "pyout",
       "prompt_number": 78,
       "text": [
        "{'compression': 0,\n",
        " 'firstimageno': 0,\n",
        " 'firstmovieimage': 0,\n",
        " 'headersize': 44,\n",
        " 'imagecount': 4501L,\n",
        " 'offimageheader': 44L,\n",
        " 'offimageoffsets': 99472L,\n",
        " 'offsetup': 84L,\n",
        " 'totalimagecount': 4501L,\n",
        " 'triggertime': (4103261431L, 1386796546L),\n",
        " 'type': 18755,\n",
        " 'version': 1}"
       ]
      }
     ],
     "prompt_number": 78
    },
    {
     "cell_type": "code",
     "collapsed": false,
     "input": [
      "ftpcinefile.seek(0)"
     ],
     "language": "python",
     "metadata": {},
     "outputs": [],
     "prompt_number": 79
    },
    {
     "cell_type": "code",
     "collapsed": false,
     "input": [
      "help ftpcinefile.readv"
     ],
     "language": "python",
     "metadata": {},
     "outputs": [
      {
       "output_type": "stream",
       "stream": "stdout",
       "text": [
        "Help on method readv in module paramiko.sftp_file:\n",
        "\n",
        "readv(self, chunks) method of paramiko.SFTPFile instance\n",
        "    Read a set of blocks from the file by (offset, length).  This is more\n",
        "    efficient than doing a series of L{seek} and L{read} calls, since the\n",
        "    prefetch machinery is used to retrieve all the requested blocks at\n",
        "    once.\n",
        "    \n",
        "    @param chunks: a list of (offset, length) tuples indicating which\n",
        "        sections of the file to read\n",
        "    @type chunks: list(tuple(long, int))\n",
        "    @return: a list of blocks read, in the same order as in C{chunks}\n",
        "    @rtype: list(str)\n",
        "    \n",
        "    @since: 1.5.4\n",
        "\n"
       ]
      }
     ],
     "prompt_number": 81
    },
    {
     "cell_type": "code",
     "collapsed": false,
     "input": [],
     "language": "python",
     "metadata": {},
     "outputs": []
    }
   ],
   "metadata": {}
  }
 ]
}