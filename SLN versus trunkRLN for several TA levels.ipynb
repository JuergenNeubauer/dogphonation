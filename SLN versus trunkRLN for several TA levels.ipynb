{
 "metadata": {
  "name": ""
 },
 "nbformat": 3,
 "nbformat_minor": 0,
 "worksheets": [
  {
   "cells": [
    {
     "cell_type": "code",
     "collapsed": false,
     "input": [
      "import glob, os, subprocess, shlex\n",
      "import numpy as np"
     ],
     "language": "python",
     "metadata": {},
     "outputs": [],
     "prompt_number": 1
    },
    {
     "cell_type": "code",
     "collapsed": false,
     "input": [
      "%matplotlib inline\n",
      "\n",
      "import matplotlib as mpl\n",
      "# mpl.use('module://IPython.zmq.pylab.backend_inline')\n",
      "import matplotlib.pyplot as plt"
     ],
     "language": "python",
     "metadata": {},
     "outputs": [
      {
       "output_type": "stream",
       "stream": "stdout",
       "text": [
        "matplotlib data path /usr/lib64/python2.7/site-packages/matplotlib/mpl-data\n",
        "loaded rc file /home/neubauer/.config/matplotlib/matplotlibrc\n",
        "matplotlib version 1.3.1\n",
        "verbose.level helpful\n",
        "interactive is False\n",
        "platform is linux2\n",
        "$HOME=/home/neubauer\n",
        "CACHEDIR=/home/neubauer/.cache/matplotlib\n",
        "Using fontManager instance from /home/neubauer/.cache/matplotlib/fontList.cache\n",
        "backend module://IPython.kernel.zmq.pylab.backend_inline version unknown"
       ]
      },
      {
       "output_type": "stream",
       "stream": "stdout",
       "text": [
        "\n",
        "backend module://IPython.kernel.zmq.pylab.backend_inline version unknown\n"
       ]
      }
     ],
     "prompt_number": 2
    },
    {
     "cell_type": "code",
     "collapsed": false,
     "input": [
      "pwd"
     ],
     "language": "python",
     "metadata": {},
     "outputs": [
      {
       "metadata": {},
       "output_type": "pyout",
       "prompt_number": 3,
       "text": [
        "u'/extra/InVivoDog/Dinesh'"
       ]
      }
     ],
     "prompt_number": 3
    },
    {
     "cell_type": "code",
     "collapsed": false,
     "input": [
      "datadir = \"../python/cine/results_save/\""
     ],
     "language": "python",
     "metadata": {},
     "outputs": [],
     "prompt_number": 4
    },
    {
     "cell_type": "code",
     "collapsed": false,
     "input": [
      "TAconditions = [\"NoTA\", \"ThresholdTA_condition01\", 'TA_condition02', 'TA_condition03', 'MaxTA_condition04']"
     ],
     "language": "python",
     "metadata": {},
     "outputs": [],
     "prompt_number": 5
    },
    {
     "cell_type": "code",
     "collapsed": false,
     "input": [
      "landmarkfiles = {}\n",
      "TAnumbers = []\n",
      "\n",
      "for TAindex, TA in enumerate(TAconditions):\n",
      "    filenames = sorted(glob.glob(os.path.join(datadir, 'SLN_trunkRLN_' + TA + '*.png')))\n",
      "    \n",
      "    TAnumbers.append('TA %d' % TAindex)\n",
      "    \n",
      "    landmarkfiles[TAnumbers[TAindex]] = dict(TAcondition = TA, files = filenames)"
     ],
     "language": "python",
     "metadata": {},
     "outputs": [],
     "prompt_number": 6
    },
    {
     "cell_type": "code",
     "collapsed": false,
     "input": [
      "# the first condition for a given TA only used TA and no other nerve\n",
      "onlyTAstimulation_images = [landmarkfiles[TAindex]['files'][0] for TAindex in TAnumbers]"
     ],
     "language": "python",
     "metadata": {},
     "outputs": [],
     "prompt_number": 179
    },
    {
     "cell_type": "code",
     "collapsed": false,
     "input": [
      "r = subprocess.check_output(shlex.split(\"\"\"identify -format '%%w\\n%%h' \"%s\" \"\"\" % onlyTAstimulation_images[0]))\n",
      "\n",
      "im_width, imheight = [int(item) for item in r.splitlines()]"
     ],
     "language": "python",
     "metadata": {},
     "outputs": [],
     "prompt_number": 276
    },
    {
     "cell_type": "code",
     "collapsed": false,
     "input": [
      "# geometry for inline crop\n",
      "width = 600\n",
      "height = 940\n",
      "xoffset = 1500\n",
      "yoffset = 100"
     ],
     "language": "python",
     "metadata": {},
     "outputs": [],
     "prompt_number": 180
    },
    {
     "cell_type": "code",
     "collapsed": false,
     "input": [
      "# geometry for inline crop\n",
      "width = im_width / 4\n",
      "height = 880 # im_height\n",
      "\n",
      "xoffset = im_width * 5 / 8\n",
      "yoffset = 170\n",
      "\n",
      "croparea_inline = \"[%dx%d+%d+%d]\" % (width, height, xoffset, yoffset)"
     ],
     "language": "python",
     "metadata": {},
     "outputs": [],
     "prompt_number": 196
    },
    {
     "cell_type": "code",
     "collapsed": false,
     "input": [
      "image_names = [' \"%s\"%s ' % (imagename, croparea_inline) for imagename in onlyTAstimulation_images]"
     ],
     "language": "python",
     "metadata": {},
     "outputs": [],
     "prompt_number": 225
    },
    {
     "cell_type": "code",
     "collapsed": false,
     "input": [
      "annotate_opts = \" \".join([\"-gravity northwest\",\n",
      "                          \"-fill white\",\n",
      "                          \"-pointsize 100\"])"
     ],
     "language": "python",
     "metadata": {},
     "outputs": [],
     "prompt_number": 226
    },
    {
     "cell_type": "code",
     "collapsed": false,
     "input": [
      "image_cmd = \" \".join([\"( %s +repage -annotate +10+10 'TA %d' ) \" % (name, imnum) for imnum, name in enumerate(image_names)])"
     ],
     "language": "python",
     "metadata": {},
     "outputs": [],
     "prompt_number": 234
    },
    {
     "cell_type": "code",
     "collapsed": false,
     "input": [
      "brighten_cmd = \" \".join([\"-contrast\",\n",
      "                         # \"-contrast\",\n",
      "                         \"-equalize\"])\n",
      "\n",
      "border_cmd = \" \".join([\"-bordercolor white -border 5\"])\n",
      "\n",
      "convert_cmd = \" \".join([\"convert\", # \"-respect-parenthesis\",\n",
      "                        annotate_opts,\n",
      "                        image_cmd,\n",
      "                        brighten_cmd,\n",
      "                        border_cmd,\n",
      "                        \"+append png:TAatOnset.png\"])"
     ],
     "language": "python",
     "metadata": {},
     "outputs": [],
     "prompt_number": 243
    },
    {
     "cell_type": "code",
     "collapsed": false,
     "input": [
      "subprocess.check_call(shlex.split(convert_cmd), shell = False)"
     ],
     "language": "python",
     "metadata": {},
     "outputs": [
      {
       "output_type": "pyout",
       "prompt_number": 245,
       "text": [
        "0"
       ]
      }
     ],
     "prompt_number": 245
    },
    {
     "cell_type": "code",
     "collapsed": false,
     "input": [
      "cinenames = [os.path.basename(item).replace('.landmarks.png', '') for item in onlyTAstimulation_images]"
     ],
     "language": "python",
     "metadata": {},
     "outputs": [],
     "prompt_number": 279
    },
    {
     "cell_type": "code",
     "collapsed": false,
     "input": [
      "r = subprocess.check_output(shlex.split(\"locate '%s'\" % cinenames[0])).splitlines()\n",
      "r"
     ],
     "language": "python",
     "metadata": {},
     "outputs": [
      {
       "output_type": "pyout",
       "prompt_number": 283,
       "text": [
        "['/extra/InVivoDog/python/cine/results_save/SLN_trunkRLN_NoTA227_triggered_Wed Mar 21 2012 14 48 00.532 889.001.landmarks.png',\n",
        " '/extra/InVivoDog/python/cine/results_save/SLN_trunkRLN_NoTA227_triggered_Wed Mar 21 2012 14 48 00.532 889.001.strain_onset.npz']"
       ]
      }
     ],
     "prompt_number": 283
    },
    {
     "cell_type": "code",
     "collapsed": false,
     "input": [
      "straindata = np.load(r[1])"
     ],
     "language": "python",
     "metadata": {},
     "outputs": [],
     "prompt_number": 285
    },
    {
     "cell_type": "code",
     "collapsed": false,
     "input": [
      "for item in straindata.files:\n",
      "    print item, \": \", straindata[item]"
     ],
     "language": "python",
     "metadata": {},
     "outputs": [
      {
       "output_type": "stream",
       "stream": "stdout",
       "text": [
        "TAconditionindex :  0\n",
        "onset_pos :  [[ 243.4567705   110.51470651]\n",
        " [ 212.53496503  318.28753973]\n",
        " [ 302.58794236  320.99997881]]\n",
        "baseline_pos :  [[ 244.21625344  109.97221869]\n",
        " [ 212.75196016  318.28753973]\n",
        " [ 300.63498623  319.37251536]]\n",
        "stimlevelindex :  0\n",
        "onsetframenumber :  4380\n",
        "TAcondition :  NoTA\n"
       ]
      }
     ],
     "prompt_number": 290
    },
    {
     "cell_type": "code",
     "collapsed": false,
     "input": [
      "strainfiles = [item.replace('landmarks.png', 'strain_onset.npz') for item in onlyTAstimulation_images]"
     ],
     "language": "python",
     "metadata": {},
     "outputs": [],
     "prompt_number": 294
    },
    {
     "cell_type": "code",
     "collapsed": false,
     "input": [
      "[np.load(item)['onsetframenumber'].item() for item in strainfiles]"
     ],
     "language": "python",
     "metadata": {},
     "outputs": [
      {
       "output_type": "pyout",
       "prompt_number": 316,
       "text": [
        "[4380, 477, 816, 573, 609]"
       ]
      }
     ],
     "prompt_number": 316
    },
    {
     "cell_type": "code",
     "collapsed": false,
     "input": [
      "import paramiko"
     ],
     "language": "python",
     "metadata": {},
     "outputs": [],
     "prompt_number": 1
    },
    {
     "cell_type": "code",
     "collapsed": false,
     "input": [
      "ssh_client = paramiko.SSHClient()\n",
      "\n",
      "ssh_client.load_system_host_keys()\n",
      "\n",
      "ssh_client.set_missing_host_key_policy(paramiko.AutoAddPolicy())"
     ],
     "language": "python",
     "metadata": {},
     "outputs": [],
     "prompt_number": 2
    },
    {
     "cell_type": "code",
     "collapsed": false,
     "input": [
      "with open('/home/neubauer/.neurousername', 'r') as f:\n",
      "    username = f.read()\n",
      "\n",
      "if not username:\n",
      "    print \"no username\"\n",
      "    username = None\n",
      "else:\n",
      "    print 'username: ', username\n",
      "    \n",
      "with open('/home/neubauer/.neuropassword', 'r') as f:\n",
      "    password = f.read()\n",
      "    \n",
      "if not password:\n",
      "    print \"no password\"\n",
      "    print\n",
      "    \n",
      "    try:\n",
      "        password = raw_input(\"Enter password for users '%s': \" % username)\n",
      "    except:\n",
      "        print \"some problem occurred\"\n",
      "        print sys.exc_info()\n",
      "        password = None\n",
      "    else:\n",
      "        print \"got a password\"\n",
      "else:\n",
      "    print \"got a password\""
     ],
     "language": "python",
     "metadata": {},
     "outputs": [
      {
       "output_type": "stream",
       "stream": "stdout",
       "text": [
        "username:  neubauer\n",
        "\n",
        "got a password\n"
       ]
      }
     ],
     "prompt_number": 25
    },
    {
     "cell_type": "code",
     "collapsed": false,
     "input": [
      "neuromuscular = '10.47.85.12'\n",
      "ssh_client.connect(neuromuscular, username = username, password = password, compress = True)"
     ],
     "language": "python",
     "metadata": {},
     "outputs": [],
     "prompt_number": 6
    },
    {
     "cell_type": "code",
     "collapsed": false,
     "input": [
      "ftp = ssh_client.open_sftp()"
     ],
     "language": "python",
     "metadata": {},
     "outputs": [],
     "prompt_number": 9
    },
    {
     "cell_type": "code",
     "collapsed": false,
     "input": [
      "ftp.chdir(path = '.')\n",
      "ftp.getcwd()"
     ],
     "language": "python",
     "metadata": {},
     "outputs": [
      {
       "metadata": {},
       "output_type": "pyout",
       "prompt_number": 10,
       "text": [
        "'/home/neubauer'"
       ]
      }
     ],
     "prompt_number": 10
    },
    {
     "cell_type": "code",
     "collapsed": false,
     "input": [
      "# ftp.open(filename = , mode = 'r', bufsize = -1)"
     ],
     "language": "python",
     "metadata": {},
     "outputs": []
    },
    {
     "cell_type": "code",
     "collapsed": false,
     "input": [
      "cinenames"
     ],
     "language": "python",
     "metadata": {},
     "outputs": [
      {
       "output_type": "pyout",
       "prompt_number": 363,
       "text": [
        "['SLN_trunkRLN_NoTA227_triggered_Wed Mar 21 2012 14 48 00.532 889.001',\n",
        " 'SLN_trunkRLN_ThresholdTA_condition01291_triggered_Wed Mar 21 2012 14 56 34.809 428.001',\n",
        " 'SLN_trunkRLN_TA_condition02355_triggered_Wed Mar 21 2012 15 02 57.323 125.001',\n",
        " 'SLN_trunkRLN_TA_condition03419_triggered_Wed Mar 21 2012 15 10 47.001 421.001',\n",
        " 'SLN_trunkRLN_MaxTA_condition04483_triggered_Wed Mar 21 2012 15 19 10.019 651.001']"
       ]
      }
     ],
     "prompt_number": 363
    },
    {
     "cell_type": "code",
     "collapsed": false,
     "input": [
      "s = cinenames[-1]"
     ],
     "language": "python",
     "metadata": {},
     "outputs": [
      {
       "output_type": "pyout",
       "prompt_number": 393,
       "text": [
        "'SLN_trunkRLN_MaxTA_condition04483_triggered_Wed Mar 21 2012 15 19 10.019 651.001'"
       ]
      }
     ],
     "prompt_number": 393
    },
    {
     "cell_type": "code",
     "collapsed": false,
     "input": [
      "ssh_in, ssh_out, ssh_err = ssh_client.exec_command(\"locate '*SLN_trunkRLN_MaxTA_condition04*.cine'\")\n",
      "\n",
      "r = sorted([line for line in ssh_out.read().splitlines()])"
     ],
     "language": "python",
     "metadata": {},
     "outputs": [],
     "prompt_number": 7
    },
    {
     "cell_type": "code",
     "collapsed": false,
     "input": [
      "[item for item in r if os.path.basename(item).replace('.cine', '').find(\"Wed Mar 21 2012 15 19\") > 0]"
     ],
     "language": "python",
     "metadata": {},
     "outputs": [
      {
       "metadata": {},
       "output_type": "pyout",
       "prompt_number": 8,
       "text": [
        "['/mnt/storage/Dinesh_InVivoDog_Stimulation/Grant_2011/InVivoDog_2012_03_21/SLN_trunkRLN/MaxTA_condition04/videos/SLN_trunkRLN_MaxTA_condition04_483_triggered_Wed Mar 21 2012 15 19 10.019 651.001.cine',\n",
        " '/mnt/storage/Dinesh_InVivoDog_Stimulation/Grant_2011/InVivoDog_2012_03_21/SLN_trunkRLN/MaxTA_condition04/videos/SLN_trunkRLN_MaxTA_condition04_484_triggered_Wed Mar 21 2012 15 19 15.009 785.001.cine',\n",
        " '/mnt/storage/Dinesh_InVivoDog_Stimulation/Grant_2011/InVivoDog_2012_03_21/SLN_trunkRLN/MaxTA_condition04/videos/SLN_trunkRLN_MaxTA_condition04_485_triggered_Wed Mar 21 2012 15 19 19.999 919.001.cine',\n",
        " '/mnt/storage/Dinesh_InVivoDog_Stimulation/Grant_2011/InVivoDog_2012_03_21/SLN_trunkRLN/MaxTA_condition04/videos/SLN_trunkRLN_MaxTA_condition04_486_triggered_Wed Mar 21 2012 15 19 24.990 053.001.cine',\n",
        " '/mnt/storage/Dinesh_InVivoDog_Stimulation/Grant_2011/InVivoDog_2012_03_21/SLN_trunkRLN/MaxTA_condition04/videos/SLN_trunkRLN_MaxTA_condition04_487_triggered_Wed Mar 21 2012 15 19 29.980 187.001.cine',\n",
        " '/mnt/storage/Dinesh_InVivoDog_Stimulation/Grant_2011/InVivoDog_2012_03_21/SLN_trunkRLN/MaxTA_condition04/videos/SLN_trunkRLN_MaxTA_condition04_488_triggered_Wed Mar 21 2012 15 19 34.970 321.001.cine',\n",
        " '/mnt/storage/Dinesh_InVivoDog_Stimulation/Grant_2011/InVivoDog_2012_03_21/SLN_trunkRLN/MaxTA_condition04/videos/SLN_trunkRLN_MaxTA_condition04_489_triggered_Wed Mar 21 2012 15 19 39.960 455.001.cine',\n",
        " '/mnt/storage/Dinesh_InVivoDog_Stimulation/Grant_2011/InVivoDog_2012_03_21/SLN_trunkRLN/MaxTA_condition04/videos/SLN_trunkRLN_MaxTA_condition04_490_triggered_Wed Mar 21 2012 15 19 44.950 589.001.cine',\n",
        " '/mnt/storage/Dinesh_InVivoDog_Stimulation/Grant_2011/InVivoDog_2012_03_21/SLN_trunkRLN/MaxTA_condition04/videos/SLN_trunkRLN_MaxTA_condition04_491_triggered_Wed Mar 21 2012 15 19 49.940 723.001.cine',\n",
        " '/mnt/storage/Dinesh_InVivoDog_Stimulation/Grant_2011/InVivoDog_2012_03_21/SLN_trunkRLN/MaxTA_condition04/videos/SLN_trunkRLN_MaxTA_condition04_492_triggered_Wed Mar 21 2012 15 19 54.930 857.001.cine',\n",
        " '/mnt/storage/Dinesh_InVivoDog_Stimulation/Grant_2011/InVivoDog_2012_03_21/SLN_trunkRLN/MaxTA_condition04/videos/SLN_trunkRLN_MaxTA_condition04_493_triggered_Wed Mar 21 2012 15 19 59.920 991.001.cine',\n",
        " '/mnt/workspace/InVivoDog_2012_03_21/SLN_trunkRLN/MaxTA_condition04/videos/SLN_trunkRLN_MaxTA_condition04_483_triggered_Wed Mar 21 2012 15 19 10.019 651.001.cine',\n",
        " '/mnt/workspace/InVivoDog_2012_03_21/SLN_trunkRLN/MaxTA_condition04/videos/SLN_trunkRLN_MaxTA_condition04_484_triggered_Wed Mar 21 2012 15 19 15.009 785.001.cine',\n",
        " '/mnt/workspace/InVivoDog_2012_03_21/SLN_trunkRLN/MaxTA_condition04/videos/SLN_trunkRLN_MaxTA_condition04_485_triggered_Wed Mar 21 2012 15 19 19.999 919.001.cine',\n",
        " '/mnt/workspace/InVivoDog_2012_03_21/SLN_trunkRLN/MaxTA_condition04/videos/SLN_trunkRLN_MaxTA_condition04_486_triggered_Wed Mar 21 2012 15 19 24.990 053.001.cine',\n",
        " '/mnt/workspace/InVivoDog_2012_03_21/SLN_trunkRLN/MaxTA_condition04/videos/SLN_trunkRLN_MaxTA_condition04_487_triggered_Wed Mar 21 2012 15 19 29.980 187.001.cine',\n",
        " '/mnt/workspace/InVivoDog_2012_03_21/SLN_trunkRLN/MaxTA_condition04/videos/SLN_trunkRLN_MaxTA_condition04_488_triggered_Wed Mar 21 2012 15 19 34.970 321.001.cine',\n",
        " '/mnt/workspace/InVivoDog_2012_03_21/SLN_trunkRLN/MaxTA_condition04/videos/SLN_trunkRLN_MaxTA_condition04_489_triggered_Wed Mar 21 2012 15 19 39.960 455.001.cine',\n",
        " '/mnt/workspace/InVivoDog_2012_03_21/SLN_trunkRLN/MaxTA_condition04/videos/SLN_trunkRLN_MaxTA_condition04_490_triggered_Wed Mar 21 2012 15 19 44.950 589.001.cine',\n",
        " '/mnt/workspace/InVivoDog_2012_03_21/SLN_trunkRLN/MaxTA_condition04/videos/SLN_trunkRLN_MaxTA_condition04_491_triggered_Wed Mar 21 2012 15 19 49.940 723.001.cine',\n",
        " '/mnt/workspace/InVivoDog_2012_03_21/SLN_trunkRLN/MaxTA_condition04/videos/SLN_trunkRLN_MaxTA_condition04_492_triggered_Wed Mar 21 2012 15 19 54.930 857.001.cine',\n",
        " '/mnt/workspace/InVivoDog_2012_03_21/SLN_trunkRLN/MaxTA_condition04/videos/SLN_trunkRLN_MaxTA_condition04_493_triggered_Wed Mar 21 2012 15 19 59.920 991.001.cine']"
       ]
      }
     ],
     "prompt_number": 8
    },
    {
     "cell_type": "code",
     "collapsed": false,
     "input": [
      "import re"
     ],
     "language": "python",
     "metadata": {},
     "outputs": [],
     "prompt_number": 402
    },
    {
     "cell_type": "code",
     "collapsed": false,
     "input": [
      "help re"
     ],
     "language": "python",
     "metadata": {},
     "outputs": [
      {
       "output_type": "stream",
       "stream": "stdout",
       "text": [
        "Help on module re:\n",
        "\n",
        "NAME\n",
        "    re - Support for regular expressions (RE).\n",
        "\n",
        "FILE\n",
        "    /usr/lib64/python2.7/re.py\n",
        "\n",
        "MODULE DOCS\n",
        "    http://docs.python.org/library/re\n",
        "\n",
        "DESCRIPTION\n",
        "    This module provides regular expression matching operations similar to\n",
        "    those found in Perl.  It supports both 8-bit and Unicode strings; both\n",
        "    the pattern and the strings being processed can contain null bytes and\n",
        "    characters outside the US ASCII range.\n",
        "    \n",
        "    Regular expressions can contain both special and ordinary characters.\n",
        "    Most ordinary characters, like \"A\", \"a\", or \"0\", are the simplest\n",
        "    regular expressions; they simply match themselves.  You can\n",
        "    concatenate ordinary characters, so last matches the string 'last'.\n",
        "    \n",
        "    The special characters are:\n",
        "        \".\"      Matches any character except a newline.\n",
        "        \"^\"      Matches the start of the string.\n",
        "        \"$\"      Matches the end of the string or just before the newline at\n",
        "                 the end of the string.\n",
        "        \"*\"      Matches 0 or more (greedy) repetitions of the preceding RE.\n",
        "                 Greedy means that it will match as many repetitions as possible.\n",
        "        \"+\"      Matches 1 or more (greedy) repetitions of the preceding RE.\n",
        "        \"?\"      Matches 0 or 1 (greedy) of the preceding RE.\n",
        "        *?,+?,?? Non-greedy versions of the previous three special characters.\n",
        "        {m,n}    Matches from m to n repetitions of the preceding RE.\n",
        "        {m,n}?   Non-greedy version of the above.\n",
        "        \"\\\\\"     Either escapes special characters or signals a special sequence.\n",
        "        []       Indicates a set of characters.\n",
        "                 A \"^\" as the first character indicates a complementing set.\n",
        "        \"|\"      A|B, creates an RE that will match either A or B.\n",
        "        (...)    Matches the RE inside the parentheses.\n",
        "                 The contents can be retrieved or matched later in the string.\n",
        "        (?iLmsux) Set the I, L, M, S, U, or X flag for the RE (see below).\n",
        "        (?:...)  Non-grouping version of regular parentheses.\n",
        "        (?P<name>...) The substring matched by the group is accessible by name.\n",
        "        (?P=name)     Matches the text matched earlier by the group named name.\n",
        "        (?#...)  A comment; ignored.\n",
        "        (?=...)  Matches if ... matches next, but doesn't consume the string.\n",
        "        (?!...)  Matches if ... doesn't match next.\n",
        "        (?<=...) Matches if preceded by ... (must be fixed length).\n",
        "        (?<!...) Matches if not preceded by ... (must be fixed length).\n",
        "        (?(id/name)yes|no) Matches yes pattern if the group with id/name matched,\n",
        "                           the (optional) no pattern otherwise.\n",
        "    \n",
        "    The special sequences consist of \"\\\\\" and a character from the list\n",
        "    below.  If the ordinary character is not on the list, then the\n",
        "    resulting RE will match the second character.\n",
        "        \\number  Matches the contents of the group of the same number.\n",
        "        \\A       Matches only at the start of the string.\n",
        "        \\Z       Matches only at the end of the string.\n",
        "        \\b       Matches the empty string, but only at the start or end of a word.\n",
        "        \\B       Matches the empty string, but not at the start or end of a word.\n",
        "        \\d       Matches any decimal digit; equivalent to the set [0-9].\n",
        "        \\D       Matches any non-digit character; equivalent to the set [^0-9].\n",
        "        \\s       Matches any whitespace character; equivalent to [ \\t\\n\\r\\f\\v].\n",
        "        \\S       Matches any non-whitespace character; equiv. to [^ \\t\\n\\r\\f\\v].\n",
        "        \\w       Matches any alphanumeric character; equivalent to [a-zA-Z0-9_].\n",
        "                 With LOCALE, it will match the set [0-9_] plus characters defined\n",
        "                 as letters for the current locale.\n",
        "        \\W       Matches the complement of \\w.\n",
        "        \\\\       Matches a literal backslash.\n",
        "    \n",
        "    This module exports the following functions:\n",
        "        match    Match a regular expression pattern to the beginning of a string.\n",
        "        search   Search a string for the presence of a pattern.\n",
        "        sub      Substitute occurrences of a pattern found in a string.\n",
        "        subn     Same as sub, but also return the number of substitutions made.\n",
        "        split    Split a string by the occurrences of a pattern.\n",
        "        findall  Find all occurrences of a pattern in a string.\n",
        "        finditer Return an iterator yielding a match object for each match.\n",
        "        compile  Compile a pattern into a RegexObject.\n",
        "        purge    Clear the regular expression cache.\n",
        "        escape   Backslash all non-alphanumerics in a string.\n",
        "    \n",
        "    Some of the functions in this module takes flags as optional parameters:\n",
        "        I  IGNORECASE  Perform case-insensitive matching.\n",
        "        L  LOCALE      Make \\w, \\W, \\b, \\B, dependent on the current locale.\n",
        "        M  MULTILINE   \"^\" matches the beginning of lines (after a newline)\n",
        "                       as well as the string.\n",
        "                       \"$\" matches the end of lines (before a newline) as well\n",
        "                       as the end of the string.\n",
        "        S  DOTALL      \".\" matches any character at all, including the newline.\n",
        "        X  VERBOSE     Ignore whitespace and comments for nicer looking RE's.\n",
        "        U  UNICODE     Make \\w, \\W, \\b, \\B, dependent on the Unicode locale.\n",
        "    \n",
        "    This module also defines an exception 'error'.\n",
        "\n",
        "CLASSES\n",
        "    exceptions.Exception(exceptions.BaseException)\n",
        "        sre_constants.error\n",
        "    \n",
        "    class error(exceptions.Exception)\n",
        "     |  Method resolution order:\n",
        "     |      error\n",
        "     |      exceptions.Exception\n",
        "     |      exceptions.BaseException\n",
        "     |      __builtin__.object\n",
        "     |  \n",
        "     |  Data descriptors defined here:\n",
        "     |  \n",
        "     |  __weakref__\n",
        "     |      list of weak references to the object (if defined)\n",
        "     |  \n",
        "     |  ----------------------------------------------------------------------\n",
        "     |  Methods inherited from exceptions.Exception:\n",
        "     |  \n",
        "     |  __init__(...)\n",
        "     |      x.__init__(...) initializes x; see help(type(x)) for signature\n",
        "     |  \n",
        "     |  ----------------------------------------------------------------------\n",
        "     |  Data and other attributes inherited from exceptions.Exception:\n",
        "     |  \n",
        "     |  __new__ = <built-in method __new__ of type object>\n",
        "     |      T.__new__(S, ...) -> a new object with type S, a subtype of T\n",
        "     |  \n",
        "     |  ----------------------------------------------------------------------\n",
        "     |  Methods inherited from exceptions.BaseException:\n",
        "     |  \n",
        "     |  __delattr__(...)\n",
        "     |      x.__delattr__('name') <==> del x.name\n",
        "     |  \n",
        "     |  __getattribute__(...)\n",
        "     |      x.__getattribute__('name') <==> x.name\n",
        "     |  \n",
        "     |  __getitem__(...)\n",
        "     |      x.__getitem__(y) <==> x[y]\n",
        "     |  \n",
        "     |  __getslice__(...)\n",
        "     |      x.__getslice__(i, j) <==> x[i:j]\n",
        "     |      \n",
        "     |      Use of negative indices is not supported.\n",
        "     |  \n",
        "     |  __reduce__(...)\n",
        "     |  \n",
        "     |  __repr__(...)\n",
        "     |      x.__repr__() <==> repr(x)\n",
        "     |  \n",
        "     |  __setattr__(...)\n",
        "     |      x.__setattr__('name', value) <==> x.name = value\n",
        "     |  \n",
        "     |  __setstate__(...)\n",
        "     |  \n",
        "     |  __str__(...)\n",
        "     |      x.__str__() <==> str(x)\n",
        "     |  \n",
        "     |  __unicode__(...)\n",
        "     |  \n",
        "     |  ----------------------------------------------------------------------\n",
        "     |  Data descriptors inherited from exceptions.BaseException:\n",
        "     |  \n",
        "     |  __dict__\n",
        "     |  \n",
        "     |  args\n",
        "     |  \n",
        "     |  message\n",
        "\n",
        "FUNCTIONS\n",
        "    compile(pattern, flags=0)\n",
        "        Compile a regular expression pattern, returning a pattern object.\n",
        "    \n",
        "    escape(pattern)\n",
        "        Escape all non-alphanumeric characters in pattern.\n",
        "    \n",
        "    findall(pattern, string, flags=0)\n",
        "        Return a list of all non-overlapping matches in the string.\n",
        "        \n",
        "        If one or more groups are present in the pattern, return a\n",
        "        list of groups; this will be a list of tuples if the pattern\n",
        "        has more than one group.\n",
        "        \n",
        "        Empty matches are included in the result.\n",
        "    \n",
        "    finditer(pattern, string, flags=0)\n",
        "        Return an iterator over all non-overlapping matches in the\n",
        "        string.  For each match, the iterator returns a match object.\n",
        "        \n",
        "        Empty matches are included in the result.\n",
        "    \n",
        "    match(pattern, string, flags=0)\n",
        "        Try to apply the pattern at the start of the string, returning\n",
        "        a match object, or None if no match was found.\n",
        "    \n",
        "    purge()\n",
        "        Clear the regular expression cache\n",
        "    \n",
        "    search(pattern, string, flags=0)\n",
        "        Scan through string looking for a match to the pattern, returning\n",
        "        a match object, or None if no match was found.\n",
        "    \n",
        "    split(pattern, string, maxsplit=0, flags=0)\n",
        "        Split the source string by the occurrences of the pattern,\n",
        "        returning a list containing the resulting substrings.\n",
        "    \n",
        "    sub(pattern, repl, string, count=0, flags=0)\n",
        "        Return the string obtained by replacing the leftmost\n",
        "        non-overlapping occurrences of the pattern in string by the\n",
        "        replacement repl.  repl can be either a string or a callable;\n",
        "        if a string, backslash escapes in it are processed.  If it is\n",
        "        a callable, it's passed the match object and must return\n",
        "        a replacement string to be used.\n",
        "    \n",
        "    subn(pattern, repl, string, count=0, flags=0)\n",
        "        Return a 2-tuple containing (new_string, number).\n",
        "        new_string is the string obtained by replacing the leftmost\n",
        "        non-overlapping occurrences of the pattern in the source\n",
        "        string by the replacement repl.  number is the number of\n",
        "        substitutions that were made. repl can be either a string or a\n",
        "        callable; if a string, backslash escapes in it are processed.\n",
        "        If it is a callable, it's passed the match object and must\n",
        "        return a replacement string to be used.\n",
        "    \n",
        "    template(pattern, flags=0)\n",
        "        Compile a template pattern, returning a pattern object\n",
        "\n",
        "DATA\n",
        "    DOTALL = 16\n",
        "    I = 2\n",
        "    IGNORECASE = 2\n",
        "    L = 4\n",
        "    LOCALE = 4\n",
        "    M = 8\n",
        "    MULTILINE = 8\n",
        "    S = 16\n",
        "    U = 32\n",
        "    UNICODE = 32\n",
        "    VERBOSE = 64\n",
        "    X = 64\n",
        "    __all__ = ['match', 'search', 'sub', 'subn', 'split', 'findall', 'comp...\n",
        "    __version__ = '2.2.1'\n",
        "\n",
        "VERSION\n",
        "    2.2.1\n",
        "\n",
        "\n"
       ]
      }
     ],
     "prompt_number": 403
    },
    {
     "cell_type": "code",
     "collapsed": false,
     "input": [
      "print ssh_err.readlines()"
     ],
     "language": "python",
     "metadata": {},
     "outputs": [
      {
       "output_type": "stream",
       "stream": "stdout",
       "text": [
        "['/home/neubauer/.bashrc: line 73: unalias: lt: not found\\n']\n"
       ]
      }
     ],
     "prompt_number": 394
    },
    {
     "cell_type": "code",
     "collapsed": false,
     "input": [
      "line"
     ],
     "language": "python",
     "metadata": {},
     "outputs": [
      {
       "metadata": {},
       "output_type": "pyout",
       "prompt_number": 11,
       "text": [
        "'/mnt/workspace/InVivoDog_2012_03_21/SLN_trunkRLN_repetition/MaxTA_condition04/SLN_trunkRLN_MaxTA_condition04_999_triggered_Wed Mar 21 2012 17 04 35.515 361.001.cine'"
       ]
      }
     ],
     "prompt_number": 11
    },
    {
     "cell_type": "code",
     "collapsed": false,
     "input": [
      "ftp.get(remotepath = line, localpath = os.path.basename(line))"
     ],
     "language": "python",
     "metadata": {},
     "outputs": [],
     "prompt_number": 386
    },
    {
     "cell_type": "code",
     "collapsed": false,
     "input": [
      "ftp.close()"
     ],
     "language": "python",
     "metadata": {},
     "outputs": []
    },
    {
     "cell_type": "code",
     "collapsed": false,
     "input": [
      "ssh_client.close()"
     ],
     "language": "python",
     "metadata": {},
     "outputs": [],
     "prompt_number": 355
    },
    {
     "cell_type": "code",
     "collapsed": false,
     "input": [],
     "language": "python",
     "metadata": {},
     "outputs": []
    }
   ],
   "metadata": {}
  }
 ]
}