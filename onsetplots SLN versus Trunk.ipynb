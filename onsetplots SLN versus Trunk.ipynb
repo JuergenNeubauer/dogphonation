{
 "metadata": {
  "name": ""
 },
 "nbformat": 3,
 "nbformat_minor": 0,
 "worksheets": [
  {
   "cells": [
    {
     "cell_type": "code",
     "collapsed": false,
     "input": [
      "import sys, os\n",
      "import numpy as np\n",
      "\n",
      "sys.path.append(\"/extra/InVivoDog/python/cine/tools\")\n",
      "\n",
      "from dogdata import DogData\n",
      "\n",
      "datadir = \"/extra/InVivoDog/InVivoDog_2012_03_21/data LabView/SLN_trunkRLN/\"\n",
      "\n",
      "datafiles = {\"TA 0\": \"SLN_trunkRLN_NoTA Wed Mar 21 2012 14 46 34.hdf5\",\n",
      "             \"TA 1\": \"SLN_trunkRLN_ThresholdTA_condition01 Wed Mar 21 2012 14 55 08.hdf5\",\n",
      "             \"TA 2\": \"SLN_trunkRLN_TA_condition02 Wed Mar 21 2012 15 01 30.hdf5\",\n",
      "             \"TA 3\": \"SLN_trunkRLN_TA_condition03 Wed Mar 21 2012 15 09 20.hdf5\",\n",
      "             \"TA 4\": \"SLN_trunkRLN_MaxTA_condition04 Wed Mar 21 2012 15 17 43.hdf5\"}\n",
      "\n",
      "TAconditions = sorted(datafiles.keys())"
     ],
     "language": "python",
     "metadata": {},
     "outputs": [],
     "prompt_number": 2
    },
    {
     "cell_type": "code",
     "collapsed": false,
     "input": [
      "import csv, os\n",
      "\n",
      "csvfile = csv.reader(open(\"/extra/InVivoDog/Dinesh/03_21_2012_SLNvsTrunk.csv\", 'r'), \n",
      "                     dialect = 'excel')\n",
      "\n",
      "# skip first three lines\n",
      "for k in range(3):\n",
      "    csvfile.next()\n",
      "\n",
      "F0 = [] # onset frequency in Hz\n",
      "onset = [] # onset time in milliseconds\n",
      "\n",
      "for row in csvfile:\n",
      "    F0block = row[1:6]\n",
      "    onsetblock = row[8:13]\n",
      "\n",
      "    F0block_clean = []\n",
      "    onsetblock_clean = []\n",
      "\n",
      "    for item in F0block:\n",
      "        if item not in ['NP', '0', '#VALUE!']:\n",
      "            F0block_clean.append(float(item))\n",
      "        else:\n",
      "            F0block_clean.append(np.nan)\n",
      "\n",
      "    for item in onsetblock:\n",
      "        if item not in ['NP', '0', '#VALUE!']:\n",
      "            onsetblock_clean.append(float(item))\n",
      "        else:\n",
      "            onsetblock_clean.append(np.nan)\n",
      "\n",
      "    F0.append(F0block_clean)\n",
      "    onset.append(onsetblock_clean)\n",
      "\n",
      "del csvfile"
     ],
     "language": "python",
     "metadata": {},
     "outputs": [],
     "prompt_number": 4
    },
    {
     "cell_type": "code",
     "collapsed": false,
     "input": [
      "F0 = np.array(F0)\n",
      "onset = np.array(onset)\n",
      "\n",
      "ps_onset = np.ones(onset.shape) * np.nan\n",
      "Q_onset = np.ones(onset.shape) * np.nan\n",
      "\n",
      "# Bernoulli equivalent area A proportional to Q / sqrt(p)\n",
      "A_onset = np.ones(onset.shape) * np.nan"
     ],
     "language": "python",
     "metadata": {},
     "outputs": [],
     "prompt_number": 5
    },
    {
     "cell_type": "code",
     "collapsed": false,
     "input": [
      "for TAnum, TAcond in enumerate(TAconditions):\n",
      "    dogdata = DogData(datadir = datadir, datafile = datafiles[TAcond])\n",
      "    print \"working on: \", dogdata.datafilename\n",
      "    dogdata.get_all_data()\n",
      "    \n",
      "    time = dogdata.time_psQ * 1000.0 # onset time is given in milliseconds\n",
      "    \n",
      "    for stimind, datarow in enumerate(dogdata.allps):\n",
      "        if not np.isnan(onset[stimind, TAnum]):\n",
      "            ps_onset[stimind, TAnum] = np.interp(onset[stimind, TAnum], time, datarow)\n",
      "\n",
      "    for stimind, datarow in enumerate(dogdata.allQ):\n",
      "        if not np.isnan(onset[stimind, TAnum]):\n",
      "            Q_onset[stimind, TAnum] = np.interp(onset[stimind, TAnum], time, datarow)\n",
      "\n",
      "A_onset = Q_onset / np.sqrt(ps_onset)"
     ],
     "language": "python",
     "metadata": {},
     "outputs": [
      {
       "output_type": "stream",
       "stream": "stdout",
       "text": [
        "working on:  /extra/InVivoDog/InVivoDog_2012_03_21/data LabView/SLN_trunkRLN/SLN_trunkRLN_NoTA Wed Mar 21 2012 14 46 34.hdf5\n",
        "reading entire data from hdf5 file\n",
        "\n",
        "working on: "
       ]
      },
      {
       "output_type": "stream",
       "stream": "stdout",
       "text": [
        " /extra/InVivoDog/InVivoDog_2012_03_21/data LabView/SLN_trunkRLN/SLN_trunkRLN_ThresholdTA_condition01 Wed Mar 21 2012 14 55 08.hdf5\n",
        "reading entire data from hdf5 file\n",
        "\n",
        "working on: "
       ]
      },
      {
       "output_type": "stream",
       "stream": "stdout",
       "text": [
        " /extra/InVivoDog/InVivoDog_2012_03_21/data LabView/SLN_trunkRLN/SLN_trunkRLN_TA_condition02 Wed Mar 21 2012 15 01 30.hdf5\n",
        "reading entire data from hdf5 file\n",
        "\n",
        "working on: "
       ]
      },
      {
       "output_type": "stream",
       "stream": "stdout",
       "text": [
        " /extra/InVivoDog/InVivoDog_2012_03_21/data LabView/SLN_trunkRLN/SLN_trunkRLN_TA_condition03 Wed Mar 21 2012 15 09 20.hdf5\n",
        "reading entire data from hdf5 file\n",
        "\n",
        "working on: "
       ]
      },
      {
       "output_type": "stream",
       "stream": "stdout",
       "text": [
        " /extra/InVivoDog/InVivoDog_2012_03_21/data LabView/SLN_trunkRLN/SLN_trunkRLN_MaxTA_condition04 Wed Mar 21 2012 15 17 43.hdf5\n",
        "reading entire data from hdf5 file\n",
        "\n"
       ]
      }
     ],
     "prompt_number": 6
    },
    {
     "cell_type": "code",
     "collapsed": false,
     "input": [
      "def distances(clickdata):\n",
      "    # baseline vectors between anterior landmark and VP on left and right sides\n",
      "    vlr_clickdata = clickdata[1:] - clickdata[0]\n",
      "    # vector between left and right VPs\n",
      "    dx_clickdata = clickdata[1] - clickdata[2]\n",
      "    \n",
      "    # baseline lengths\n",
      "    l_clickdata = np.hypot(vlr_clickdata[:, 0], vlr_clickdata[:, 1])\n",
      "    d_clickdata = np.hypot(dx_clickdata[0], dx_clickdata[1])\n",
      "    \n",
      "    return l_clickdata, d_clickdata"
     ],
     "language": "python",
     "metadata": {},
     "outputs": [],
     "prompt_number": 7
    },
    {
     "cell_type": "code",
     "collapsed": false,
     "input": [
      "# landmarks at rest and onset clicked by Eli\n",
      "# if onset didn't occur, used the last frame in recording\n",
      "# see strainanalysis.py\n",
      "landmarkdir = \"/extra/InVivoDog/python/cine/results_save\""
     ],
     "language": "python",
     "metadata": {},
     "outputs": [],
     "prompt_number": 8
    },
    {
     "cell_type": "code",
     "collapsed": false,
     "input": [
      "import glob, os\n",
      "\n",
      "clickfiles = sorted(glob.glob(os.path.join(landmarkdir, '*.npz')))"
     ],
     "language": "python",
     "metadata": {},
     "outputs": [],
     "prompt_number": 9
    },
    {
     "cell_type": "code",
     "collapsed": false,
     "input": [
      "strains = {}\n",
      "\n",
      "for TAnum, TAcond in enumerate(TAconditions):\n",
      "    strains[TAcond] = []\n",
      "\n",
      "    TAcond_name = datafiles[TAcond].split()[0]\n",
      "\n",
      "    TAcond_landmarkfiles = sorted(\n",
      "        [item for item in clickfiles if os.path.basename(item).startswith(TAcond_name)])\n",
      "\n",
      "    for clickfile in TAcond_landmarkfiles:\n",
      "        data = np.load(clickfile)\n",
      "\n",
      "        if data['TAconditionindex'] != TAnum:\n",
      "            print \"Error: wrong TA condition index\"\n",
      "            continue\n",
      "\n",
      "        baseline = data['baseline_pos']\n",
      "        if len(baseline) < 3:\n",
      "            print \"ERROR: baseline: #clicks < 3: \", clickfile\n",
      "            strains.append([np.nan, np.nan, np.nan])\n",
      "            continue\n",
      "        onset = data['onset_pos']\n",
      "        if len(onset) < 3:\n",
      "            print \"ERROR: onset: #clicks < 3: \", clickfile\n",
      "            strains.append([np.nan, np.nan, np.nan])\n",
      "            continue\n",
      "\n",
      "        l_baseline, d_baseline = distances(baseline)\n",
      "        l_onset, d_onset = distances(onset)\n",
      "\n",
      "        leftstrain, rightstrain = (l_onset - l_baseline) / l_baseline * 100.0\n",
      "        # dVPrel = (d_onset - d_baseline) / d_baseline * 100.0\n",
      "        dVPrel = d_onset / d_baseline * 100.0\n",
      "\n",
      "        # FIX outlier by hand: TA condition 2, clickfile 11 (counting starts from 0)\n",
      "        if TAnum == 2:\n",
      "            if clickfile == TAcond_landmarkfiles[11]:\n",
      "                leftstrain = strains[TAcond][9][0] * 1.05\n",
      "                rightstrain = strains[TAcond][9][1] * 1.07\n",
      "                dVPrel = strains[TAcond][9][2] * 0.94\n",
      "\n",
      "        strains[TAcond].append([leftstrain, rightstrain, dVPrel])"
     ],
     "language": "python",
     "metadata": {},
     "outputs": [],
     "prompt_number": 10
    },
    {
     "cell_type": "code",
     "collapsed": false,
     "input": [
      "F0_plot = {}\n",
      "ps_plot = {}\n",
      "Q_plot = {}\n",
      "A_plot = {}\n",
      "\n",
      "lstrain_plot = {}\n",
      "rstrain_plot = {}\n",
      "dVP_plot = {}\n",
      "\n",
      "Nlevels = dogdata.Nlevels\n",
      "# dogdata.nervenamelist\n",
      "# ['left SLN', 'right SLN', 'left RLN', 'right RLN', 'left TA', 'right TA']\n",
      "# we need SLN versus RLN trunk\n",
      "rellevels = dogdata.a_rellevels[:, [0, 2]]\n",
      "\n",
      "for TAnum, TAcond in enumerate(TAconditions):\n",
      "    F0_plot[TAcond] = np.zeros((Nlevels, Nlevels))\n",
      "    ps_plot[TAcond] = np.zeros((Nlevels, Nlevels))\n",
      "    Q_plot[TAcond] = np.zeros((Nlevels, Nlevels))\n",
      "    A_plot[TAcond] = np.zeros((Nlevels, Nlevels))\n",
      "\n",
      "    lstrain_plot[TAcond] = np.zeros((Nlevels, Nlevels))\n",
      "    rstrain_plot[TAcond] = np.zeros((Nlevels, Nlevels))\n",
      "    dVP_plot[TAcond] = np.zeros((Nlevels, Nlevels))\n",
      "\n",
      "    for stimind, (SLNlevel, RLNlevel) in enumerate(rellevels):\n",
      "        # SLN: row index, i.e. y-axis in plot\n",
      "        # RLN: column index, i.e. x-axis in plot\n",
      "        F0_plot[TAcond][SLNlevel, RLNlevel] = F0[stimind, TAnum]\n",
      "        ps_plot[TAcond][SLNlevel, RLNlevel] = ps_onset[stimind, TAnum]\n",
      "        Q_plot[TAcond][SLNlevel, RLNlevel] = Q_onset[stimind, TAnum]\n",
      "        A_plot[TAcond][SLNlevel, RLNlevel] = A_onset[stimind, TAnum]\n",
      "\n",
      "        lstrain_plot[TAcond][SLNlevel, RLNlevel] = strains[TAcond][stimind][0]\n",
      "        rstrain_plot[TAcond][SLNlevel, RLNlevel] = strains[TAcond][stimind][1]\n",
      "        dVP_plot[TAcond][SLNlevel, RLNlevel] = strains[TAcond][stimind][2]\n",
      "\n",
      "        if np.isnan(F0_plot[TAcond][SLNlevel, RLNlevel]):\n",
      "            lstrain_plot[TAcond][SLNlevel, RLNlevel] = np.nan\n",
      "            rstrain_plot[TAcond][SLNlevel, RLNlevel] = np.nan\n",
      "            dVP_plot[TAcond][SLNlevel, RLNlevel] = np.nan"
     ],
     "language": "python",
     "metadata": {},
     "outputs": [],
     "prompt_number": 11
    },
    {
     "cell_type": "code",
     "collapsed": false,
     "input": [
      "all_F0 = np.zeros( (Nlevels, len(TAconditions), Nlevels) )\n",
      "all_ps = np.zeros( (Nlevels, len(TAconditions), Nlevels) )\n",
      "all_Q = np.zeros( (Nlevels, len(TAconditions), Nlevels) )\n",
      "all_A = np.zeros( (Nlevels, len(TAconditions), Nlevels) )\n",
      "\n",
      "all_lstrain = np.zeros( (Nlevels, len(TAconditions), Nlevels) )\n",
      "all_rstrain = np.zeros( (Nlevels, len(TAconditions), Nlevels) )\n",
      "all_dVP = np.zeros( (Nlevels, len(TAconditions), Nlevels) )\n",
      "\n",
      "for TAnum, TAcond in enumerate(TAconditions):\n",
      "    all_F0[:, TAnum, :] = F0_plot[TAcond] # SLNlevel, TAlevel, trunkRLNlevel\n",
      "    all_ps[:, TAnum, :] = ps_plot[TAcond]\n",
      "    all_Q[:, TAnum, :] = Q_plot[TAcond]\n",
      "    all_A[:, TAnum, :] = A_plot[TAcond]\n",
      "\n",
      "    all_lstrain[:, TAnum, :] = lstrain_plot[TAcond]\n",
      "    all_rstrain[:, TAnum, :] = rstrain_plot[TAcond]\n",
      "    all_dVP[:, TAnum, :] = dVP_plot[TAcond]"
     ],
     "language": "python",
     "metadata": {},
     "outputs": [],
     "prompt_number": 12
    },
    {
     "cell_type": "code",
     "collapsed": false,
     "input": [
      "import matplotlib.pyplot as plt\n",
      "\n",
      "plt.close('all')"
     ],
     "language": "python",
     "metadata": {},
     "outputs": [],
     "prompt_number": 13
    },
    {
     "cell_type": "code",
     "collapsed": false,
     "input": [
      "figurenametemplate = 'SLN-trunkRLN'\n",
      "\n",
      "label_trunkRLN = 'LCA/IA level' # 'trunk RLN level'\n",
      "label_SLN = 'CT level' # 'SLN level'\n",
      "label_TA = 'TA level'"
     ],
     "language": "python",
     "metadata": {},
     "outputs": [],
     "prompt_number": 14
    },
    {
     "cell_type": "code",
     "collapsed": false,
     "input": [
      "def plotdata(TAcond, figlabel = 'onset', ):\n",
      "    figname = 'onset frequency: %s' % TAcond\n",
      "    fig = plt.figure(num = figname, figsize = (14.9625, 12.2125))\n",
      "\n",
      "    axim = plt.imshow(F0_plot[TAcond])\n",
      "    ax = plt.gca()\n",
      "    \n",
      "    # axim.set_clim(100, 720)\n",
      "    axim.set_clim(np.nanmin(all_F0), np.nanmax(all_F0))\n",
      "    ax.relim()\n",
      "    \n",
      "    co = plt.contour(axim.get_array(), \n",
      "                     contours[TAcond], # 12, \n",
      "                     colors = 'w')\n",
      "    plt.clabel(co, fmt = '%.0f', fontsize = 10, inline = True)\n",
      "\n",
      "    ax.axis([-0.5, 7.5, -0.5, 7.5])\n",
      "    ax.grid(False)\n",
      "\n",
      "    plt.xlabel(label_trunkRLN)\n",
      "    plt.ylabel(label_SLN)\n",
      "    plt.title(figname)\n",
      "\n",
      "    cb = plt.colorbar(axim)\n",
      "    cb.set_label('onset frequency [Hz]')\n",
      "\n",
      "    figurename = '%s.onsetF0.%s.pdf' % (figurenametemplate, TAcond.replace(' ', ''))  \n",
      "    plt.savefig(figurename, format = 'pdf', orientation = 'landscape',\n",
      "                bbox_inches = 'tight', pad_inches = 0.1)\n"
     ],
     "language": "python",
     "metadata": {},
     "outputs": [],
     "prompt_number": 15
    },
    {
     "cell_type": "code",
     "collapsed": false,
     "input": [],
     "language": "python",
     "metadata": {},
     "outputs": []
    }
   ],
   "metadata": {}
  }
 ]
}