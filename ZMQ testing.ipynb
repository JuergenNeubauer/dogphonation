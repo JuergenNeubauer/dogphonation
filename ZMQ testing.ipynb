{
 "metadata": {
  "name": ""
 },
 "nbformat": 3,
 "nbformat_minor": 0,
 "worksheets": [
  {
   "cells": [
    {
     "cell_type": "code",
     "collapsed": false,
     "input": [
      "import zmq\n",
      "import numpy as np"
     ],
     "language": "python",
     "metadata": {},
     "outputs": [],
     "prompt_number": 194
    },
    {
     "cell_type": "code",
     "collapsed": false,
     "input": [
      "from multiprocessing import Process"
     ],
     "language": "python",
     "metadata": {},
     "outputs": [],
     "prompt_number": 195
    },
    {
     "cell_type": "code",
     "collapsed": false,
     "input": [
      "context = zmq.Context()"
     ],
     "language": "python",
     "metadata": {},
     "outputs": [],
     "prompt_number": 196
    },
    {
     "cell_type": "code",
     "collapsed": false,
     "input": [
      "dealer = context.socket(zmq.DEALER)\n",
      "dealer1 = context.socket(zmq.DEALER)\n",
      "\n",
      "router = context.socket(zmq.ROUTER)"
     ],
     "language": "python",
     "metadata": {},
     "outputs": [],
     "prompt_number": 197
    },
    {
     "cell_type": "code",
     "collapsed": false,
     "input": [
      "dealer.IDENTITY = 'dealer' # worker for dogdata\n",
      "dealer1.IDENTITY = 'dealer1' # worker for cine\n",
      "\n",
      "router.IDENTITY = 'router' # client application code \n",
      "router.ROUTER_MANDATORY = True"
     ],
     "language": "python",
     "metadata": {},
     "outputs": [],
     "prompt_number": 198
    },
    {
     "cell_type": "code",
     "collapsed": false,
     "input": [
      "router.bind(\"inproc://testing\")\n",
      "\n",
      "dealer.connect(\"inproc://testing\")\n",
      "dealer1.connect(\"inproc://testing\")"
     ],
     "language": "python",
     "metadata": {},
     "outputs": [],
     "prompt_number": 199
    },
    {
     "cell_type": "code",
     "collapsed": false,
     "input": [
      "A = np.ones(5, dtype = np.uint8)"
     ],
     "language": "python",
     "metadata": {},
     "outputs": [],
     "prompt_number": 214
    },
    {
     "cell_type": "code",
     "collapsed": false,
     "input": [
      "A *= 2"
     ],
     "language": "python",
     "metadata": {},
     "outputs": [],
     "prompt_number": 241
    },
    {
     "cell_type": "code",
     "collapsed": false,
     "input": [
      "message = ['5', '3', A]\n",
      "# message = A"
     ],
     "language": "python",
     "metadata": {},
     "outputs": [],
     "prompt_number": 215
    },
    {
     "cell_type": "code",
     "collapsed": false,
     "input": [
      "message[0] = 'a'"
     ],
     "language": "python",
     "metadata": {},
     "outputs": [],
     "prompt_number": 225
    },
    {
     "cell_type": "code",
     "collapsed": false,
     "input": [
      "router.send_multipart(['dealer'] + message, copy = False)"
     ],
     "language": "python",
     "metadata": {},
     "outputs": [],
     "prompt_number": 216
    },
    {
     "cell_type": "code",
     "collapsed": false,
     "input": [
      "msg = dealer.recv_multipart(flags = zmq.NOBLOCK, copy = False)"
     ],
     "language": "python",
     "metadata": {},
     "outputs": [],
     "prompt_number": 217
    },
    {
     "cell_type": "code",
     "collapsed": false,
     "input": [
      "msg"
     ],
     "language": "python",
     "metadata": {},
     "outputs": [
      {
       "metadata": {},
       "output_type": "pyout",
       "prompt_number": 218,
       "text": [
        "[<zmq.backend.cython.message.Frame at 0x27b1a70>,\n",
        " <zmq.backend.cython.message.Frame at 0x27b1b00>,\n",
        " <zmq.backend.cython.message.Frame at 0x27b1b90>]"
       ]
      }
     ],
     "prompt_number": 218
    },
    {
     "cell_type": "code",
     "collapsed": false,
     "input": [
      "for frame in msg:\n",
      "    print frame.bytes\n",
      "    try:\n",
      "        print np.frombuffer(buffer(frame), dtype = np.uint8)\n",
      "    except Exception as e:\n",
      "        print e"
     ],
     "language": "python",
     "metadata": {},
     "outputs": [
      {
       "output_type": "stream",
       "stream": "stdout",
       "text": [
        "5\n",
        "[53]\n",
        "3\n",
        "[51]\n",
        "\u0001\u0001\u0001\u0001\u0001\n",
        "[6 6 6 6 6]\n"
       ]
      }
     ],
     "prompt_number": 228
    },
    {
     "cell_type": "code",
     "collapsed": false,
     "input": [
      "dealer.send_multipart(message, copy = False, track = False)"
     ],
     "language": "python",
     "metadata": {},
     "outputs": [],
     "prompt_number": 229
    },
    {
     "cell_type": "code",
     "collapsed": false,
     "input": [
      "dealer1.send_multipart(message, copy = False, track = False)"
     ],
     "language": "python",
     "metadata": {},
     "outputs": [],
     "prompt_number": 230
    },
    {
     "cell_type": "code",
     "collapsed": false,
     "input": [
      "try:\n",
      "    msg_parts = router.recv_multipart(flags = zmq.NOBLOCK, copy = False, track = True)\n",
      "except Exception as e:\n",
      "    print e"
     ],
     "language": "python",
     "metadata": {},
     "outputs": [],
     "prompt_number": 234
    },
    {
     "cell_type": "code",
     "collapsed": false,
     "input": [
      "len msg_parts"
     ],
     "language": "python",
     "metadata": {},
     "outputs": [
      {
       "metadata": {},
       "output_type": "pyout",
       "prompt_number": 235,
       "text": [
        "4"
       ]
      }
     ],
     "prompt_number": 235
    },
    {
     "cell_type": "code",
     "collapsed": false,
     "input": [
      "for frame in msg_parts:\n",
      "    print frame.bytes\n",
      "    print np.frombuffer(buffer(frame), dtype = np.uint8)"
     ],
     "language": "python",
     "metadata": {},
     "outputs": [
      {
       "output_type": "stream",
       "stream": "stdout",
       "text": [
        "dealer1\n",
        "[100 101  97 108 101 114  49]\n",
        "a\n",
        "[97]\n",
        "3\n",
        "[51]\n",
        "\u0006\u0006\u0006\u0006\u0006\n",
        "[12 12 12 12 12]\n"
       ]
      }
     ],
     "prompt_number": 242
    },
    {
     "cell_type": "code",
     "collapsed": false,
     "input": [
      "msg_parts[0] = 'dealer'\n",
      "msg_parts[1] = '6'"
     ],
     "language": "python",
     "metadata": {},
     "outputs": [],
     "prompt_number": 117
    },
    {
     "cell_type": "code",
     "collapsed": false,
     "input": [
      "for frame in msg_parts:\n",
      "    print frame"
     ],
     "language": "python",
     "metadata": {},
     "outputs": [
      {
       "output_type": "stream",
       "stream": "stdout",
       "text": [
        "dealer1\n",
        "5\n",
        "3\n"
       ]
      }
     ],
     "prompt_number": 138
    },
    {
     "cell_type": "code",
     "collapsed": false,
     "input": [
      "tracker = router.send_multipart(msg_parts, flags = zmq.NOBLOCK, copy = False, track = True)"
     ],
     "language": "python",
     "metadata": {},
     "outputs": [],
     "prompt_number": 139
    },
    {
     "cell_type": "code",
     "collapsed": false,
     "input": [
      "tracker.done"
     ],
     "language": "python",
     "metadata": {},
     "outputs": [
      {
       "metadata": {},
       "output_type": "pyout",
       "prompt_number": 140,
       "text": [
        "False"
       ]
      }
     ],
     "prompt_number": 140
    },
    {
     "cell_type": "code",
     "collapsed": false,
     "input": [
      "msg = dealer1.recv_multipart(flags = zmq.NOBLOCK, copy = False, track = True)"
     ],
     "language": "python",
     "metadata": {},
     "outputs": [],
     "prompt_number": 142
    },
    {
     "cell_type": "code",
     "collapsed": false,
     "input": [
      "len msg"
     ],
     "language": "python",
     "metadata": {},
     "outputs": [
      {
       "metadata": {},
       "output_type": "pyout",
       "prompt_number": 143,
       "text": [
        "2"
       ]
      }
     ],
     "prompt_number": 143
    },
    {
     "cell_type": "code",
     "collapsed": false,
     "input": [
      "for m in msg:\n",
      "    print m.bytes"
     ],
     "language": "python",
     "metadata": {},
     "outputs": [
      {
       "output_type": "stream",
       "stream": "stdout",
       "text": [
        "5\n",
        "3\n"
       ]
      }
     ],
     "prompt_number": 144
    },
    {
     "cell_type": "code",
     "collapsed": false,
     "input": [
      "import os, getpass"
     ],
     "language": "python",
     "metadata": {},
     "outputs": [],
     "prompt_number": 168
    },
    {
     "cell_type": "code",
     "collapsed": false,
     "input": [
      "getpass.getuser()"
     ],
     "language": "python",
     "metadata": {},
     "outputs": [
      {
       "metadata": {},
       "output_type": "pyout",
       "prompt_number": 172,
       "text": [
        "'neubauer'"
       ]
      }
     ],
     "prompt_number": 172
    },
    {
     "cell_type": "code",
     "collapsed": false,
     "input": [
      "for items in os.environ.items():\n",
      "    if 'neubauer' in items[1]:\n",
      "        print items   "
     ],
     "language": "python",
     "metadata": {},
     "outputs": [
      {
       "output_type": "stream",
       "stream": "stdout",
       "text": [
        "('GS_LIB', '/home/neubauer/.fonts')\n",
        "('MAIL', '/var/spool/mail/neubauer')\n",
        "('USER', 'neubauer')\n",
        "('INPUTRC', '/home/neubauer/.inputrc')\n",
        "('QT_PLUGIN_PATH', '/home/neubauer/.kde4/lib64/kde4/plugins/:/usr/lib64/kde4/plugins/')\n",
        "('GTK2_RC_FILES', '/etc/gtk-2.0/gtkrc:/home/neubauer/.gtkrc-2.0:/home/neubauer/.kde4/share/config/gtkrc-2.0')\n",
        "('HOME', '/home/neubauer')\n",
        "('LOGNAME', 'neubauer')\n",
        "('PATH', '/home/neubauer/bin:/usr/local/bin:/usr/bin:/bin:/usr/bin/X11:/usr/X11R6/bin:/usr/games:/opt/kde3/bin:/usr/sbin:/usr/sbin')\n",
        "('GTK_RC_FILES', '/etc/gtk/gtkrc:/home/neubauer/.gtkrc:/home/neubauer/.kde4/share/config/gtkrc')\n",
        "('OLDPWD', '/home/neubauer/Downloads')\n"
       ]
      }
     ],
     "prompt_number": 173
    },
    {
     "cell_type": "code",
     "collapsed": false,
     "input": [
      "os.getlogin()"
     ],
     "language": "python",
     "metadata": {},
     "outputs": [
      {
       "metadata": {},
       "output_type": "pyout",
       "prompt_number": 248,
       "text": [
        "'neubauer'"
       ]
      }
     ],
     "prompt_number": 248
    },
    {
     "cell_type": "code",
     "collapsed": false,
     "input": [
      "os.path.expanduser('~')"
     ],
     "language": "python",
     "metadata": {},
     "outputs": [
      {
       "metadata": {},
       "output_type": "pyout",
       "prompt_number": 176,
       "text": [
        "'/home/neubauer'"
       ]
      }
     ],
     "prompt_number": 176
    },
    {
     "cell_type": "code",
     "collapsed": false,
     "input": [
      "env = os.environ\n",
      "\n",
      "with open('test.txt', 'wt') as f:\n",
      "    f.write(\"{}: {}\\n\".format('getpass.getuser', getpass.getuser()))\n",
      "    for key in env.keys():\n",
      "        f.write(\"{}: {}\\n\".format(key, env[key]))"
     ],
     "language": "python",
     "metadata": {},
     "outputs": [],
     "prompt_number": 192
    },
    {
     "cell_type": "code",
     "collapsed": false,
     "input": [],
     "language": "python",
     "metadata": {},
     "outputs": []
    }
   ],
   "metadata": {}
  }
 ]
}