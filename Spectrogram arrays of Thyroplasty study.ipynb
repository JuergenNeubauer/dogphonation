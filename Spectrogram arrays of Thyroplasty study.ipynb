{
 "metadata": {
  "name": ""
 },
 "nbformat": 3,
 "nbformat_minor": 0,
 "worksheets": [
  {
   "cells": [
    {
     "cell_type": "code",
     "collapsed": false,
     "input": [
      "import sys\n",
      "sys.path.append('/extra/InVivoDog/python/cine/tools')"
     ],
     "language": "python",
     "metadata": {},
     "outputs": [],
     "prompt_number": 1
    },
    {
     "cell_type": "code",
     "collapsed": false,
     "input": [
      "import dogdata\n",
      "reload(dogdata)"
     ],
     "language": "python",
     "metadata": {},
     "outputs": [
      {
       "metadata": {},
       "output_type": "pyout",
       "prompt_number": 2,
       "text": [
        "<module 'dogdata' from '/extra/InVivoDog/python/cine/tools/dogdata.pyc'>"
       ]
      }
     ],
     "prompt_number": 2
    },
    {
     "cell_type": "code",
     "collapsed": false,
     "input": [
      "datadir = \"/extra/InVivoDog/InVivoDog_2013_10_30/data LabView/\""
     ],
     "language": "python",
     "metadata": {},
     "outputs": [],
     "prompt_number": 5
    },
    {
     "cell_type": "code",
     "collapsed": false,
     "input": [
      "ls -alot \"$datadir\""
     ],
     "language": "python",
     "metadata": {},
     "outputs": [
      {
       "output_type": "stream",
       "stream": "stdout",
       "text": [
        "total 44\r\n",
        "drwxr-xr-x 12 neubauer 4096 Nov  1 17:13 \u001b[0m\u001b[01;34m..\u001b[0m/\r\n",
        "drwxr-xr-x 12 neubauer 4096 Oct 30 18:48 \u001b[01;34mright SLN versus right RLN\u001b[0m/\r\n",
        "drwxr-xr-x  3 neubauer 4096 Oct 30 18:44 \u001b[01;34mtesting\u001b[0m/\r\n",
        "drwxr-xr-x 11 neubauer 4096 Oct 30 18:43 \u001b[01;34m.\u001b[0m/\r\n",
        "drwxr-xr-x 12 neubauer 4096 Oct 30 18:43 \u001b[01;34mSLN versus right RLN\u001b[0m/\r\n",
        "drwxr-xr-x  4 neubauer 4096 Oct 30 18:39 \u001b[01;34mleft RLN\u001b[0m/\r\n",
        "drwxr-xr-x  4 neubauer 4096 Oct 30 18:39 \u001b[01;34mright SLN\u001b[0m/\r\n",
        "drwxr-xr-x  5 neubauer 4096 Oct 30 18:39 \u001b[01;34mright RLN\u001b[0m/\r\n",
        "drwxr-xr-x  4 neubauer 4096 Oct 30 18:38 \u001b[01;34mleft SLN\u001b[0m/\r\n",
        "drwxr-xr-x  3 neubauer 4096 Oct 30 18:37 \u001b[01;34mboth RLN\u001b[0m/\r\n",
        "drwxr-xr-x  3 neubauer 4096 Oct 30 18:37 \u001b[01;34mSLN versus RLN\u001b[0m/\r\n"
       ]
      }
     ],
     "prompt_number": 10
    },
    {
     "cell_type": "code",
     "collapsed": false,
     "input": [
      "import glob, os"
     ],
     "language": "python",
     "metadata": {},
     "outputs": [],
     "prompt_number": 8
    },
    {
     "cell_type": "code",
     "collapsed": false,
     "input": [
      "# need to correct ps, Q, and EMG1 because of 2:1 iso-amp which also has some channel dependent offset\n",
      "        \n",
      "# for 2013_10_23:\n",
      "Voffset_ps = -38.0e-3 # depends on the date\n",
      "isoampgain_ps = 2.0 # I measured it more accurately, it is slightly more than 2\n",
      "\n",
      "Voffset_Q = 33.0e-3 # depends on the date\n",
      "isoampgain_Q = 2.0\n",
      "\n",
      "# for 2013_10_30\n",
      "Voffset_ps = 8.8e-3\n",
      "\n",
      "Voffset_Q = 3.5e-3\n",
      "\n",
      "for root, dirs, files in os.walk(top = datadir):\n",
      "    if not files:\n",
      "        continue\n",
      "    if root.find('range') > 0: # exclude range finding files\n",
      "        continue\n",
      "    for hdf5file in files:\n",
      "        if not hdf5file.endswith('.hdf5'):\n",
      "            continue\n",
      "        print hdf5file\n",
      "                    \n",
      "        d = dogdata.DogData(datadir = root, datafile = hdf5file)\n",
      "        \n",
      "        d.get_all_data()\n",
      "        \n",
      "        # need to correct ps, Q, and EMG1 because of 2:1 iso-amp which also has some channel dependent offset\n",
      "        Vconv = d.convEMG # EMG conversion is just conversion from numbers to Volts\n",
      "        \n",
      "        d.allps = isoampgain_ps * d.allps - Voffset_ps / Vconv * d.convps\n",
      "        \n",
      "        d.allQ = isoampgain_Q * d.allQ - Voffset_Q / Vconv * d.convQ\n",
      "        \n",
      "        d.minps = d.allps.min()\n",
      "        d.maxps = d.allps.max()\n",
      "        d.minQ = d.allQ.min()\n",
      "        d.maxQ = d.allQ.max()\n",
      "\n",
      "        if hdf5file.startswith('SLN versus RLN'): # No implant'):\n",
      "            grid_xaxis = dict(label = 'RLN', level = 'rightRLN')\n",
      "            grid_yaxis = dict(label = 'SLN', level = 'rightSLN')\n",
      "            \n",
      "        if hdf5file.startswith('SLN versus right RLN'): # ('SLN versus RLN, no left RLN'):\n",
      "            grid_xaxis = dict(label = 'right RLN', level = 'rightRLN')\n",
      "            grid_yaxis = dict(label = 'SLN', level = 'rightSLN')\n",
      "            \n",
      "        if hdf5file.startswith('right SLN versus right RLN'):\n",
      "            grid_xaxis = dict(label = 'right RLN', level = 'rightRLN')\n",
      "            grid_yaxis = dict(label = 'right SLN', level = 'rightSLN')\n",
      "        \n",
      "        for signal in ['psub', 'pout']:\n",
      "            d.show_spectrograms(signal = signal, \n",
      "                                nerve_xaxis = grid_xaxis, nerve_yaxis = grid_yaxis,\n",
      "                                figsize = (2*24/3, 2*18/3))\n",
      "            \n",
      "            d.show_data(nerve_xaxis = grid_xaxis, nerve_yaxis = grid_yaxis)\n",
      "            \n",
      "            d.savefigure(format = 'png')\n",
      "            \n",
      "            del d.allspecs\n",
      "            \n",
      "        del d"
     ],
     "language": "python",
     "metadata": {},
     "outputs": [
      {
       "output_type": "stream",
       "stream": "stdout",
       "text": [
        "SLN versus RLN baseline Wed Oct 30 2013 13 47 59.hdf5\n",
        "reading entire data from hdf5 file"
       ]
      },
      {
       "output_type": "stream",
       "stream": "stdout",
       "text": [
        "\n",
        "\n",
        "SLN versus RLN baseline Wed Oct 30 2013 14 20 10.hdf5"
       ]
      },
      {
       "output_type": "stream",
       "stream": "stdout",
       "text": [
        "\n",
        "reading entire data from hdf5 file"
       ]
      },
      {
       "output_type": "stream",
       "stream": "stdout",
       "text": [
        "\n",
        "\n",
        "SLN versus right RLN rectangular implant Wed Oct 30 2013 15 15 11.hdf5"
       ]
      },
      {
       "output_type": "stream",
       "stream": "stdout",
       "text": [
        "\n",
        "reading entire data from hdf5 file"
       ]
      },
      {
       "output_type": "stream",
       "stream": "stdout",
       "text": [
        "\n",
        "\n",
        "SLN versus right RLN long V-shaped implant Wed Oct 30 2013 15 47 16.hdf5"
       ]
      },
      {
       "output_type": "stream",
       "stream": "stdout",
       "text": [
        "\n",
        "reading entire data from hdf5 file"
       ]
      },
      {
       "output_type": "stream",
       "stream": "stdout",
       "text": [
        "\n",
        "\n",
        "SLN versus right RLN V-shaped implant Wed Oct 30 2013 14 32 25.hdf5"
       ]
      },
      {
       "output_type": "stream",
       "stream": "stdout",
       "text": [
        "\n",
        "reading entire data from hdf5 file"
       ]
      },
      {
       "output_type": "stream",
       "stream": "stdout",
       "text": [
        "\n",
        "\n",
        "SLN versus right RLN long rectangular implant Wed Oct 30 2013 15 25 35.hdf5"
       ]
      },
      {
       "output_type": "stream",
       "stream": "stdout",
       "text": [
        "\n",
        "reading entire data from hdf5 file"
       ]
      },
      {
       "output_type": "stream",
       "stream": "stdout",
       "text": [
        "\n",
        "\n",
        "SLN versus right RLN long divergent implant Wed Oct 30 2013 15 35 18.hdf5"
       ]
      },
      {
       "output_type": "stream",
       "stream": "stdout",
       "text": [
        "\n",
        "reading entire data from hdf5 file"
       ]
      },
      {
       "output_type": "stream",
       "stream": "stdout",
       "text": [
        "\n",
        "\n",
        "SLN versus right RLN convergent implant Wed Oct 30 2013 15 04 08.hdf5"
       ]
      },
      {
       "output_type": "stream",
       "stream": "stdout",
       "text": [
        "\n",
        "reading entire data from hdf5 file"
       ]
      },
      {
       "output_type": "stream",
       "stream": "stdout",
       "text": [
        "\n",
        "\n",
        "SLN versus right RLN No implant Wed Oct 30 2013 14 52 50.hdf5"
       ]
      },
      {
       "output_type": "stream",
       "stream": "stdout",
       "text": [
        "\n",
        "reading entire data from hdf5 file"
       ]
      },
      {
       "output_type": "stream",
       "stream": "stdout",
       "text": [
        "\n",
        "\n",
        "SLN versus right RLN No implant repeat Wed Oct 30 2013 16 05 22.hdf5"
       ]
      },
      {
       "output_type": "stream",
       "stream": "stdout",
       "text": [
        "\n",
        "reading entire data from hdf5 file"
       ]
      },
      {
       "output_type": "stream",
       "stream": "stdout",
       "text": [
        "\n",
        "\n",
        "SLN versus right RLN long convergent implant Wed Oct 30 2013 15 56 32.hdf5"
       ]
      },
      {
       "output_type": "stream",
       "stream": "stdout",
       "text": [
        "\n",
        "reading entire data from hdf5 file"
       ]
      },
      {
       "output_type": "stream",
       "stream": "stdout",
       "text": [
        "\n",
        "\n",
        "SLN versus right RLN divergent implant Wed Oct 30 2013 14 43 56.hdf5"
       ]
      },
      {
       "output_type": "stream",
       "stream": "stdout",
       "text": [
        "\n",
        "reading entire data from hdf5 file"
       ]
      },
      {
       "output_type": "stream",
       "stream": "stdout",
       "text": [
        "\n",
        "\n",
        "testing test signals before experiments Wed Oct 30 2013 11 28 40.hdf5"
       ]
      },
      {
       "output_type": "stream",
       "stream": "stdout",
       "text": [
        "\n",
        "reading entire data from hdf5 file\n",
        "\n",
        "testing test signals before experiments Wed Oct 30 2013 11 21 58.hdf5"
       ]
      },
      {
       "output_type": "stream",
       "stream": "stdout",
       "text": [
        "\n",
        "reading entire data from hdf5 file\n",
        "\n",
        "right SLN versus right RLN rectangular implant Wed Oct 30 2013 16 34 53.hdf5"
       ]
      },
      {
       "output_type": "stream",
       "stream": "stdout",
       "text": [
        "\n",
        "reading entire data from hdf5 file"
       ]
      },
      {
       "output_type": "stream",
       "stream": "stdout",
       "text": [
        "\n",
        "\n",
        "right SLN versus right RLN long V-shaped implant Wed Oct 30 2013 17 12 05.hdf5"
       ]
      },
      {
       "output_type": "stream",
       "stream": "stdout",
       "text": [
        "\n",
        "reading entire data from hdf5 file"
       ]
      },
      {
       "output_type": "stream",
       "stream": "stdout",
       "text": [
        "\n",
        "\n",
        "right SLN versus right RLN baseline no implant Wed Oct 30 2013 16 25 51.hdf5"
       ]
      },
      {
       "output_type": "stream",
       "stream": "stdout",
       "text": [
        "\n",
        "reading entire data from hdf5 file"
       ]
      },
      {
       "output_type": "stream",
       "stream": "stdout",
       "text": [
        "\n",
        "\n",
        "right SLN versus right RLN V-shaped implant Wed Oct 30 2013 17 03 59.hdf5"
       ]
      },
      {
       "output_type": "stream",
       "stream": "stdout",
       "text": [
        "\n",
        "reading entire data from hdf5 file"
       ]
      },
      {
       "output_type": "stream",
       "stream": "stdout",
       "text": [
        "\n",
        "\n",
        "right SLN versus right RLN long rectangular implant Wed Oct 30 2013 17 19 58.hdf5"
       ]
      },
      {
       "output_type": "stream",
       "stream": "stdout",
       "text": [
        "\n",
        "reading entire data from hdf5 file"
       ]
      },
      {
       "output_type": "stream",
       "stream": "stdout",
       "text": [
        "\n",
        "\n",
        "right SLN versus right RLN long divergent implant Wed Oct 30 2013 17 39 18.hdf5"
       ]
      },
      {
       "output_type": "stream",
       "stream": "stdout",
       "text": [
        "\n",
        "reading entire data from hdf5 file"
       ]
      },
      {
       "output_type": "stream",
       "stream": "stdout",
       "text": [
        "\n",
        "\n",
        "right SLN versus right RLN convergent implant Wed Oct 30 2013 16 43 31.hdf5"
       ]
      },
      {
       "output_type": "stream",
       "stream": "stdout",
       "text": [
        "\n",
        "reading entire data from hdf5 file"
       ]
      },
      {
       "output_type": "stream",
       "stream": "stdout",
       "text": [
        "\n",
        "\n",
        "right SLN versus right RLN no implant baseline repeat Wed Oct 30 2013 17 47 30.hdf5"
       ]
      },
      {
       "output_type": "stream",
       "stream": "stdout",
       "text": [
        "\n",
        "reading entire data from hdf5 file"
       ]
      },
      {
       "output_type": "stream",
       "stream": "stdout",
       "text": [
        "\n",
        "\n",
        "right SLN versus right RLN long convergent implant Wed Oct 30 2013 17 30 26.hdf5"
       ]
      },
      {
       "output_type": "stream",
       "stream": "stdout",
       "text": [
        "\n",
        "reading entire data from hdf5 file"
       ]
      },
      {
       "output_type": "stream",
       "stream": "stdout",
       "text": [
        "\n",
        "\n",
        "right SLN versus right RLN divergent implant Wed Oct 30 2013 16 53 14.hdf5"
       ]
      },
      {
       "output_type": "stream",
       "stream": "stdout",
       "text": [
        "\n",
        "reading entire data from hdf5 file"
       ]
      },
      {
       "output_type": "stream",
       "stream": "stdout",
       "text": [
        "\n",
        "\n"
       ]
      }
     ],
     "prompt_number": 12
    },
    {
     "cell_type": "code",
     "collapsed": false,
     "input": [
      "specgramfiles = []\n",
      "\n",
      "for root, dirs, files in os.walk(top = datadir):\n",
      "    if not files:\n",
      "        continue\n",
      "    if root.find('range') > 0: # exclude range finding files\n",
      "        continue\n",
      "    for pngfile in files:\n",
      "        if not pngfile.endswith('.png'):\n",
      "            continue\n",
      "        print pngfile\n",
      "        specgramfiles.append(os.path.join(root, pngfile))"
     ],
     "language": "python",
     "metadata": {},
     "outputs": [
      {
       "output_type": "stream",
       "stream": "stdout",
       "text": [
        "SLN versus RLN baseline Wed Oct 30 2013 14 20 10.pout.specgram.1000Hz.png\n",
        "SLN versus RLN baseline Wed Oct 30 2013 13 47 59.psub.specgram.1000Hz.png\n",
        "SLN versus RLN baseline Wed Oct 30 2013 14 20 10.psub.specgram.1000Hz.png\n",
        "SLN versus RLN baseline Wed Oct 30 2013 13 47 59.pout.specgram.1000Hz.png\n",
        "SLN versus right RLN rectangular implant Wed Oct 30 2013 15 15 11.psub.specgram.1000Hz.png\n",
        "SLN versus right RLN rectangular implant Wed Oct 30 2013 15 15 11.pout.specgram.1000Hz.png\n",
        "SLN versus right RLN long V-shaped implant Wed Oct 30 2013 15 47 16.pout.specgram.1000Hz.png\n",
        "SLN versus right RLN long V-shaped implant Wed Oct 30 2013 15 47 16.psub.specgram.1000Hz.png\n",
        "SLN versus right RLN V-shaped implant Wed Oct 30 2013 14 32 25.pout.specgram.1000Hz.png\n",
        "SLN versus right RLN V-shaped implant Wed Oct 30 2013 14 32 25.psub.specgram.1000Hz.png\n",
        "SLN versus right RLN long rectangular implant Wed Oct 30 2013 15 25 35.psub.specgram.1000Hz.png\n",
        "SLN versus right RLN long rectangular implant Wed Oct 30 2013 15 25 35.pout.specgram.1000Hz.png\n",
        "SLN versus right RLN long divergent implant Wed Oct 30 2013 15 35 18.psub.specgram.1000Hz.png\n",
        "SLN versus right RLN long divergent implant Wed Oct 30 2013 15 35 18.pout.specgram.1000Hz.png\n",
        "SLN versus right RLN convergent implant Wed Oct 30 2013 15 04 08.pout.specgram.1000Hz.png\n",
        "SLN versus right RLN convergent implant Wed Oct 30 2013 15 04 08.psub.specgram.1000Hz.png\n",
        "SLN versus right RLN No implant Wed Oct 30 2013 14 52 50.psub.specgram.1000Hz.png\n",
        "SLN versus right RLN No implant Wed Oct 30 2013 14 52 50.pout.specgram.1000Hz.png\n",
        "SLN versus right RLN No implant repeat Wed Oct 30 2013 16 05 22.pout.specgram.1000Hz.png\n",
        "SLN versus right RLN No implant repeat Wed Oct 30 2013 16 05 22.psub.specgram.1000Hz.png\n",
        "SLN versus right RLN long convergent implant Wed Oct 30 2013 15 56 32.psub.specgram.1000Hz.png\n",
        "SLN versus right RLN long convergent implant Wed Oct 30 2013 15 56 32.pout.specgram.1000Hz.png\n",
        "SLN versus right RLN divergent implant Wed Oct 30 2013 14 43 56.pout.specgram.1000Hz.png\n",
        "SLN versus right RLN divergent implant Wed Oct 30 2013 14 43 56.psub.specgram.1000Hz.png\n",
        "testing test signals before experiments Wed Oct 30 2013 11 28 40.pout.specgram.1000Hz.png\n",
        "testing test signals before experiments Wed Oct 30 2013 11 28 40.psub.specgram.1000Hz.png\n",
        "testing test signals before experiments Wed Oct 30 2013 11 21 58.psub.specgram.1000Hz.png\n",
        "testing test signals before experiments Wed Oct 30 2013 11 21 58.pout.specgram.1000Hz.png\n",
        "right SLN versus right RLN rectangular implant Wed Oct 30 2013 16 34 53.pout.specgram.1000Hz.png\n",
        "right SLN versus right RLN rectangular implant Wed Oct 30 2013 16 34 53.psub.specgram.1000Hz.png\n",
        "right SLN versus right RLN long V-shaped implant Wed Oct 30 2013 17 12 05.pout.specgram.1000Hz.png\n",
        "right SLN versus right RLN long V-shaped implant Wed Oct 30 2013 17 12 05.psub.specgram.1000Hz.png\n",
        "right SLN versus right RLN baseline no implant Wed Oct 30 2013 16 25 51.psub.specgram.1000Hz.png\n",
        "right SLN versus right RLN baseline no implant Wed Oct 30 2013 16 25 51.pout.specgram.1000Hz.png\n",
        "right SLN versus right RLN V-shaped implant Wed Oct 30 2013 17 03 59.psub.specgram.1000Hz.png\n",
        "right SLN versus right RLN V-shaped implant Wed Oct 30 2013 17 03 59.pout.specgram.1000Hz.png\n",
        "right SLN versus right RLN long rectangular implant Wed Oct 30 2013 17 19 58.pout.specgram.1000Hz.png\n",
        "right SLN versus right RLN long rectangular implant Wed Oct 30 2013 17 19 58.psub.specgram.1000Hz.png\n",
        "right SLN versus right RLN long divergent implant Wed Oct 30 2013 17 39 18.pout.specgram.1000Hz.png\n",
        "right SLN versus right RLN long divergent implant Wed Oct 30 2013 17 39 18.psub.specgram.1000Hz.png\n",
        "right SLN versus right RLN convergent implant Wed Oct 30 2013 16 43 31.psub.specgram.1000Hz.png\n",
        "right SLN versus right RLN convergent implant Wed Oct 30 2013 16 43 31.pout.specgram.1000Hz.png\n",
        "right SLN versus right RLN no implant baseline repeat Wed Oct 30 2013 17 47 30.psub.specgram.1000Hz.png\n",
        "right SLN versus right RLN no implant baseline repeat Wed Oct 30 2013 17 47 30.pout.specgram.1000Hz.png\n",
        "right SLN versus right RLN long convergent implant Wed Oct 30 2013 17 30 26.pout.specgram.1000Hz.png\n",
        "right SLN versus right RLN long convergent implant Wed Oct 30 2013 17 30 26.psub.specgram.1000Hz.png\n",
        "right SLN versus right RLN divergent implant Wed Oct 30 2013 16 53 14.psub.specgram.1000Hz.png\n",
        "right SLN versus right RLN divergent implant Wed Oct 30 2013 16 53 14.pout.specgram.1000Hz.png\n"
       ]
      }
     ],
     "prompt_number": 13
    },
    {
     "cell_type": "code",
     "collapsed": false,
     "input": [
      "checkonsetfiles = []\n",
      "\n",
      "for root, dirs, files in os.walk(top = '/extra/InVivoDog/InVivoDog_2013_10_23/data LabView/'):\n",
      "    if not files:\n",
      "        continue\n",
      "    if root.find('range') > 0: # exclude range finding files\n",
      "        continue\n",
      "    for pngfile in files:\n",
      "        if not pngfile.endswith('.png'):\n",
      "            continue\n",
      "        if pngfile.find('Check_Onset') < 0:\n",
      "            continue\n",
      "        print pngfile\n",
      "        checkonsetfiles.append(os.path.join(root, pngfile))"
     ],
     "language": "python",
     "metadata": {},
     "outputs": [
      {
       "output_type": "stream",
       "stream": "stdout",
       "text": [
        "SLN versus RLN No implant on left side Wed Oct 23 2013 14 33 05.Check_Onset.pout.specgram.1000Hz.png\n",
        "SLN versus RLN No implant on left side Wed Oct 23 2013 14 33 05.Check_Onset.pout.png\n",
        "SLN versus RLN No implant on left side Wed Oct 23 2013 14 33 05.Check_Onset.psub.specgram.1000Hz.png\n",
        "SLN versus RLN No implant on left side Wed Oct 23 2013 14 33 05.Check_Onset.psub.png\n",
        "SLN versus RLN, no left RLN Convergent implant on left side Wed Oct 23 2013 15 03 34.Check_Onset.pout.png\n",
        "SLN versus RLN, no left RLN Convergent implant on left side Wed Oct 23 2013 15 03 34.Check_Onset.pout.specgram.1000Hz.png\n",
        "SLN versus RLN, no left RLN Convergent implant on left side Wed Oct 23 2013 15 03 34.Check_Onset.psub.png\n",
        "SLN versus RLN, no left RLN Convergent implant on left side Wed Oct 23 2013 15 03 34.Check_Onset.psub.specgram.1000Hz.png\n",
        "SLN versus RLN, no left RLN Long rectangular implant on left side Wed Oct 23 2013 15 30 35.Check_Onset.psub.png\n",
        "SLN versus RLN, no left RLN Long rectangular implant on left side Wed Oct 23 2013 15 30 35.Check_Onset.psub.specgram.1000Hz.png\n",
        "SLN versus RLN, no left RLN Long rectangular implant on left side Wed Oct 23 2013 15 30 35.Check_Onset.pout.specgram.1000Hz.png\n",
        "SLN versus RLN, no left RLN Long rectangular implant on left side Wed Oct 23 2013 15 30 35.Check_Onset.pout.png\n",
        "SLN versus RLN, no left RLN No implant on left side Wed Oct 23 2013 14 47 40.Check_Onset.psub.png\n",
        "SLN versus RLN, no left RLN No implant on left side Wed Oct 23 2013 14 47 40.Check_Onset.pout.png\n",
        "SLN versus RLN, no left RLN No implant on left side Wed Oct 23 2013 14 47 40.Check_Onset.psub.specgram.1000Hz.png\n",
        "SLN versus RLN, no left RLN No implant on left side Wed Oct 23 2013 14 47 40.Check_Onset.pout.specgram.1000Hz.png\n",
        "SLN versus RLN, no left RLN Divergent implant on left side Wed Oct 23 2013 14 55 08.Check_Onset.psub.png\n",
        "SLN versus RLN, no left RLN Divergent implant on left side Wed Oct 23 2013 14 55 08.Check_Onset.pout.png\n",
        "SLN versus RLN, no left RLN Divergent implant on left side Wed Oct 23 2013 14 55 08.Check_Onset.psub.specgram.1000Hz.png\n",
        "SLN versus RLN, no left RLN Divergent implant on left side Wed Oct 23 2013 14 55 08.Check_Onset.pout.specgram.1000Hz.png\n",
        "SLN versus RLN, no left RLN Long V-shaped implant left Wed Oct 23 2013 15 49 20.Check_Onset.psub.png\n",
        "SLN versus RLN, no left RLN Long V-shaped implant left Wed Oct 23 2013 15 49 20.Check_Onset.pout.specgram.1000Hz.png\n",
        "SLN versus RLN, no left RLN Long V-shaped implant left Wed Oct 23 2013 15 49 20.Check_Onset.psub.specgram.1000Hz.png\n",
        "SLN versus RLN, no left RLN Long V-shaped implant left Wed Oct 23 2013 15 49 20.Check_Onset.pout.png\n",
        "SLN versus RLN, no left RLN Long divergent implant on left side Wed Oct 23 2013 15 20 34.Check_Onset.pout.png\n",
        "SLN versus RLN, no left RLN Long divergent implant on left side Wed Oct 23 2013 15 20 34.Check_Onset.psub.specgram.1000Hz.png\n",
        "SLN versus RLN, no left RLN Long divergent implant on left side Wed Oct 23 2013 15 20 34.Check_Onset.psub.png\n",
        "SLN versus RLN, no left RLN Long divergent implant on left side Wed Oct 23 2013 15 20 34.Check_Onset.pout.specgram.1000Hz.png\n",
        "SLN versus RLN, no left RLN V-shaped implant on left side Wed Oct 23 2013 15 13 12.Check_Onset.pout.specgram.1000Hz.png\n",
        "SLN versus RLN, no left RLN V-shaped implant on left side Wed Oct 23 2013 15 13 12.Check_Onset.pout.png\n",
        "SLN versus RLN, no left RLN V-shaped implant on left side Wed Oct 23 2013 15 13 12.Check_Onset.psub.specgram.1000Hz.png\n",
        "SLN versus RLN, no left RLN V-shaped implant on left side Wed Oct 23 2013 15 13 12.Check_Onset.psub.png\n",
        "SLN versus RLN, no left RLN Rectangular implant on left side Wed Oct 23 2013 14 40 30.Check_Onset.pout.specgram.1000Hz.png\n",
        "SLN versus RLN, no left RLN Rectangular implant on left side Wed Oct 23 2013 14 40 30.Check_Onset.pout.png\n",
        "SLN versus RLN, no left RLN Rectangular implant on left side Wed Oct 23 2013 14 40 30.Check_Onset.psub.png\n",
        "SLN versus RLN, no left RLN Rectangular implant on left side Wed Oct 23 2013 14 40 30.Check_Onset.psub.specgram.1000Hz.png\n",
        "SLN versus RLN, no left RLN Long convergent implant on left side Wed Oct 23 2013 15 39 59.Check_Onset.psub.specgram.1000Hz.png\n",
        "SLN versus RLN, no left RLN Long convergent implant on left side Wed Oct 23 2013 15 39 59.Check_Onset.pout.specgram.1000Hz.png\n",
        "SLN versus RLN, no left RLN Long convergent implant on left side Wed Oct 23 2013 15 39 59.Check_Onset.psub.png\n",
        "SLN versus RLN, no left RLN Long convergent implant on left side Wed Oct 23 2013 15 39 59.Check_Onset.pout.png\n"
       ]
      }
     ],
     "prompt_number": 15
    },
    {
     "cell_type": "code",
     "collapsed": false,
     "input": [
      "import shlex, subprocess"
     ],
     "language": "python",
     "metadata": {},
     "outputs": [],
     "prompt_number": 14
    },
    {
     "cell_type": "code",
     "collapsed": false,
     "input": [
      "psubfiles = [item for item in specgramfiles if item.find('.psub.') > 0]\n",
      "poutfiles = [item for item in specgramfiles if item.find('.pout.') > 0]"
     ],
     "language": "python",
     "metadata": {},
     "outputs": [],
     "prompt_number": 16
    },
    {
     "cell_type": "code",
     "collapsed": false,
     "input": [
      "string_psubfiles = \" \".join(['\"%s\"' % item for item in psubfiles])\n",
      "string_poutfiles = \" \".join(['\"%s\"' % item for item in poutfiles])"
     ],
     "language": "python",
     "metadata": {},
     "outputs": [],
     "prompt_number": 10
    },
    {
     "cell_type": "code",
     "collapsed": false,
     "input": [
      "cmd = 'viewnior %s' % string_psubfiles\n",
      "\n",
      "subprocess.check_output(shlex.split(cmd), stderr = subprocess.STDOUT)"
     ],
     "language": "python",
     "metadata": {},
     "outputs": [
      {
       "metadata": {},
       "output_type": "pyout",
       "prompt_number": 57,
       "text": [
        "''"
       ]
      }
     ],
     "prompt_number": 57
    },
    {
     "cell_type": "code",
     "collapsed": false,
     "input": [
      "for item in poutfiles + psubfiles: # checkonsetfiles:\n",
      "    cmd = 'ln -s \"%s\" ./Implant_2013_10_30/specgrams/' % item\n",
      "    subprocess.check_output(shlex.split(cmd), stderr = subprocess.STDOUT)"
     ],
     "language": "python",
     "metadata": {},
     "outputs": [],
     "prompt_number": 18
    },
    {
     "cell_type": "markdown",
     "metadata": {},
     "source": [
      "cmd = 'zip implant_specgrams.zip %s' % all_psubfiles"
     ]
    },
    {
     "cell_type": "code",
     "collapsed": false,
     "input": [],
     "language": "python",
     "metadata": {},
     "outputs": []
    }
   ],
   "metadata": {}
  }
 ]
}