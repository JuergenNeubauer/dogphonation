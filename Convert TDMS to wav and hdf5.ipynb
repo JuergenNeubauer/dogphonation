{
 "metadata": {
  "name": ""
 },
 "nbformat": 3,
 "nbformat_minor": 0,
 "worksheets": [
  {
   "cells": [
    {
     "cell_type": "code",
     "collapsed": false,
     "input": [
      "import os, sys"
     ],
     "language": "python",
     "metadata": {},
     "outputs": [],
     "prompt_number": 1
    },
    {
     "cell_type": "code",
     "collapsed": false,
     "input": [
      "sys.path.append('./tools/')"
     ],
     "language": "python",
     "metadata": {},
     "outputs": [],
     "prompt_number": 2
    },
    {
     "cell_type": "code",
     "collapsed": false,
     "input": [
      "from IPython.parallel import Client\n",
      "from IPython.parallel import require"
     ],
     "language": "python",
     "metadata": {},
     "outputs": [],
     "prompt_number": 3
    },
    {
     "cell_type": "code",
     "collapsed": false,
     "input": [
      "client = Client()"
     ],
     "language": "python",
     "metadata": {},
     "outputs": [],
     "prompt_number": 4
    },
    {
     "cell_type": "code",
     "collapsed": false,
     "input": [
      "directview = client[:]"
     ],
     "language": "python",
     "metadata": {},
     "outputs": [],
     "prompt_number": 5
    },
    {
     "cell_type": "code",
     "collapsed": false,
     "input": [
      "print client.ids\n",
      "Ncpus = len(client.ids)"
     ],
     "language": "python",
     "metadata": {},
     "outputs": [
      {
       "output_type": "stream",
       "stream": "stdout",
       "text": [
        "[0, 1, 2, 3, 4, 5, 6, 7, 8, 9, 10, 11, 12, 13, 14, 15]\n"
       ]
      }
     ],
     "prompt_number": 6
    },
    {
     "cell_type": "code",
     "collapsed": false,
     "input": [
      "import readTDMS\n",
      "import readTDMS as tdms"
     ],
     "language": "python",
     "metadata": {},
     "outputs": [],
     "prompt_number": 7
    },
    {
     "cell_type": "code",
     "collapsed": false,
     "input": [
      "rootdir = '/mnt/workspace/InVivoDog_2013_12_11/'"
     ],
     "language": "python",
     "metadata": {},
     "outputs": [],
     "prompt_number": 9
    },
    {
     "cell_type": "code",
     "collapsed": false,
     "input": [
      "!ls -alot $rootdir"
     ],
     "language": "python",
     "metadata": {},
     "outputs": [
      {
       "output_type": "stream",
       "stream": "stdout",
       "text": [
        "total 36\r\n",
        "drwxr-xr-x  7 neubauer 4096 Dec 11 17:30 asymmetric RLN\r\n",
        "drwxr-xr-x  5 neubauer 4096 Dec 11 17:13 right SLN\r\n",
        "drwxr-xr-x  5 neubauer 4096 Dec 11 17:08 left SLN\r\n",
        "drwxr-xr-x  4 neubauer 4096 Dec 11 16:19 left RLN\r\n",
        "drwxr-xr-x  4 neubauer 4096 Dec 11 16:19 right RLN\r\n",
        "drwxr-xr-x  3 neubauer 4096 Dec 11 15:18 both RLN\r\n",
        "drwxr-xr-x  9 neubauer 4096 Dec 11 15:18 .\r\n",
        "drwxr-xr-x  9 neubauer 4096 Dec 11 15:13 data LabView\r\n",
        "drwxr-xr-x 19 neubauer 4096 Dec 11 15:11 ..\r\n"
       ]
      }
     ],
     "prompt_number": 10
    },
    {
     "cell_type": "code",
     "collapsed": false,
     "input": [
      "def test(rootdir = '/mnt/workspace'):\n",
      "    import sys\n",
      "    sys.path.append('/extra/public/python/tools/')\n",
      "    import readTDMS as tdms\n",
      "    return tdms.datatdms(rootdir = rootdir)"
     ],
     "language": "python",
     "metadata": {},
     "outputs": [],
     "prompt_number": 12
    },
    {
     "cell_type": "code",
     "collapsed": false,
     "input": [
      "r = directview.apply_sync(test, rootdir = rootdir)"
     ],
     "language": "python",
     "metadata": {},
     "outputs": [],
     "prompt_number": 13
    },
    {
     "cell_type": "code",
     "collapsed": false,
     "input": [
      "ls -alo $rootdir/data\\ LabView"
     ],
     "language": "python",
     "metadata": {},
     "outputs": [
      {
       "output_type": "stream",
       "stream": "stdout",
       "text": [
        "total 36\r\n",
        "drwxr-xr-x 9 neubauer 4096 Dec 11 15:13 \u001b[0m\u001b[01;34m.\u001b[0m/\r\n",
        "drwxr-xr-x 9 neubauer 4096 Dec 11 15:18 \u001b[01;34m..\u001b[0m/\r\n",
        "drwxr-xr-x 7 neubauer 4096 Dec 11 15:16 \u001b[01;34masymmetric RLN\u001b[0m/\r\n",
        "drwxr-xr-x 3 neubauer 4096 Dec 11 15:13 \u001b[01;34mboth RLN\u001b[0m/\r\n",
        "drwxr-xr-x 4 neubauer 4096 Dec 11 15:15 \u001b[01;34mleft RLN\u001b[0m/\r\n",
        "drwxr-xr-x 5 neubauer 4096 Dec 11 15:15 \u001b[01;34mleft SLN\u001b[0m/\r\n",
        "drwxr-xr-x 4 neubauer 4096 Dec 11 15:15 \u001b[01;34mright RLN\u001b[0m/\r\n",
        "drwxr-xr-x 5 neubauer 4096 Dec 11 15:15 \u001b[01;34mright SLN\u001b[0m/\r\n",
        "drwxr-xr-x 5 neubauer 4096 Dec 11 15:15 \u001b[01;34mtesting\u001b[0m/\r\n"
       ]
      }
     ],
     "prompt_number": 11
    },
    {
     "cell_type": "code",
     "collapsed": false,
     "input": [
      "tdmsfiles = tdms.datatdms(rootdir = rootdir)"
     ],
     "language": "python",
     "metadata": {},
     "outputs": [],
     "prompt_number": 15
    },
    {
     "cell_type": "code",
     "collapsed": false,
     "input": [
      "def process_tdmsfile(tdmsfile_info, rerun = False):\n",
      "    import os, sys\n",
      "    sys.path.append('/extra/public/python/tools/')\n",
      "    import readTDMS as tdms\n",
      "    \n",
      "    casedir, casename = tdmsfile_info\n",
      "    \n",
      "    hdf5name = os.path.join(casedir, casename.replace('.tdms', '.hdf5'))\n",
      "    \n",
      "    if rerun == False:\n",
      "        # skip already converted files\n",
      "        if os.path.isfile(hdf5name):\n",
      "            if os.path.getsize(hdf5name) > 0:\n",
      "                return\n",
      "        \n",
      "    # print casedir + \": \" + casename\n",
      "    \n",
      "    metadata, rawdata, datafilename = tdms.readfile(casedir, casename)\n",
      "    \n",
      "    expdata = tdms.tdmstodict(metadata, rawdata)\n",
      "    \n",
      "    del rawdata, metadata\n",
      "    \n",
      "    recordings = tdms.formatrecordings(expdata)\n",
      "    \n",
      "    del expdata\n",
      "    \n",
      "    tdmsfilename = datafilename\n",
      "    hdf5filename = tdms.savehdf5(tdmsfilename, recordings)\n",
      "    \n",
      "    return casedir + \": \" + casename"
     ],
     "language": "python",
     "metadata": {},
     "outputs": [],
     "prompt_number": 16
    },
    {
     "cell_type": "markdown",
     "metadata": {},
     "source": [
      "# serial run on only ONE cpu\n",
      "for tdmsfile_info in tdmsfiles:\n",
      "    process_tdmsfile(tdmsfile_info, rerun = False)"
     ]
    },
    {
     "cell_type": "code",
     "collapsed": false,
     "input": [
      "rerun = [False] * len(tdmsfiles)"
     ],
     "language": "python",
     "metadata": {},
     "outputs": [],
     "prompt_number": 17
    },
    {
     "cell_type": "code",
     "collapsed": false,
     "input": [
      "directview.map(process_tdmsfile, tdmsfiles, rerun, block = True)"
     ],
     "language": "python",
     "metadata": {},
     "outputs": [
      {
       "output_type": "pyout",
       "prompt_number": 18,
       "text": [
        "['/mnt/workspace/InVivoDog_2013_12_11/data LabView/right RLN/range finding: right RLN range finding Wed Dec 11 2013 12 54 51.tdms',\n",
        " '/mnt/workspace/InVivoDog_2013_12_11/data LabView/right RLN/range finding: right RLN range finding Wed Dec 11 2013 12 57 00.tdms',\n",
        " '/mnt/workspace/InVivoDog_2013_12_11/data LabView/right RLN/range checking: right RLN range checking Wed Dec 11 2013 14 13 26.tdms',\n",
        " '/mnt/workspace/InVivoDog_2013_12_11/data LabView/asymmetric RLN/SLN level 1: asymmetric RLN SLN level 1 Wed Dec 11 2013 13 39 49.tdms',\n",
        " '/mnt/workspace/InVivoDog_2013_12_11/data LabView/asymmetric RLN/SLN level 4: asymmetric RLN SLN level 3 Wed Dec 11 2013 13 56 16.tdms',\n",
        " '/mnt/workspace/InVivoDog_2013_12_11/data LabView/asymmetric RLN/SLN level 3: asymmetric RLN SLN level 3 Wed Dec 11 2013 13 47 57.tdms',\n",
        " '/mnt/workspace/InVivoDog_2013_12_11/data LabView/asymmetric RLN/SLN level 2: asymmetric RLN SLN level 2 Wed Dec 11 2013 13 31 32.tdms',\n",
        " '/mnt/workspace/InVivoDog_2013_12_11/data LabView/asymmetric RLN/No SLN: asymmetric RLN No SLN Wed Dec 11 2013 13 14 16.tdms',\n",
        " '/mnt/workspace/InVivoDog_2013_12_11/data LabView/testing/offsets flow 342 mls: testing offsets flow 342 mls Wed Dec 11 2013 12 26 29.tdms',\n",
        " '/mnt/workspace/InVivoDog_2013_12_11/data LabView/testing/offsets flow 300 mls: testing offsets flow 300 mls Wed Dec 11 2013 12 28 07.tdms',\n",
        " '/mnt/workspace/InVivoDog_2013_12_11/data LabView/testing/offsets: testing offsets Wed Dec 11 2013 12 24 06.tdms',\n",
        " '/mnt/workspace/InVivoDog_2013_12_11/data LabView/right SLN/range finding: right SLN range finding Wed Dec 11 2013 12 46 27.tdms',\n",
        " '/mnt/workspace/InVivoDog_2013_12_11/data LabView/right SLN/range finding: right SLN range finding Wed Dec 11 2013 12 47 45.tdms',\n",
        " '/mnt/workspace/InVivoDog_2013_12_11/data LabView/right SLN/range finding: right SLN range finding Wed Dec 11 2013 12 44 36.tdms',\n",
        " '/mnt/workspace/InVivoDog_2013_12_11/data LabView/right SLN/SLN cut range checking: right SLN SLN cut range checking Wed Dec 11 2013 14 35 36.tdms',\n",
        " '/mnt/workspace/InVivoDog_2013_12_11/data LabView/right SLN/range checking: right SLN range checking Wed Dec 11 2013 14 11 19.tdms',\n",
        " '/mnt/workspace/InVivoDog_2013_12_11/data LabView/both RLN/range finding: both RLN range finding Wed Dec 11 2013 13 05 06.tdms',\n",
        " '/mnt/workspace/InVivoDog_2013_12_11/data LabView/both RLN/range finding: both RLN range finding Wed Dec 11 2013 12 58 32.tdms',\n",
        " '/mnt/workspace/InVivoDog_2013_12_11/data LabView/left SLN/range finding: left SLN range finding Wed Dec 11 2013 12 40 58.tdms',\n",
        " '/mnt/workspace/InVivoDog_2013_12_11/data LabView/left SLN/range finding: left SLN range finding Wed Dec 11 2013 12 43 17.tdms',\n",
        " '/mnt/workspace/InVivoDog_2013_12_11/data LabView/left SLN/SLN cut range checking: left SLN SLN cut range checking Wed Dec 11 2013 14 34 18.tdms',\n",
        " '/mnt/workspace/InVivoDog_2013_12_11/data LabView/left SLN/range checking: left SLN range checking Wed Dec 11 2013 14 09 00.tdms',\n",
        " '/mnt/workspace/InVivoDog_2013_12_11/data LabView/left RLN/range finding: left RLN range finding Wed Dec 11 2013 12 48 53.tdms',\n",
        " '/mnt/workspace/InVivoDog_2013_12_11/data LabView/left RLN/range finding: left RLN range finding Wed Dec 11 2013 12 52 29.tdms',\n",
        " '/mnt/workspace/InVivoDog_2013_12_11/data LabView/left RLN/range checking: left RLN range checking Wed Dec 11 2013 14 12 28.tdms']"
       ]
      }
     ],
     "prompt_number": 18
    },
    {
     "cell_type": "code",
     "collapsed": false,
     "input": [
      "len(_)"
     ],
     "language": "python",
     "metadata": {},
     "outputs": [
      {
       "output_type": "pyout",
       "prompt_number": 19,
       "text": [
        "25"
       ]
      }
     ],
     "prompt_number": 19
    },
    {
     "cell_type": "code",
     "collapsed": false,
     "input": [
      "import wavfileconversion as wavconversion"
     ],
     "language": "python",
     "metadata": {},
     "outputs": [],
     "prompt_number": 20
    },
    {
     "cell_type": "markdown",
     "metadata": {},
     "source": [
      "# serial processing on ONE cpu\n",
      "wavconversion.process(rootdir = rootdir)"
     ]
    },
    {
     "cell_type": "code",
     "collapsed": false,
     "input": [
      "def process_wavconversion(tdmsfile_info):\n",
      "    import os, sys\n",
      "    sys.path.append('/extra/public/python/tools/')\n",
      "    \n",
      "    import wavfileconversion as wavconversion\n",
      "    \n",
      "    wavconversion.process(tdmsfile_info)"
     ],
     "language": "python",
     "metadata": {},
     "outputs": [],
     "prompt_number": 21
    },
    {
     "cell_type": "code",
     "collapsed": false,
     "input": [
      "directview.map(process_wavconversion, tdmsfiles, block = True)"
     ],
     "language": "python",
     "metadata": {},
     "outputs": [
      {
       "output_type": "pyout",
       "prompt_number": 22,
       "text": [
        "[None,\n",
        " None,\n",
        " None,\n",
        " None,\n",
        " None,\n",
        " None,\n",
        " None,\n",
        " None,\n",
        " None,\n",
        " None,\n",
        " None,\n",
        " None,\n",
        " None,\n",
        " None,\n",
        " None,\n",
        " None,\n",
        " None,\n",
        " None,\n",
        " None,\n",
        " None,\n",
        " None,\n",
        " None,\n",
        " None,\n",
        " None,\n",
        " None]"
       ]
      }
     ],
     "prompt_number": 22
    },
    {
     "cell_type": "code",
     "collapsed": false,
     "input": [
      "len(_)"
     ],
     "language": "python",
     "metadata": {},
     "outputs": [
      {
       "output_type": "pyout",
       "prompt_number": 23,
       "text": [
        "25"
       ]
      }
     ],
     "prompt_number": 23
    },
    {
     "cell_type": "code",
     "collapsed": false,
     "input": [],
     "language": "python",
     "metadata": {},
     "outputs": []
    }
   ],
   "metadata": {}
  }
 ]
}