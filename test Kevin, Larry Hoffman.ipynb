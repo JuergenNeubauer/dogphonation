{
 "metadata": {
  "name": "test Kevin, Larry Hoffman"
 },
 "nbformat": 3,
 "nbformat_minor": 0,
 "worksheets": [
  {
   "cells": [
    {
     "cell_type": "code",
     "collapsed": false,
     "input": [
      "import numpy as np\n",
      "import scipy as sci"
     ],
     "language": "python",
     "metadata": {},
     "outputs": [],
     "prompt_number": 1
    },
    {
     "cell_type": "code",
     "collapsed": false,
     "input": [
      "from scipy.stats import distributions\n",
      "from scipy.optimize import curve_fit, leastsq"
     ],
     "language": "python",
     "metadata": {},
     "outputs": [],
     "prompt_number": 3
    },
    {
     "cell_type": "code",
     "collapsed": false,
     "input": [
      "gamma = distributions.gamma"
     ],
     "language": "python",
     "metadata": {},
     "outputs": [],
     "prompt_number": 69
    },
    {
     "cell_type": "code",
     "collapsed": false,
     "input": [
      "## Gamma (Use MATLAB and MATHEMATICA (b=theta=scale, a=alpha=shape) definition)\n",
      "\n",
      "## gamma(a, loc, scale)  with a an integer is the Erlang distribution\n",
      "## gamma(1, loc, scale)  is the Exponential distribution\n",
      "## gamma(df/2, 0, 2) is the chi2 distribution with df degrees of freedom.\n",
      "\n",
      "def gamma_distribution(x, a, l, loc = 0.0):\n",
      "    \"\"\"\n",
      "    return the gamma distribution value for x with parameter a and l = lambda\n",
      "    a = alpha = shape\n",
      "    b = theta = scale = 1 / lambda = 1 / l\n",
      "    \"\"\"\n",
      "    scale = 1.0 / l\n",
      "    \n",
      "    return gamma.pdf(x, a, loc = loc, scale = scale)"
     ],
     "language": "python",
     "metadata": {},
     "outputs": [],
     "prompt_number": 84
    },
    {
     "cell_type": "code",
     "collapsed": false,
     "input": [
      "g = gamma_distribution(np.arange(0, 10, 0.1), 2.0, 1.0 / 2.0)"
     ],
     "language": "python",
     "metadata": {},
     "outputs": [],
     "prompt_number": 88
    },
    {
     "cell_type": "code",
     "collapsed": false,
     "input": [
      "import matplotlib.pyplot as plt"
     ],
     "language": "python",
     "metadata": {},
     "outputs": [],
     "prompt_number": 87
    },
    {
     "cell_type": "code",
     "collapsed": false,
     "input": [
      "plt.plot(g)"
     ],
     "language": "python",
     "metadata": {},
     "outputs": [
      {
       "output_type": "pyout",
       "prompt_number": 89,
       "text": [
        "[<matplotlib.lines.Line2D at 0x3664e50>]"
       ]
      }
     ],
     "prompt_number": 89
    },
    {
     "cell_type": "code",
     "collapsed": false,
     "input": [
      "plt.show"
     ],
     "language": "python",
     "metadata": {},
     "outputs": [],
     "prompt_number": 90
    },
    {
     "cell_type": "code",
     "collapsed": false,
     "input": [],
     "language": "python",
     "metadata": {},
     "outputs": []
    }
   ],
   "metadata": {}
  }
 ]
}