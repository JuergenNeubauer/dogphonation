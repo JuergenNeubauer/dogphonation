{
 "metadata": {
  "name": "PreprocessingCalibrationTarget"
 },
 "nbformat": 3,
 "nbformat_minor": 0,
 "worksheets": [
  {
   "cells": [
    {
     "cell_type": "code",
     "collapsed": false,
     "input": [
      "import numpy as np\n",
      "\n",
      "import scipy.ndimage.filters as filters\n",
      "import scipy.ndimage.morphology as morphology"
     ],
     "language": "python",
     "metadata": {},
     "outputs": [],
     "prompt_number": 1
    },
    {
     "cell_type": "code",
     "collapsed": false,
     "input": [
      "# http://stackoverflow.com/questions/3986345/how-to-find-the-local-minima-of-a-smooth-multidimensional-array-in-numpy-efficie\n",
      "def detect_local_minima(arr):\n",
      "    # http://stackoverflow.com/questions/3684484/peak-detection-in-a-2d-array/3689710#3689710\n",
      "    \"\"\"\n",
      "    Takes an array and detects the troughs using the local maximum filter.\n",
      "    Returns a boolean mask of the troughs (i.e. 1 when\n",
      "    the pixel's value is the neighborhood maximum, 0 otherwise)\n",
      "    \"\"\"\n",
      "    # define an connected neighborhood\n",
      "    # http://www.scipy.org/doc/api_docs/SciPy.ndimage.morphology.html#generate_binary_structure\n",
      "    connectivity = 2\n",
      "    neighborhood = morphology.generate_binary_structure(np.ndim(arr), connectivity)\n",
      "    \n",
      "    # apply the local minimum filter; all locations of minimum value \n",
      "    # in their neighborhood are set to 1\n",
      "    # http://www.scipy.org/doc/api_docs/SciPy.ndimage.filters.html#minimum_filter\n",
      "    local_min = (filters.minimum_filter(arr, footprint = neighborhood) == arr)\n",
      "    \n",
      "    # local_min is a mask that contains the peaks we are \n",
      "    # looking for, but also the background.\n",
      "    # In order to isolate the peaks we must remove the background from the mask.\n",
      "    # \n",
      "    # we create the mask of the background\n",
      "    background = (arr == 0)\n",
      "     \n",
      "    # a little technicality: we must erode the background in order to \n",
      "    # successfully subtract it from local_min, otherwise a line will \n",
      "    # appear along the background border (artifact of the local minimum filter)\n",
      "    # http://www.scipy.org/doc/api_docs/SciPy.ndimage.morphology.html#binary_erosion\n",
      "    eroded_background = morphology.binary_erosion(background, structure = neighborhood, border_value = 1)\n",
      "\n",
      "    # we obtain the final mask, containing only peaks, \n",
      "    # by removing the background from the local_min mask\n",
      "    detected_minima = local_min - eroded_background\n",
      "    \n",
      "    return np.where(detected_minima)       "
     ],
     "language": "python",
     "metadata": {},
     "outputs": []
    },
    {
     "cell_type": "code",
     "collapsed": false,
     "input": [],
     "language": "python",
     "metadata": {},
     "outputs": []
    }
   ],
   "metadata": {}
  }
 ]
}