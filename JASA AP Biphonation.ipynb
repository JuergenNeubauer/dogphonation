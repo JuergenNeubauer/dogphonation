{
 "metadata": {
  "name": ""
 },
 "nbformat": 3,
 "nbformat_minor": 0,
 "worksheets": [
  {
   "cells": [
    {
     "cell_type": "code",
     "collapsed": false,
     "input": [
      "import sys, os, csv, glob\n",
      "import numpy as np\n",
      "\n",
      "# %pylab inline\n",
      "\n",
      "import matplotlib as mpl\n",
      "# use the backend for inline plots in the IPython Notebook\n",
      "# so then don't need to use magic pylab with inline option\n",
      "mpl.use('module://IPython.kernel.zmq.pylab.backend_inline')\n",
      "\n",
      "import matplotlib.pyplot as plt\n",
      "\n",
      "print \"Matplotlib will use backend: \", mpl.get_backend()\n",
      "print \"Pyplot will use backend: \", plt.get_backend()"
     ],
     "language": "python",
     "metadata": {},
     "outputs": [
      {
       "output_type": "stream",
       "stream": "stdout",
       "text": [
        "Matplotlib will use backend:  module://IPython.kernel.zmq.pylab.backend_inline\n",
        "Pyplot will use backend:  module://IPython.kernel.zmq.pylab.backend_inline\n"
       ]
      }
     ],
     "prompt_number": 1
    },
    {
     "cell_type": "code",
     "collapsed": false,
     "input": [
      "from IPython.display import HTML\n",
      "def webframe(urlstring, width = 1000, height = 500):\n",
      "        return HTML(\"<iframe src=%s width=%d height=%d></iframe>\" % (urlstring, width, height))"
     ],
     "language": "python",
     "metadata": {},
     "outputs": [],
     "prompt_number": 2
    },
    {
     "cell_type": "code",
     "collapsed": false,
     "input": [
      "webframe(\"http://jneubaue.bol.ucla.edu/publications/JAS03179.pdf\", width = 1300)"
     ],
     "language": "python",
     "metadata": {},
     "outputs": [
      {
       "html": [
        "<iframe src=http://jneubaue.bol.ucla.edu/publications/JAS03179.pdf width=1300 height=500></iframe>"
       ],
       "metadata": {},
       "output_type": "pyout",
       "prompt_number": 3,
       "text": [
        "<IPython.core.display.HTML at 0x2b4b390>"
       ]
      }
     ],
     "prompt_number": 3
    },
    {
     "cell_type": "markdown",
     "metadata": {},
     "source": [
      "analysis for JASA paper is in:\n",
      "\n",
      "/extra/backup_lighthill/homelighthill/neubauer/documents/jasapaper/figures/matlab"
     ]
    },
    {
     "cell_type": "code",
     "collapsed": false,
     "input": [
      "sys.path.append('./tools/')"
     ],
     "language": "python",
     "metadata": {},
     "outputs": [],
     "prompt_number": 5
    },
    {
     "cell_type": "code",
     "collapsed": false,
     "input": [
      "from pca import PCA"
     ],
     "language": "python",
     "metadata": {},
     "outputs": [],
     "prompt_number": 6
    },
    {
     "cell_type": "code",
     "collapsed": false,
     "input": [
      "help PCA"
     ],
     "language": "python",
     "metadata": {},
     "outputs": [
      {
       "output_type": "stream",
       "stream": "stdout",
       "text": [
        "Help on function PCA in module pca:\n",
        "\n",
        "PCA(datamatrix, centering=False)\n",
        "    Performs a PCA, a Principal Component Analysis\n",
        "    \n",
        "    datamatrix: different variables along columns, different observations along rows\n",
        "    centering: remove the mean of each column, so calculate the mean along/down each row for each column\n",
        "    \n",
        "    returns: eigval, norm_eigval, eigvec, projection_vec\n",
        "\n"
       ]
      }
     ],
     "prompt_number": 7
    },
    {
     "cell_type": "code",
     "collapsed": false,
     "input": [],
     "language": "python",
     "metadata": {},
     "outputs": []
    }
   ],
   "metadata": {}
  }
 ]
}